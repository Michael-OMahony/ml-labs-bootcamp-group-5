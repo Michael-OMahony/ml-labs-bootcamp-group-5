{
 "cells": [
  {
   "cell_type": "code",
   "execution_count": 1,
   "metadata": {},
   "outputs": [],
   "source": [
    "%load_ext autoreload\n",
    "%autoreload 2"
   ]
  },
  {
   "cell_type": "code",
   "execution_count": 2,
   "metadata": {},
   "outputs": [
    {
     "name": "stdout",
     "output_type": "stream",
     "text": [
      "/Users/tj/dcu/Group-Project\n"
     ]
    }
   ],
   "source": [
    "cd .."
   ]
  },
  {
   "cell_type": "markdown",
   "metadata": {},
   "source": [
    "# Data"
   ]
  },
  {
   "cell_type": "code",
   "execution_count": 3,
   "metadata": {},
   "outputs": [],
   "source": [
    "from src.features.basic import features\n",
    "from src.features.common import postproc_default\n",
    "from src.dataset.tc4tl import make_datasets\n",
    "from src.hyperopt import RFP_PARAMS"
   ]
  },
  {
   "cell_type": "code",
   "execution_count": 17,
   "metadata": {},
   "outputs": [
    {
     "name": "stderr",
     "output_type": "stream",
     "text": [
      "100%|██████████| 100/100 [00:00<00:00, 576.64it/s]\n",
      "100%|██████████| 100/100 [00:00<00:00, 655.88it/s]\n",
      "100%|██████████| 100/100 [00:00<00:00, 588.83it/s]\n"
     ]
    }
   ],
   "source": [
    "trainset, devset, testset = make_datasets(features, postproc_default, tunables=RFP_PARAMS, verbose=True, testing=100)"
   ]
  },
  {
   "cell_type": "code",
   "execution_count": 15,
   "metadata": {},
   "outputs": [
    {
     "data": {
      "text/html": [
       "<div>\n",
       "<style scoped>\n",
       "    .dataframe tbody tr th:only-of-type {\n",
       "        vertical-align: middle;\n",
       "    }\n",
       "\n",
       "    .dataframe tbody tr th {\n",
       "        vertical-align: top;\n",
       "    }\n",
       "\n",
       "    .dataframe thead th {\n",
       "        text-align: right;\n",
       "    }\n",
       "</style>\n",
       "<table border=\"1\" class=\"dataframe\">\n",
       "  <thead>\n",
       "    <tr style=\"text-align: right;\">\n",
       "      <th></th>\n",
       "      <th>RssiMin</th>\n",
       "      <th>RssiMax</th>\n",
       "      <th>RssiMean</th>\n",
       "      <th>CoarseGrain</th>\n",
       "      <th>fileid</th>\n",
       "      <th>Distance</th>\n",
       "      <th>DistanceFloat</th>\n",
       "      <th>RssiMinDistance</th>\n",
       "      <th>RssiMaxDistance</th>\n",
       "      <th>RssiMeanDistance</th>\n",
       "    </tr>\n",
       "  </thead>\n",
       "  <tbody>\n",
       "    <tr>\n",
       "      <th>0</th>\n",
       "      <td>-96.0</td>\n",
       "      <td>-65.0</td>\n",
       "      <td>-76.373585</td>\n",
       "      <td>1</td>\n",
       "      <td>ujopbzgg_tc4tl20.csv</td>\n",
       "      <td>4.5</td>\n",
       "      <td>4.5</td>\n",
       "      <td>39.760451</td>\n",
       "      <td>1.520493</td>\n",
       "      <td>5.035454</td>\n",
       "    </tr>\n",
       "    <tr>\n",
       "      <th>1</th>\n",
       "      <td>-98.0</td>\n",
       "      <td>-49.0</td>\n",
       "      <td>-64.356547</td>\n",
       "      <td>0</td>\n",
       "      <td>cayohaoh_tc4tl20.csv</td>\n",
       "      <td>4.5</td>\n",
       "      <td>4.5</td>\n",
       "      <td>49.079573</td>\n",
       "      <td>0.282091</td>\n",
       "      <td>1.420897</td>\n",
       "    </tr>\n",
       "    <tr>\n",
       "      <th>2</th>\n",
       "      <td>-76.0</td>\n",
       "      <td>-51.0</td>\n",
       "      <td>-58.155763</td>\n",
       "      <td>1</td>\n",
       "      <td>pvnregmh_tc4tl20.csv</td>\n",
       "      <td>1.8</td>\n",
       "      <td>1.8</td>\n",
       "      <td>4.841239</td>\n",
       "      <td>0.348208</td>\n",
       "      <td>0.739662</td>\n",
       "    </tr>\n",
       "    <tr>\n",
       "      <th>3</th>\n",
       "      <td>-91.0</td>\n",
       "      <td>-61.0</td>\n",
       "      <td>-73.291252</td>\n",
       "      <td>0</td>\n",
       "      <td>lipprkdy_tc4tl20.csv</td>\n",
       "      <td>4.5</td>\n",
       "      <td>4.5</td>\n",
       "      <td>23.487004</td>\n",
       "      <td>0.997897</td>\n",
       "      <td>3.639987</td>\n",
       "    </tr>\n",
       "    <tr>\n",
       "      <th>4</th>\n",
       "      <td>-92.0</td>\n",
       "      <td>-53.0</td>\n",
       "      <td>-65.235140</td>\n",
       "      <td>0</td>\n",
       "      <td>akyvvxvo_tc4tl20.csv</td>\n",
       "      <td>4.5</td>\n",
       "      <td>4.5</td>\n",
       "      <td>26.094703</td>\n",
       "      <td>0.429821</td>\n",
       "      <td>1.558605</td>\n",
       "    </tr>\n",
       "    <tr>\n",
       "      <th>...</th>\n",
       "      <td>...</td>\n",
       "      <td>...</td>\n",
       "      <td>...</td>\n",
       "      <td>...</td>\n",
       "      <td>...</td>\n",
       "      <td>...</td>\n",
       "      <td>...</td>\n",
       "      <td>...</td>\n",
       "      <td>...</td>\n",
       "      <td>...</td>\n",
       "    </tr>\n",
       "    <tr>\n",
       "      <th>95</th>\n",
       "      <td>-91.0</td>\n",
       "      <td>-59.0</td>\n",
       "      <td>-67.427136</td>\n",
       "      <td>0</td>\n",
       "      <td>optadgkr_tc4tl20.csv</td>\n",
       "      <td>4.5</td>\n",
       "      <td>4.5</td>\n",
       "      <td>23.487004</td>\n",
       "      <td>0.808418</td>\n",
       "      <td>1.963200</td>\n",
       "    </tr>\n",
       "    <tr>\n",
       "      <th>96</th>\n",
       "      <td>-80.0</td>\n",
       "      <td>-56.0</td>\n",
       "      <td>-66.090598</td>\n",
       "      <td>0</td>\n",
       "      <td>rvebtbzu_tc4tl20.csv</td>\n",
       "      <td>4.5</td>\n",
       "      <td>4.5</td>\n",
       "      <td>7.376588</td>\n",
       "      <td>0.589470</td>\n",
       "      <td>1.705500</td>\n",
       "    </tr>\n",
       "    <tr>\n",
       "      <th>97</th>\n",
       "      <td>-91.0</td>\n",
       "      <td>-56.0</td>\n",
       "      <td>-72.453841</td>\n",
       "      <td>0</td>\n",
       "      <td>kvfqiqnz_tc4tl20.csv</td>\n",
       "      <td>1.8</td>\n",
       "      <td>1.8</td>\n",
       "      <td>23.487004</td>\n",
       "      <td>0.589470</td>\n",
       "      <td>3.332801</td>\n",
       "    </tr>\n",
       "    <tr>\n",
       "      <th>98</th>\n",
       "      <td>-96.0</td>\n",
       "      <td>-57.0</td>\n",
       "      <td>-66.962183</td>\n",
       "      <td>1</td>\n",
       "      <td>urbzdqte_tc4tl20.csv</td>\n",
       "      <td>4.5</td>\n",
       "      <td>4.5</td>\n",
       "      <td>39.760451</td>\n",
       "      <td>0.654917</td>\n",
       "      <td>1.869411</td>\n",
       "    </tr>\n",
       "    <tr>\n",
       "      <th>99</th>\n",
       "      <td>-75.0</td>\n",
       "      <td>-59.0</td>\n",
       "      <td>-67.065714</td>\n",
       "      <td>1</td>\n",
       "      <td>sagzyrsx_tc4tl20.csv</td>\n",
       "      <td>4.5</td>\n",
       "      <td>4.5</td>\n",
       "      <td>4.357444</td>\n",
       "      <td>0.808418</td>\n",
       "      <td>1.889899</td>\n",
       "    </tr>\n",
       "  </tbody>\n",
       "</table>\n",
       "<p>100 rows × 10 columns</p>\n",
       "</div>"
      ],
      "text/plain": [
       "    RssiMin  RssiMax   RssiMean  CoarseGrain                fileid Distance  \\\n",
       "0     -96.0    -65.0 -76.373585            1  ujopbzgg_tc4tl20.csv      4.5   \n",
       "1     -98.0    -49.0 -64.356547            0  cayohaoh_tc4tl20.csv      4.5   \n",
       "2     -76.0    -51.0 -58.155763            1  pvnregmh_tc4tl20.csv      1.8   \n",
       "3     -91.0    -61.0 -73.291252            0  lipprkdy_tc4tl20.csv      4.5   \n",
       "4     -92.0    -53.0 -65.235140            0  akyvvxvo_tc4tl20.csv      4.5   \n",
       "..      ...      ...        ...          ...                   ...      ...   \n",
       "95    -91.0    -59.0 -67.427136            0  optadgkr_tc4tl20.csv      4.5   \n",
       "96    -80.0    -56.0 -66.090598            0  rvebtbzu_tc4tl20.csv      4.5   \n",
       "97    -91.0    -56.0 -72.453841            0  kvfqiqnz_tc4tl20.csv      1.8   \n",
       "98    -96.0    -57.0 -66.962183            1  urbzdqte_tc4tl20.csv      4.5   \n",
       "99    -75.0    -59.0 -67.065714            1  sagzyrsx_tc4tl20.csv      4.5   \n",
       "\n",
       "    DistanceFloat  RssiMinDistance  RssiMaxDistance  RssiMeanDistance  \n",
       "0             4.5        39.760451         1.520493          5.035454  \n",
       "1             4.5        49.079573         0.282091          1.420897  \n",
       "2             1.8         4.841239         0.348208          0.739662  \n",
       "3             4.5        23.487004         0.997897          3.639987  \n",
       "4             4.5        26.094703         0.429821          1.558605  \n",
       "..            ...              ...              ...               ...  \n",
       "95            4.5        23.487004         0.808418          1.963200  \n",
       "96            4.5         7.376588         0.589470          1.705500  \n",
       "97            1.8        23.487004         0.589470          3.332801  \n",
       "98            4.5        39.760451         0.654917          1.869411  \n",
       "99            4.5         4.357444         0.808418          1.889899  \n",
       "\n",
       "[100 rows x 10 columns]"
      ]
     },
     "execution_count": 15,
     "metadata": {},
     "output_type": "execute_result"
    }
   ],
   "source": [
    "trainset"
   ]
  },
  {
   "cell_type": "markdown",
   "metadata": {},
   "source": [
    "## Evaluate Basic Feature"
   ]
  },
  {
   "cell_type": "code",
   "execution_count": 5,
   "metadata": {},
   "outputs": [
    {
     "data": {
      "text/plain": [
       "((935, 7), (8423, 7))"
      ]
     },
     "execution_count": 5,
     "metadata": {},
     "output_type": "execute_result"
    }
   ],
   "source": [
    "devset.shape, testset.shape"
   ]
  },
  {
   "cell_type": "code",
   "execution_count": 6,
   "metadata": {},
   "outputs": [],
   "source": [
    "from src.models.base import dual_evaluation\n",
    "import pandas as pd\n",
    "\n",
    "f1_report, sysout = dual_evaluation(pd.concat([trainset, devset]), testset,\n",
    "                    predictors=[\"RssiMin\", \"RssiMax\", \"RssiMean\", \"CoarseGrain\"],\n",
    "                    target=\"Distance\")"
   ]
  },
  {
   "cell_type": "code",
   "execution_count": 77,
   "metadata": {},
   "outputs": [
    {
     "name": "stdout",
     "output_type": "stream",
     "text": [
      "              precision    recall  f1-score   support\n",
      "\n",
      "         1.8       0.74      0.74      0.74      1423\n",
      "         4.5       0.74      0.73      0.74      1401\n",
      "\n",
      "    accuracy                           0.74      2824\n",
      "   macro avg       0.74      0.74      0.74      2824\n",
      "weighted avg       0.74      0.74      0.74      2824\n",
      "\n"
     ]
    }
   ],
   "source": [
    "print(f1_report['cg=0'])"
   ]
  },
  {
   "cell_type": "code",
   "execution_count": 78,
   "metadata": {},
   "outputs": [
    {
     "name": "stdout",
     "output_type": "stream",
     "text": [
      "              precision    recall  f1-score   support\n",
      "\n",
      "         1.2       0.55      0.58      0.57      1407\n",
      "         1.8       0.42      0.45      0.43      1408\n",
      "         3.0       0.38      0.38      0.38      1385\n",
      "         4.5       0.49      0.43      0.46      1399\n",
      "\n",
      "    accuracy                           0.46      5599\n",
      "   macro avg       0.46      0.46      0.46      5599\n",
      "weighted avg       0.46      0.46      0.46      5599\n",
      "\n"
     ]
    }
   ],
   "source": [
    "print(f1_report['cg=1'])"
   ]
  },
  {
   "cell_type": "code",
   "execution_count": 79,
   "metadata": {},
   "outputs": [
    {
     "data": {
      "text/html": [
       "<div>\n",
       "<style scoped>\n",
       "    .dataframe tbody tr th:only-of-type {\n",
       "        vertical-align: middle;\n",
       "    }\n",
       "\n",
       "    .dataframe tbody tr th {\n",
       "        vertical-align: top;\n",
       "    }\n",
       "\n",
       "    .dataframe thead th {\n",
       "        text-align: right;\n",
       "    }\n",
       "</style>\n",
       "<table border=\"1\" class=\"dataframe\">\n",
       "  <thead>\n",
       "    <tr style=\"text-align: right;\">\n",
       "      <th></th>\n",
       "      <th>Subset</th>\n",
       "      <th>Distance</th>\n",
       "      <th>P_miss</th>\n",
       "      <th>P_fa</th>\n",
       "      <th>nDCF</th>\n",
       "    </tr>\n",
       "  </thead>\n",
       "  <tbody>\n",
       "    <tr>\n",
       "      <th>0</th>\n",
       "      <td>fine_grain</td>\n",
       "      <td>1.2</td>\n",
       "      <td>0.417910</td>\n",
       "      <td>0.160544</td>\n",
       "      <td>0.578454</td>\n",
       "    </tr>\n",
       "    <tr>\n",
       "      <th>1</th>\n",
       "      <td>fine_grain</td>\n",
       "      <td>1.8</td>\n",
       "      <td>0.286323</td>\n",
       "      <td>0.355963</td>\n",
       "      <td>0.642286</td>\n",
       "    </tr>\n",
       "    <tr>\n",
       "      <th>2</th>\n",
       "      <td>fine_grain</td>\n",
       "      <td>3.0</td>\n",
       "      <td>0.150476</td>\n",
       "      <td>0.571122</td>\n",
       "      <td>0.721598</td>\n",
       "    </tr>\n",
       "    <tr>\n",
       "      <th>3</th>\n",
       "      <td>coarse_grain</td>\n",
       "      <td>1.8</td>\n",
       "      <td>0.255095</td>\n",
       "      <td>0.266238</td>\n",
       "      <td>0.521333</td>\n",
       "    </tr>\n",
       "  </tbody>\n",
       "</table>\n",
       "</div>"
      ],
      "text/plain": [
       "         Subset  Distance    P_miss      P_fa      nDCF\n",
       "0    fine_grain       1.2  0.417910  0.160544  0.578454\n",
       "1    fine_grain       1.8  0.286323  0.355963  0.642286\n",
       "2    fine_grain       3.0  0.150476  0.571122  0.721598\n",
       "3  coarse_grain       1.8  0.255095  0.266238  0.521333"
      ]
     },
     "execution_count": 79,
     "metadata": {},
     "output_type": "execute_result"
    }
   ],
   "source": [
    "from src.ndcf import compute_ndcf\n",
    "\n",
    "ndcf = compute_ndcf(sysout)\n",
    "ndcf"
   ]
  },
  {
   "cell_type": "code",
   "execution_count": 80,
   "metadata": {},
   "outputs": [
    {
     "data": {
      "text/plain": [
       "0.6159179861376931"
      ]
     },
     "execution_count": 80,
     "metadata": {},
     "output_type": "execute_result"
    }
   ],
   "source": [
    "ndcf[\"nDCF\"].mean()"
   ]
  },
  {
   "cell_type": "markdown",
   "metadata": {},
   "source": [
    "## Add Linear Approximation Distance Estimate as feature"
   ]
  },
  {
   "cell_type": "code",
   "execution_count": 60,
   "metadata": {},
   "outputs": [
    {
     "name": "stderr",
     "output_type": "stream",
     "text": [
      "100%|██████████| 15552/15552 [00:39<00:00, 395.24it/s]\n",
      "100%|██████████| 935/935 [00:01<00:00, 661.57it/s]\n",
      "100%|██████████| 8423/8423 [00:11<00:00, 747.50it/s]\n"
     ]
    }
   ],
   "source": [
    "from src.features import radioprop\n",
    "from src.featutils import compose\n",
    "from src.features.common import postproc_basic\n",
    "\n",
    "def f2(feats, tunables={}):\n",
    "    for name in [\"RssiMin\", \"RssiMax\", \"RssiMean\"]:\n",
    "        rssi = feats[name]\n",
    "        distance = radioprop.linear_approximation_model(rssi, **tunables[\"LinearApprox\"])\n",
    "        feats[name + \"Distance\"] = distance\n",
    "    return feats\n",
    "\n",
    "trainset, devset, testset = make_datasets(compose(features, f2), postproc_basic,\n",
    "                                          tunables=RFP_PARAMS, verbose=True, testing=0)"
   ]
  },
  {
   "cell_type": "code",
   "execution_count": 61,
   "metadata": {},
   "outputs": [
    {
     "data": {
      "text/html": [
       "<div>\n",
       "<style scoped>\n",
       "    .dataframe tbody tr th:only-of-type {\n",
       "        vertical-align: middle;\n",
       "    }\n",
       "\n",
       "    .dataframe tbody tr th {\n",
       "        vertical-align: top;\n",
       "    }\n",
       "\n",
       "    .dataframe thead th {\n",
       "        text-align: right;\n",
       "    }\n",
       "</style>\n",
       "<table border=\"1\" class=\"dataframe\">\n",
       "  <thead>\n",
       "    <tr style=\"text-align: right;\">\n",
       "      <th></th>\n",
       "      <th>RssiMin</th>\n",
       "      <th>RssiMax</th>\n",
       "      <th>RssiMean</th>\n",
       "      <th>RssiMinDistance</th>\n",
       "      <th>RssiMaxDistance</th>\n",
       "      <th>RssiMeanDistance</th>\n",
       "      <th>CoarseGrain</th>\n",
       "      <th>fileid</th>\n",
       "      <th>Distance</th>\n",
       "      <th>DistanceFloat</th>\n",
       "    </tr>\n",
       "  </thead>\n",
       "  <tbody>\n",
       "    <tr>\n",
       "      <th>0</th>\n",
       "      <td>0.383333</td>\n",
       "      <td>0.128713</td>\n",
       "      <td>0.343245</td>\n",
       "      <td>0.087135</td>\n",
       "      <td>0.064738</td>\n",
       "      <td>0.139819</td>\n",
       "      <td>0</td>\n",
       "      <td>aaadbuvp_tc4tl20.csv</td>\n",
       "      <td>1.8</td>\n",
       "      <td>1.8</td>\n",
       "    </tr>\n",
       "    <tr>\n",
       "      <th>1</th>\n",
       "      <td>0.583333</td>\n",
       "      <td>0.133663</td>\n",
       "      <td>0.470944</td>\n",
       "      <td>0.023335</td>\n",
       "      <td>0.058268</td>\n",
       "      <td>0.065995</td>\n",
       "      <td>1</td>\n",
       "      <td>aaamkcii_tc4tl20.csv</td>\n",
       "      <td>3.0</td>\n",
       "      <td>3.0</td>\n",
       "    </tr>\n",
       "    <tr>\n",
       "      <th>2</th>\n",
       "      <td>0.366667</td>\n",
       "      <td>0.138614</td>\n",
       "      <td>0.340356</td>\n",
       "      <td>0.097011</td>\n",
       "      <td>0.052445</td>\n",
       "      <td>0.142186</td>\n",
       "      <td>1</td>\n",
       "      <td>aabqtowt_tc4tl20.csv</td>\n",
       "      <td>1.2</td>\n",
       "      <td>1.2</td>\n",
       "    </tr>\n",
       "    <tr>\n",
       "      <th>3</th>\n",
       "      <td>0.300000</td>\n",
       "      <td>0.108911</td>\n",
       "      <td>0.235470</td>\n",
       "      <td>0.148762</td>\n",
       "      <td>0.098641</td>\n",
       "      <td>0.260539</td>\n",
       "      <td>1</td>\n",
       "      <td>aadkjwss_tc4tl20.csv</td>\n",
       "      <td>1.8</td>\n",
       "      <td>1.8</td>\n",
       "    </tr>\n",
       "    <tr>\n",
       "      <th>4</th>\n",
       "      <td>0.650000</td>\n",
       "      <td>0.148515</td>\n",
       "      <td>0.461564</td>\n",
       "      <td>0.014693</td>\n",
       "      <td>0.042487</td>\n",
       "      <td>0.069789</td>\n",
       "      <td>0</td>\n",
       "      <td>aafzrgzt_tc4tl20.csv</td>\n",
       "      <td>1.8</td>\n",
       "      <td>1.8</td>\n",
       "    </tr>\n",
       "  </tbody>\n",
       "</table>\n",
       "</div>"
      ],
      "text/plain": [
       "    RssiMin   RssiMax  RssiMean  RssiMinDistance  RssiMaxDistance  \\\n",
       "0  0.383333  0.128713  0.343245         0.087135         0.064738   \n",
       "1  0.583333  0.133663  0.470944         0.023335         0.058268   \n",
       "2  0.366667  0.138614  0.340356         0.097011         0.052445   \n",
       "3  0.300000  0.108911  0.235470         0.148762         0.098641   \n",
       "4  0.650000  0.148515  0.461564         0.014693         0.042487   \n",
       "\n",
       "   RssiMeanDistance  CoarseGrain                fileid Distance  DistanceFloat  \n",
       "0          0.139819            0  aaadbuvp_tc4tl20.csv      1.8            1.8  \n",
       "1          0.065995            1  aaamkcii_tc4tl20.csv      3.0            3.0  \n",
       "2          0.142186            1  aabqtowt_tc4tl20.csv      1.2            1.2  \n",
       "3          0.260539            1  aadkjwss_tc4tl20.csv      1.8            1.8  \n",
       "4          0.069789            0  aafzrgzt_tc4tl20.csv      1.8            1.8  "
      ]
     },
     "execution_count": 61,
     "metadata": {},
     "output_type": "execute_result"
    }
   ],
   "source": [
    "trainset.head()"
   ]
  },
  {
   "cell_type": "markdown",
   "metadata": {},
   "source": [
    "### Evaluate"
   ]
  },
  {
   "cell_type": "code",
   "execution_count": 72,
   "metadata": {},
   "outputs": [],
   "source": [
    "from src.models.base import dual_evaluation\n",
    "import pandas as pd\n",
    "\n",
    "# predictors = [ col for col in trainset.columns if 'rssi' in col.lower() or 'coarse' in col.lower() ]\n",
    "predictors = [\"RssiMin\", \"RssiMax\", \"RssiMean\", \"RssiMeanDistance\" , \"RssiMinDistance\", \"RssiMaxDistance\"]\n",
    "f1_report, sysout = dual_evaluation(pd.concat([trainset, devset]), testset,\n",
    "                    predictors=predictors, target=\"Distance\")"
   ]
  },
  {
   "cell_type": "code",
   "execution_count": 73,
   "metadata": {},
   "outputs": [
    {
     "name": "stdout",
     "output_type": "stream",
     "text": [
      "              precision    recall  f1-score   support\n",
      "\n",
      "         1.8       0.74      0.74      0.74      1423\n",
      "         4.5       0.74      0.73      0.73      1401\n",
      "\n",
      "    accuracy                           0.74      2824\n",
      "   macro avg       0.74      0.74      0.74      2824\n",
      "weighted avg       0.74      0.74      0.74      2824\n",
      "\n"
     ]
    }
   ],
   "source": [
    "print(f1_report[\"cg=0\"])"
   ]
  },
  {
   "cell_type": "code",
   "execution_count": 74,
   "metadata": {},
   "outputs": [
    {
     "name": "stdout",
     "output_type": "stream",
     "text": [
      "              precision    recall  f1-score   support\n",
      "\n",
      "         1.2       0.55      0.58      0.57      1407\n",
      "         1.8       0.41      0.44      0.42      1408\n",
      "         3.0       0.39      0.39      0.39      1385\n",
      "         4.5       0.50      0.44      0.47      1399\n",
      "\n",
      "    accuracy                           0.46      5599\n",
      "   macro avg       0.46      0.46      0.46      5599\n",
      "weighted avg       0.46      0.46      0.46      5599\n",
      "\n"
     ]
    }
   ],
   "source": [
    "print(f1_report[\"cg=1\"])"
   ]
  },
  {
   "cell_type": "code",
   "execution_count": 75,
   "metadata": {},
   "outputs": [
    {
     "data": {
      "text/html": [
       "<div>\n",
       "<style scoped>\n",
       "    .dataframe tbody tr th:only-of-type {\n",
       "        vertical-align: middle;\n",
       "    }\n",
       "\n",
       "    .dataframe tbody tr th {\n",
       "        vertical-align: top;\n",
       "    }\n",
       "\n",
       "    .dataframe thead th {\n",
       "        text-align: right;\n",
       "    }\n",
       "</style>\n",
       "<table border=\"1\" class=\"dataframe\">\n",
       "  <thead>\n",
       "    <tr style=\"text-align: right;\">\n",
       "      <th></th>\n",
       "      <th>Subset</th>\n",
       "      <th>Distance</th>\n",
       "      <th>P_miss</th>\n",
       "      <th>P_fa</th>\n",
       "      <th>nDCF</th>\n",
       "    </tr>\n",
       "  </thead>\n",
       "  <tbody>\n",
       "    <tr>\n",
       "      <th>0</th>\n",
       "      <td>fine_grain</td>\n",
       "      <td>1.2</td>\n",
       "      <td>0.420043</td>\n",
       "      <td>0.158635</td>\n",
       "      <td>0.578678</td>\n",
       "    </tr>\n",
       "    <tr>\n",
       "      <th>1</th>\n",
       "      <td>fine_grain</td>\n",
       "      <td>1.8</td>\n",
       "      <td>0.289876</td>\n",
       "      <td>0.360632</td>\n",
       "      <td>0.650508</td>\n",
       "    </tr>\n",
       "    <tr>\n",
       "      <th>2</th>\n",
       "      <td>fine_grain</td>\n",
       "      <td>3.0</td>\n",
       "      <td>0.147619</td>\n",
       "      <td>0.561115</td>\n",
       "      <td>0.708734</td>\n",
       "    </tr>\n",
       "    <tr>\n",
       "      <th>3</th>\n",
       "      <td>coarse_grain</td>\n",
       "      <td>1.8</td>\n",
       "      <td>0.260014</td>\n",
       "      <td>0.266238</td>\n",
       "      <td>0.526252</td>\n",
       "    </tr>\n",
       "  </tbody>\n",
       "</table>\n",
       "</div>"
      ],
      "text/plain": [
       "         Subset  Distance    P_miss      P_fa      nDCF\n",
       "0    fine_grain       1.2  0.420043  0.158635  0.578678\n",
       "1    fine_grain       1.8  0.289876  0.360632  0.650508\n",
       "2    fine_grain       3.0  0.147619  0.561115  0.708734\n",
       "3  coarse_grain       1.8  0.260014  0.266238  0.526252"
      ]
     },
     "execution_count": 75,
     "metadata": {},
     "output_type": "execute_result"
    }
   ],
   "source": [
    "from src.ndcf import compute_ndcf\n",
    "\n",
    "ndcf = compute_ndcf(sysout)\n",
    "ndcf"
   ]
  },
  {
   "cell_type": "code",
   "execution_count": 76,
   "metadata": {},
   "outputs": [
    {
     "data": {
      "text/plain": [
       "0.6160431439663822"
      ]
     },
     "execution_count": 76,
     "metadata": {},
     "output_type": "execute_result"
    }
   ],
   "source": [
    "ndcf[\"nDCF\"].mean()"
   ]
  }
 ],
 "metadata": {
  "kernelspec": {
   "display_name": "Python 3",
   "language": "python",
   "name": "python3"
  },
  "language_info": {
   "codemirror_mode": {
    "name": "ipython",
    "version": 3
   },
   "file_extension": ".py",
   "mimetype": "text/x-python",
   "name": "python",
   "nbconvert_exporter": "python",
   "pygments_lexer": "ipython3",
   "version": "3.8.6"
  }
 },
 "nbformat": 4,
 "nbformat_minor": 4
}
