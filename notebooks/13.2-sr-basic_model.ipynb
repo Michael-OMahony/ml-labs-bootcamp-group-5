{
 "cells": [
  {
   "cell_type": "code",
   "execution_count": 1,
   "metadata": {},
   "outputs": [],
   "source": [
    "%load_ext autoreload\n",
    "%autoreload 2"
   ]
  },
  {
   "cell_type": "code",
   "execution_count": 2,
   "metadata": {},
   "outputs": [
    {
     "name": "stdout",
     "output_type": "stream",
     "text": [
      "/Users/tj/dcu/Group-Project\n"
     ]
    }
   ],
   "source": [
    "cd .."
   ]
  },
  {
   "cell_type": "markdown",
   "metadata": {},
   "source": [
    "# Data"
   ]
  },
  {
   "cell_type": "code",
   "execution_count": 55,
   "metadata": {},
   "outputs": [],
   "source": [
    "from src.features.basic import features\n",
    "from src.features.common import postproc_default\n",
    "from src.dataset.tc4tl import make_datasets\n",
    "from src.hyperopt import RFP_PARAMS"
   ]
  },
  {
   "cell_type": "code",
   "execution_count": 70,
   "metadata": {},
   "outputs": [
    {
     "name": "stderr",
     "output_type": "stream",
     "text": [
      "100%|██████████| 15552/15552 [00:58<00:00, 263.85it/s]\n",
      "100%|██████████| 935/935 [00:03<00:00, 272.26it/s]\n",
      "100%|██████████| 8423/8423 [00:29<00:00, 282.66it/s]\n"
     ]
    }
   ],
   "source": [
    "trainset, devset, testset = make_datasets(features, postproc_default, tunables=RFP_PARAMS, verbose=True)"
   ]
  },
  {
   "cell_type": "markdown",
   "metadata": {},
   "source": [
    "## Evaluate Basic Feature"
   ]
  },
  {
   "cell_type": "code",
   "execution_count": 72,
   "metadata": {},
   "outputs": [
    {
     "data": {
      "text/plain": [
       "((935, 7), (8423, 7))"
      ]
     },
     "execution_count": 72,
     "metadata": {},
     "output_type": "execute_result"
    }
   ],
   "source": [
    "devset.shape, testset.shape"
   ]
  },
  {
   "cell_type": "code",
   "execution_count": 76,
   "metadata": {},
   "outputs": [],
   "source": [
    "from src.models.base import dual_evaluation\n",
    "import pandas as pd\n",
    "\n",
    "f1_report, sysout = dual_evaluation(pd.concat([trainset, devset]), testset,\n",
    "                    predictors=[\"RssiMin\", \"RssiMax\", \"RssiMean\", \"CoarseGrain\"],\n",
    "                    target=\"Distance\")"
   ]
  },
  {
   "cell_type": "code",
   "execution_count": 77,
   "metadata": {},
   "outputs": [
    {
     "name": "stdout",
     "output_type": "stream",
     "text": [
      "              precision    recall  f1-score   support\n",
      "\n",
      "         1.8       0.74      0.74      0.74      1423\n",
      "         4.5       0.74      0.73      0.74      1401\n",
      "\n",
      "    accuracy                           0.74      2824\n",
      "   macro avg       0.74      0.74      0.74      2824\n",
      "weighted avg       0.74      0.74      0.74      2824\n",
      "\n"
     ]
    }
   ],
   "source": [
    "print(f1_report['cg=0'])"
   ]
  },
  {
   "cell_type": "code",
   "execution_count": 78,
   "metadata": {},
   "outputs": [
    {
     "name": "stdout",
     "output_type": "stream",
     "text": [
      "              precision    recall  f1-score   support\n",
      "\n",
      "         1.2       0.55      0.58      0.57      1407\n",
      "         1.8       0.42      0.45      0.43      1408\n",
      "         3.0       0.38      0.38      0.38      1385\n",
      "         4.5       0.49      0.43      0.46      1399\n",
      "\n",
      "    accuracy                           0.46      5599\n",
      "   macro avg       0.46      0.46      0.46      5599\n",
      "weighted avg       0.46      0.46      0.46      5599\n",
      "\n"
     ]
    }
   ],
   "source": [
    "print(f1_report['cg=1'])"
   ]
  },
  {
   "cell_type": "code",
   "execution_count": 79,
   "metadata": {},
   "outputs": [
    {
     "data": {
      "text/html": [
       "<div>\n",
       "<style scoped>\n",
       "    .dataframe tbody tr th:only-of-type {\n",
       "        vertical-align: middle;\n",
       "    }\n",
       "\n",
       "    .dataframe tbody tr th {\n",
       "        vertical-align: top;\n",
       "    }\n",
       "\n",
       "    .dataframe thead th {\n",
       "        text-align: right;\n",
       "    }\n",
       "</style>\n",
       "<table border=\"1\" class=\"dataframe\">\n",
       "  <thead>\n",
       "    <tr style=\"text-align: right;\">\n",
       "      <th></th>\n",
       "      <th>Subset</th>\n",
       "      <th>Distance</th>\n",
       "      <th>P_miss</th>\n",
       "      <th>P_fa</th>\n",
       "      <th>nDCF</th>\n",
       "    </tr>\n",
       "  </thead>\n",
       "  <tbody>\n",
       "    <tr>\n",
       "      <th>0</th>\n",
       "      <td>fine_grain</td>\n",
       "      <td>1.2</td>\n",
       "      <td>0.417910</td>\n",
       "      <td>0.160544</td>\n",
       "      <td>0.578454</td>\n",
       "    </tr>\n",
       "    <tr>\n",
       "      <th>1</th>\n",
       "      <td>fine_grain</td>\n",
       "      <td>1.8</td>\n",
       "      <td>0.286323</td>\n",
       "      <td>0.355963</td>\n",
       "      <td>0.642286</td>\n",
       "    </tr>\n",
       "    <tr>\n",
       "      <th>2</th>\n",
       "      <td>fine_grain</td>\n",
       "      <td>3.0</td>\n",
       "      <td>0.150476</td>\n",
       "      <td>0.571122</td>\n",
       "      <td>0.721598</td>\n",
       "    </tr>\n",
       "    <tr>\n",
       "      <th>3</th>\n",
       "      <td>coarse_grain</td>\n",
       "      <td>1.8</td>\n",
       "      <td>0.255095</td>\n",
       "      <td>0.266238</td>\n",
       "      <td>0.521333</td>\n",
       "    </tr>\n",
       "  </tbody>\n",
       "</table>\n",
       "</div>"
      ],
      "text/plain": [
       "         Subset  Distance    P_miss      P_fa      nDCF\n",
       "0    fine_grain       1.2  0.417910  0.160544  0.578454\n",
       "1    fine_grain       1.8  0.286323  0.355963  0.642286\n",
       "2    fine_grain       3.0  0.150476  0.571122  0.721598\n",
       "3  coarse_grain       1.8  0.255095  0.266238  0.521333"
      ]
     },
     "execution_count": 79,
     "metadata": {},
     "output_type": "execute_result"
    }
   ],
   "source": [
    "from src.ndcf import compute_ndcf\n",
    "\n",
    "ndcf = compute_ndcf(sysout)\n",
    "ndcf"
   ]
  },
  {
   "cell_type": "code",
   "execution_count": 80,
   "metadata": {},
   "outputs": [
    {
     "data": {
      "text/plain": [
       "0.6159179861376931"
      ]
     },
     "execution_count": 80,
     "metadata": {},
     "output_type": "execute_result"
    }
   ],
   "source": [
    "ndcf[\"nDCF\"].mean()"
   ]
  }
 ],
 "metadata": {
  "kernelspec": {
   "display_name": "Python 3",
   "language": "python",
   "name": "python3"
  },
  "language_info": {
   "codemirror_mode": {
    "name": "ipython",
    "version": 3
   },
   "file_extension": ".py",
   "mimetype": "text/x-python",
   "name": "python",
   "nbconvert_exporter": "python",
   "pygments_lexer": "ipython3",
   "version": "3.8.6"
  }
 },
 "nbformat": 4,
 "nbformat_minor": 4
}
