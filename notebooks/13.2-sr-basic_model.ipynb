{
 "cells": [
  {
   "cell_type": "code",
   "execution_count": 1,
   "metadata": {},
   "outputs": [],
   "source": [
    "%load_ext autoreload\n",
    "%autoreload 2"
   ]
  },
  {
   "cell_type": "code",
   "execution_count": 2,
   "metadata": {},
   "outputs": [
    {
     "name": "stdout",
     "output_type": "stream",
     "text": [
      "/Users/tj/dcu/Group-Project\n"
     ]
    }
   ],
   "source": [
    "cd .."
   ]
  },
  {
   "cell_type": "markdown",
   "metadata": {},
   "source": [
    "# Data"
   ]
  },
  {
   "cell_type": "code",
   "execution_count": 55,
   "metadata": {},
   "outputs": [],
   "source": [
    "from src.features.basic import features\n",
    "from src.features.common import postproc_default\n",
    "from src.dataset.tc4tl import make_datasets\n",
    "from src.hyperopt import RFP_PARAMS"
   ]
  },
  {
   "cell_type": "code",
   "execution_count": 56,
   "metadata": {},
   "outputs": [
    {
     "name": "stderr",
     "output_type": "stream",
     "text": [
      "100%|██████████| 15552/15552 [00:49<00:00, 312.70it/s]\n",
      "100%|██████████| 935/935 [00:03<00:00, 294.21it/s]\n",
      "100%|██████████| 8423/8423 [00:29<00:00, 287.71it/s]\n"
     ]
    }
   ],
   "source": [
    "trainset, testset, devset = make_datasets(features, postproc_default, tunables=RFP_PARAMS, verbose=True)"
   ]
  },
  {
   "cell_type": "markdown",
   "metadata": {},
   "source": [
    "## Evaluate Basic Feature"
   ]
  },
  {
   "cell_type": "code",
   "execution_count": 57,
   "metadata": {},
   "outputs": [],
   "source": [
    "from src.models.base import dual_evaluation\n",
    "import pandas as pd\n",
    "\n",
    "f1_report, sysout = dual_evaluation(pd.concat([trainset, devset]), testset,\n",
    "                    predictors=[\"RssiMin\", \"RssiMax\", \"RssiMean\", \"CoarseGrain\"],\n",
    "                    target=\"Distance\")"
   ]
  },
  {
   "cell_type": "code",
   "execution_count": 58,
   "metadata": {},
   "outputs": [
    {
     "name": "stdout",
     "output_type": "stream",
     "text": [
      "              precision    recall  f1-score   support\n",
      "\n",
      "         1.8       0.83      0.88      0.85       137\n",
      "         4.5       0.89      0.85      0.87       159\n",
      "\n",
      "    accuracy                           0.86       296\n",
      "   macro avg       0.86      0.86      0.86       296\n",
      "weighted avg       0.86      0.86      0.86       296\n",
      "\n"
     ]
    }
   ],
   "source": [
    "print(f1_report['cg=0'])"
   ]
  },
  {
   "cell_type": "code",
   "execution_count": 59,
   "metadata": {},
   "outputs": [
    {
     "name": "stdout",
     "output_type": "stream",
     "text": [
      "              precision    recall  f1-score   support\n",
      "\n",
      "         1.2       0.79      0.77      0.78       153\n",
      "         1.8       0.64      0.71      0.67       152\n",
      "         3.0       0.73      0.67      0.70       175\n",
      "         4.5       0.73      0.74      0.73       159\n",
      "\n",
      "    accuracy                           0.72       639\n",
      "   macro avg       0.72      0.72      0.72       639\n",
      "weighted avg       0.72      0.72      0.72       639\n",
      "\n"
     ]
    }
   ],
   "source": [
    "print(f1_report['cg=1'])"
   ]
  },
  {
   "cell_type": "code",
   "execution_count": 60,
   "metadata": {},
   "outputs": [
    {
     "data": {
      "text/html": [
       "<div>\n",
       "<style scoped>\n",
       "    .dataframe tbody tr th:only-of-type {\n",
       "        vertical-align: middle;\n",
       "    }\n",
       "\n",
       "    .dataframe tbody tr th {\n",
       "        vertical-align: top;\n",
       "    }\n",
       "\n",
       "    .dataframe thead th {\n",
       "        text-align: right;\n",
       "    }\n",
       "</style>\n",
       "<table border=\"1\" class=\"dataframe\">\n",
       "  <thead>\n",
       "    <tr style=\"text-align: right;\">\n",
       "      <th></th>\n",
       "      <th>Subset</th>\n",
       "      <th>Distance</th>\n",
       "      <th>P_miss</th>\n",
       "      <th>P_fa</th>\n",
       "      <th>nDCF</th>\n",
       "    </tr>\n",
       "  </thead>\n",
       "  <tbody>\n",
       "    <tr>\n",
       "      <th>0</th>\n",
       "      <td>fine_grain</td>\n",
       "      <td>1.2</td>\n",
       "      <td>0.228758</td>\n",
       "      <td>0.063786</td>\n",
       "      <td>0.292544</td>\n",
       "    </tr>\n",
       "    <tr>\n",
       "      <th>1</th>\n",
       "      <td>fine_grain</td>\n",
       "      <td>1.8</td>\n",
       "      <td>0.144262</td>\n",
       "      <td>0.170659</td>\n",
       "      <td>0.314921</td>\n",
       "    </tr>\n",
       "    <tr>\n",
       "      <th>2</th>\n",
       "      <td>fine_grain</td>\n",
       "      <td>3.0</td>\n",
       "      <td>0.091667</td>\n",
       "      <td>0.264151</td>\n",
       "      <td>0.355818</td>\n",
       "    </tr>\n",
       "    <tr>\n",
       "      <th>3</th>\n",
       "      <td>coarse_grain</td>\n",
       "      <td>1.8</td>\n",
       "      <td>0.124088</td>\n",
       "      <td>0.150943</td>\n",
       "      <td>0.275031</td>\n",
       "    </tr>\n",
       "  </tbody>\n",
       "</table>\n",
       "</div>"
      ],
      "text/plain": [
       "         Subset  Distance    P_miss      P_fa      nDCF\n",
       "0    fine_grain       1.2  0.228758  0.063786  0.292544\n",
       "1    fine_grain       1.8  0.144262  0.170659  0.314921\n",
       "2    fine_grain       3.0  0.091667  0.264151  0.355818\n",
       "3  coarse_grain       1.8  0.124088  0.150943  0.275031"
      ]
     },
     "execution_count": 60,
     "metadata": {},
     "output_type": "execute_result"
    }
   ],
   "source": [
    "from src.ndcf import compute_ndcf\n",
    "\n",
    "compute_ndcf(sysout)"
   ]
  }
 ],
 "metadata": {
  "kernelspec": {
   "display_name": "Python 3",
   "language": "python",
   "name": "python3"
  },
  "language_info": {
   "codemirror_mode": {
    "name": "ipython",
    "version": 3
   },
   "file_extension": ".py",
   "mimetype": "text/x-python",
   "name": "python",
   "nbconvert_exporter": "python",
   "pygments_lexer": "ipython3",
   "version": "3.8.6"
  }
 },
 "nbformat": 4,
 "nbformat_minor": 4
}
