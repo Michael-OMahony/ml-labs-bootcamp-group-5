{
 "cells": [
  {
   "cell_type": "code",
   "execution_count": 1,
   "metadata": {},
   "outputs": [],
   "source": [
    "%load_ext autoreload\n",
    "%autoreload 2"
   ]
  },
  {
   "cell_type": "code",
   "execution_count": 2,
   "metadata": {},
   "outputs": [
    {
     "name": "stdout",
     "output_type": "stream",
     "text": [
      "/home/suriya/dcu/Group-Project\n"
     ]
    }
   ],
   "source": [
    "cd .."
   ]
  },
  {
   "cell_type": "markdown",
   "metadata": {},
   "source": [
    "# Data"
   ]
  },
  {
   "cell_type": "code",
   "execution_count": 3,
   "metadata": {},
   "outputs": [],
   "source": [
    "from src.features.basic import features\n",
    "from src.features.common import postproc_default\n",
    "from src.dataset.tc4tl import make_datasets\n",
    "from src.hyperopt import RFP_PARAMS"
   ]
  },
  {
   "cell_type": "code",
   "execution_count": 87,
   "metadata": {},
   "outputs": [
    {
     "name": "stderr",
     "output_type": "stream",
     "text": [
      "100%|████████████████████████████████████| 15552/15552 [00:26<00:00, 576.52it/s]\n",
      "100%|████████████████████████████████████████| 935/935 [00:01<00:00, 592.70it/s]\n",
      "100%|██████████████████████████████████████| 8423/8423 [00:14<00:00, 579.02it/s]\n"
     ]
    }
   ],
   "source": [
    "trainset, devset, testset = make_datasets(features, postproc_default, tunables=RFP_PARAMS, verbose=True, testing=0)"
   ]
  },
  {
   "cell_type": "code",
   "execution_count": 88,
   "metadata": {},
   "outputs": [
    {
     "data": {
      "text/html": [
       "<div>\n",
       "<style scoped>\n",
       "    .dataframe tbody tr th:only-of-type {\n",
       "        vertical-align: middle;\n",
       "    }\n",
       "\n",
       "    .dataframe tbody tr th {\n",
       "        vertical-align: top;\n",
       "    }\n",
       "\n",
       "    .dataframe thead th {\n",
       "        text-align: right;\n",
       "    }\n",
       "</style>\n",
       "<table border=\"1\" class=\"dataframe\">\n",
       "  <thead>\n",
       "    <tr style=\"text-align: right;\">\n",
       "      <th></th>\n",
       "      <th>RssiMin</th>\n",
       "      <th>RssiPercentile:1</th>\n",
       "      <th>RssiPercentile:5</th>\n",
       "      <th>RssiPercentile:10</th>\n",
       "      <th>RssiPercentile:25</th>\n",
       "      <th>RssiPercentile:40</th>\n",
       "      <th>RssiMean</th>\n",
       "      <th>RssiPercentile:65</th>\n",
       "      <th>RssiPercentile:80</th>\n",
       "      <th>RssiPercentile:90</th>\n",
       "      <th>RssiPercentile:95</th>\n",
       "      <th>RssiPercentile:99</th>\n",
       "      <th>RssiMax</th>\n",
       "      <th>CoarseGrain</th>\n",
       "      <th>fileid</th>\n",
       "      <th>Distance</th>\n",
       "      <th>DistanceFloat</th>\n",
       "    </tr>\n",
       "  </thead>\n",
       "  <tbody>\n",
       "    <tr>\n",
       "      <th>0</th>\n",
       "      <td>-88.0</td>\n",
       "      <td>-79.0</td>\n",
       "      <td>-75.0</td>\n",
       "      <td>-74.0</td>\n",
       "      <td>-67.0</td>\n",
       "      <td>-64.0</td>\n",
       "      <td>-62.133482</td>\n",
       "      <td>-59.0</td>\n",
       "      <td>-54.0</td>\n",
       "      <td>-52.0</td>\n",
       "      <td>-52.0</td>\n",
       "      <td>-50.0</td>\n",
       "      <td>-49.0</td>\n",
       "      <td>0</td>\n",
       "      <td>aaadbuvp_tc4tl20.csv</td>\n",
       "      <td>1.8</td>\n",
       "      <td>1.8</td>\n",
       "    </tr>\n",
       "    <tr>\n",
       "      <th>1</th>\n",
       "      <td>-76.0</td>\n",
       "      <td>-76.0</td>\n",
       "      <td>-64.0</td>\n",
       "      <td>-60.0</td>\n",
       "      <td>-57.0</td>\n",
       "      <td>-56.0</td>\n",
       "      <td>-55.255556</td>\n",
       "      <td>-54.0</td>\n",
       "      <td>-50.0</td>\n",
       "      <td>-49.0</td>\n",
       "      <td>-48.0</td>\n",
       "      <td>-48.0</td>\n",
       "      <td>-48.0</td>\n",
       "      <td>1</td>\n",
       "      <td>aaamkcii_tc4tl20.csv</td>\n",
       "      <td>3.0</td>\n",
       "      <td>3.0</td>\n",
       "    </tr>\n",
       "    <tr>\n",
       "      <th>2</th>\n",
       "      <td>-89.0</td>\n",
       "      <td>-80.0</td>\n",
       "      <td>-76.6</td>\n",
       "      <td>-75.0</td>\n",
       "      <td>-69.0</td>\n",
       "      <td>-63.0</td>\n",
       "      <td>-62.289089</td>\n",
       "      <td>-57.0</td>\n",
       "      <td>-54.0</td>\n",
       "      <td>-52.0</td>\n",
       "      <td>-51.0</td>\n",
       "      <td>-47.0</td>\n",
       "      <td>-47.0</td>\n",
       "      <td>1</td>\n",
       "      <td>aabqtowt_tc4tl20.csv</td>\n",
       "      <td>1.2</td>\n",
       "      <td>1.2</td>\n",
       "    </tr>\n",
       "    <tr>\n",
       "      <th>3</th>\n",
       "      <td>-93.0</td>\n",
       "      <td>-87.0</td>\n",
       "      <td>-83.0</td>\n",
       "      <td>-78.0</td>\n",
       "      <td>-71.0</td>\n",
       "      <td>-68.0</td>\n",
       "      <td>-67.938259</td>\n",
       "      <td>-64.0</td>\n",
       "      <td>-62.0</td>\n",
       "      <td>-61.0</td>\n",
       "      <td>-59.0</td>\n",
       "      <td>-56.0</td>\n",
       "      <td>-53.0</td>\n",
       "      <td>1</td>\n",
       "      <td>aadkjwss_tc4tl20.csv</td>\n",
       "      <td>1.8</td>\n",
       "      <td>1.8</td>\n",
       "    </tr>\n",
       "    <tr>\n",
       "      <th>4</th>\n",
       "      <td>-72.0</td>\n",
       "      <td>-70.0</td>\n",
       "      <td>-65.0</td>\n",
       "      <td>-63.0</td>\n",
       "      <td>-58.0</td>\n",
       "      <td>-57.0</td>\n",
       "      <td>-55.760797</td>\n",
       "      <td>-54.0</td>\n",
       "      <td>-51.0</td>\n",
       "      <td>-48.0</td>\n",
       "      <td>-47.0</td>\n",
       "      <td>-46.0</td>\n",
       "      <td>-45.0</td>\n",
       "      <td>0</td>\n",
       "      <td>aafzrgzt_tc4tl20.csv</td>\n",
       "      <td>1.8</td>\n",
       "      <td>1.8</td>\n",
       "    </tr>\n",
       "  </tbody>\n",
       "</table>\n",
       "</div>"
      ],
      "text/plain": [
       "   RssiMin  RssiPercentile:1  RssiPercentile:5  RssiPercentile:10  \\\n",
       "0    -88.0             -79.0             -75.0              -74.0   \n",
       "1    -76.0             -76.0             -64.0              -60.0   \n",
       "2    -89.0             -80.0             -76.6              -75.0   \n",
       "3    -93.0             -87.0             -83.0              -78.0   \n",
       "4    -72.0             -70.0             -65.0              -63.0   \n",
       "\n",
       "   RssiPercentile:25  RssiPercentile:40   RssiMean  RssiPercentile:65  \\\n",
       "0              -67.0              -64.0 -62.133482              -59.0   \n",
       "1              -57.0              -56.0 -55.255556              -54.0   \n",
       "2              -69.0              -63.0 -62.289089              -57.0   \n",
       "3              -71.0              -68.0 -67.938259              -64.0   \n",
       "4              -58.0              -57.0 -55.760797              -54.0   \n",
       "\n",
       "   RssiPercentile:80  RssiPercentile:90  RssiPercentile:95  RssiPercentile:99  \\\n",
       "0              -54.0              -52.0              -52.0              -50.0   \n",
       "1              -50.0              -49.0              -48.0              -48.0   \n",
       "2              -54.0              -52.0              -51.0              -47.0   \n",
       "3              -62.0              -61.0              -59.0              -56.0   \n",
       "4              -51.0              -48.0              -47.0              -46.0   \n",
       "\n",
       "   RssiMax  CoarseGrain                fileid Distance  DistanceFloat  \n",
       "0    -49.0            0  aaadbuvp_tc4tl20.csv      1.8            1.8  \n",
       "1    -48.0            1  aaamkcii_tc4tl20.csv      3.0            3.0  \n",
       "2    -47.0            1  aabqtowt_tc4tl20.csv      1.2            1.2  \n",
       "3    -53.0            1  aadkjwss_tc4tl20.csv      1.8            1.8  \n",
       "4    -45.0            0  aafzrgzt_tc4tl20.csv      1.8            1.8  "
      ]
     },
     "execution_count": 88,
     "metadata": {},
     "output_type": "execute_result"
    }
   ],
   "source": [
    "trainset.head()"
   ]
  },
  {
   "cell_type": "markdown",
   "metadata": {},
   "source": [
    "## Evaluate Basic Feature"
   ]
  },
  {
   "cell_type": "code",
   "execution_count": 89,
   "metadata": {},
   "outputs": [],
   "source": [
    "from src.models.evaluate import dual_evaluation\n",
    "import pandas as pd\n",
    "\n",
    "predictors = [ col for col in trainset.columns if 'rssi' in col.lower() or 'coarse' in col.lower() ]\n",
    "report, sysout = dual_evaluation(pd.concat([trainset, devset]), testset,\n",
    "                    predictors=predictors,\n",
    "                    target=\"Distance\")"
   ]
  },
  {
   "cell_type": "code",
   "execution_count": 90,
   "metadata": {},
   "outputs": [
    {
     "name": "stdout",
     "output_type": "stream",
     "text": [
      "              precision    recall  f1-score   support\n",
      "\n",
      "         1.8       0.85      0.79      0.82      1423\n",
      "         4.5       0.80      0.86      0.83      1401\n",
      "\n",
      "    accuracy                           0.82      2824\n",
      "   macro avg       0.83      0.82      0.82      2824\n",
      "weighted avg       0.83      0.82      0.82      2824\n",
      "\n"
     ]
    }
   ],
   "source": [
    "print(report['cg=0'])"
   ]
  },
  {
   "cell_type": "code",
   "execution_count": 91,
   "metadata": {},
   "outputs": [
    {
     "name": "stdout",
     "output_type": "stream",
     "text": [
      "              precision    recall  f1-score   support\n",
      "\n",
      "         1.2       0.63      0.63      0.63      1407\n",
      "         1.8       0.46      0.50      0.48      1408\n",
      "         3.0       0.54      0.57      0.56      1385\n",
      "         4.5       0.60      0.53      0.56      1399\n",
      "\n",
      "    accuracy                           0.56      5599\n",
      "   macro avg       0.56      0.56      0.56      5599\n",
      "weighted avg       0.56      0.56      0.56      5599\n",
      "\n"
     ]
    }
   ],
   "source": [
    "print(report['cg=1'])"
   ]
  },
  {
   "cell_type": "code",
   "execution_count": 92,
   "metadata": {},
   "outputs": [
    {
     "data": {
      "text/html": [
       "<div>\n",
       "<style scoped>\n",
       "    .dataframe tbody tr th:only-of-type {\n",
       "        vertical-align: middle;\n",
       "    }\n",
       "\n",
       "    .dataframe tbody tr th {\n",
       "        vertical-align: top;\n",
       "    }\n",
       "\n",
       "    .dataframe thead th {\n",
       "        text-align: right;\n",
       "    }\n",
       "</style>\n",
       "<table border=\"1\" class=\"dataframe\">\n",
       "  <thead>\n",
       "    <tr style=\"text-align: right;\">\n",
       "      <th></th>\n",
       "      <th>Subset</th>\n",
       "      <th>Distance</th>\n",
       "      <th>P_miss</th>\n",
       "      <th>P_fa</th>\n",
       "      <th>nDCF</th>\n",
       "    </tr>\n",
       "  </thead>\n",
       "  <tbody>\n",
       "    <tr>\n",
       "      <th>0</th>\n",
       "      <td>fine_grain</td>\n",
       "      <td>1.2</td>\n",
       "      <td>0.371002</td>\n",
       "      <td>0.121422</td>\n",
       "      <td>0.492424</td>\n",
       "    </tr>\n",
       "    <tr>\n",
       "      <th>1</th>\n",
       "      <td>fine_grain</td>\n",
       "      <td>1.8</td>\n",
       "      <td>0.232682</td>\n",
       "      <td>0.267241</td>\n",
       "      <td>0.499923</td>\n",
       "    </tr>\n",
       "    <tr>\n",
       "      <th>2</th>\n",
       "      <td>fine_grain</td>\n",
       "      <td>3.0</td>\n",
       "      <td>0.119524</td>\n",
       "      <td>0.466762</td>\n",
       "      <td>0.586286</td>\n",
       "    </tr>\n",
       "    <tr>\n",
       "      <th>3</th>\n",
       "      <td>coarse_grain</td>\n",
       "      <td>1.8</td>\n",
       "      <td>0.207309</td>\n",
       "      <td>0.143469</td>\n",
       "      <td>0.350777</td>\n",
       "    </tr>\n",
       "  </tbody>\n",
       "</table>\n",
       "</div>"
      ],
      "text/plain": [
       "         Subset  Distance    P_miss      P_fa      nDCF\n",
       "0    fine_grain       1.2  0.371002  0.121422  0.492424\n",
       "1    fine_grain       1.8  0.232682  0.267241  0.499923\n",
       "2    fine_grain       3.0  0.119524  0.466762  0.586286\n",
       "3  coarse_grain       1.8  0.207309  0.143469  0.350777"
      ]
     },
     "execution_count": 92,
     "metadata": {},
     "output_type": "execute_result"
    }
   ],
   "source": [
    "from src.ndcf import compute_ndcf\n",
    "\n",
    "ndcf = compute_ndcf(sysout)\n",
    "ndcf"
   ]
  },
  {
   "cell_type": "code",
   "execution_count": 93,
   "metadata": {},
   "outputs": [
    {
     "data": {
      "text/plain": [
       "0.4823526409739525"
      ]
     },
     "execution_count": 93,
     "metadata": {},
     "output_type": "execute_result"
    }
   ],
   "source": [
    "ndcf[\"nDCF\"].mean()"
   ]
  },
  {
   "cell_type": "markdown",
   "metadata": {},
   "source": [
    "### Feature Importance"
   ]
  },
  {
   "cell_type": "code",
   "execution_count": 94,
   "metadata": {},
   "outputs": [],
   "source": [
    "import matplotlib.pyplot as plt"
   ]
  },
  {
   "cell_type": "code",
   "execution_count": 95,
   "metadata": {},
   "outputs": [
    {
     "data": {
      "text/plain": [
       "['RssiMin',\n",
       " 'RssiPercentile:1',\n",
       " 'RssiPercentile:5',\n",
       " 'RssiPercentile:10',\n",
       " 'RssiPercentile:25',\n",
       " 'RssiPercentile:40',\n",
       " 'RssiMean',\n",
       " 'RssiPercentile:65',\n",
       " 'RssiPercentile:80',\n",
       " 'RssiPercentile:90',\n",
       " 'RssiPercentile:95',\n",
       " 'RssiPercentile:99',\n",
       " 'RssiMax',\n",
       " 'CoarseGrain']"
      ]
     },
     "execution_count": 95,
     "metadata": {},
     "output_type": "execute_result"
    }
   ],
   "source": [
    "predictors"
   ]
  },
  {
   "cell_type": "code",
   "execution_count": 98,
   "metadata": {},
   "outputs": [
    {
     "data": {
      "image/png": "[encoded data removed]",
      "text/plain": [
       "<Figure size 576x576 with 2 Axes>"
      ]
     },
     "metadata": {
      "needs_background": "light"
     },
     "output_type": "display_data"
    }
   ],
   "source": [
    "m0, m1 = report[\"model:cg=0\"], report[\"model:cg=1\"]\n",
    "fig, axes = plt.subplots(nrows=2, ncols=1, sharex=True, sharey=True, figsize=(8, 8))\n",
    "ax0, ax1 = axes.flatten()\n",
    "ax0.bar(predictors[:-1], m0.feature_importances_[:-1], color=\"red\")\n",
    "ax0.set_title(\"Coarse-Grained\")\n",
    "ax0.tick_params(axis='x', rotation=70)\n",
    "ax1.bar(predictors[:-1], m1.feature_importances_[:-1], color='green')\n",
    "ax1.set_title(\"Fine-Grained\")\n",
    "ax1.tick_params(axis='x', rotation=70)"
   ]
  },
  {
   "cell_type": "markdown",
   "metadata": {},
   "source": [
    "# Percentile Feature Evaluation"
   ]
  },
  {
   "cell_type": "code",
   "execution_count": 116,
   "metadata": {},
   "outputs": [
    {
     "name": "stderr",
     "output_type": "stream",
     "text": [
      "100%|████████████████████████████████████| 15552/15552 [00:15<00:00, 996.15it/s]\n",
      "100%|███████████████████████████████████████| 935/935 [00:00<00:00, 1060.87it/s]\n",
      "100%|█████████████████████████████████████| 8423/8423 [00:07<00:00, 1094.91it/s]\n"
     ]
    }
   ],
   "source": [
    "from src.features.basic import percentile_features\n",
    "\n",
    "trainset, devset, testset = make_datasets(percentile_features, postproc_default, tunables=RFP_PARAMS, verbose=True, testing=0)"
   ]
  },
  {
   "cell_type": "code",
   "execution_count": 117,
   "metadata": {},
   "outputs": [
    {
     "data": {
      "text/html": [
       "<div>\n",
       "<style scoped>\n",
       "    .dataframe tbody tr th:only-of-type {\n",
       "        vertical-align: middle;\n",
       "    }\n",
       "\n",
       "    .dataframe tbody tr th {\n",
       "        vertical-align: top;\n",
       "    }\n",
       "\n",
       "    .dataframe thead th {\n",
       "        text-align: right;\n",
       "    }\n",
       "</style>\n",
       "<table border=\"1\" class=\"dataframe\">\n",
       "  <thead>\n",
       "    <tr style=\"text-align: right;\">\n",
       "      <th></th>\n",
       "      <th>P:0</th>\n",
       "      <th>P:1</th>\n",
       "      <th>P:2</th>\n",
       "      <th>P:3</th>\n",
       "      <th>P:4</th>\n",
       "      <th>P:5</th>\n",
       "      <th>P:6</th>\n",
       "      <th>P:7</th>\n",
       "      <th>P:8</th>\n",
       "      <th>P:9</th>\n",
       "      <th>...</th>\n",
       "      <th>P:96</th>\n",
       "      <th>P:97</th>\n",
       "      <th>P:98</th>\n",
       "      <th>P:min</th>\n",
       "      <th>P:max</th>\n",
       "      <th>P:mean</th>\n",
       "      <th>CoarseGrain</th>\n",
       "      <th>fileid</th>\n",
       "      <th>Distance</th>\n",
       "      <th>DistanceFloat</th>\n",
       "    </tr>\n",
       "  </thead>\n",
       "  <tbody>\n",
       "    <tr>\n",
       "      <th>0</th>\n",
       "      <td>-79.0</td>\n",
       "      <td>-77.00</td>\n",
       "      <td>-76.09</td>\n",
       "      <td>-75.0</td>\n",
       "      <td>-75.0</td>\n",
       "      <td>-75.0</td>\n",
       "      <td>-75.0</td>\n",
       "      <td>-74.00</td>\n",
       "      <td>-74.0</td>\n",
       "      <td>-74.0</td>\n",
       "      <td>...</td>\n",
       "      <td>-51.0</td>\n",
       "      <td>-51.0</td>\n",
       "      <td>-50.0</td>\n",
       "      <td>-88.0</td>\n",
       "      <td>-49.0</td>\n",
       "      <td>-62.133482</td>\n",
       "      <td>0</td>\n",
       "      <td>aaadbuvp_tc4tl20.csv</td>\n",
       "      <td>1.8</td>\n",
       "      <td>1.8</td>\n",
       "    </tr>\n",
       "    <tr>\n",
       "      <th>1</th>\n",
       "      <td>-76.0</td>\n",
       "      <td>-67.42</td>\n",
       "      <td>-64.33</td>\n",
       "      <td>-64.0</td>\n",
       "      <td>-64.0</td>\n",
       "      <td>-64.0</td>\n",
       "      <td>-64.0</td>\n",
       "      <td>-63.52</td>\n",
       "      <td>-60.0</td>\n",
       "      <td>-60.0</td>\n",
       "      <td>...</td>\n",
       "      <td>-48.0</td>\n",
       "      <td>-48.0</td>\n",
       "      <td>-48.0</td>\n",
       "      <td>-76.0</td>\n",
       "      <td>-48.0</td>\n",
       "      <td>-55.255556</td>\n",
       "      <td>1</td>\n",
       "      <td>aaamkcii_tc4tl20.csv</td>\n",
       "      <td>3.0</td>\n",
       "      <td>3.0</td>\n",
       "    </tr>\n",
       "    <tr>\n",
       "      <th>2</th>\n",
       "      <td>-80.0</td>\n",
       "      <td>-78.00</td>\n",
       "      <td>-78.00</td>\n",
       "      <td>-77.0</td>\n",
       "      <td>-76.6</td>\n",
       "      <td>-76.0</td>\n",
       "      <td>-76.0</td>\n",
       "      <td>-75.00</td>\n",
       "      <td>-75.0</td>\n",
       "      <td>-75.0</td>\n",
       "      <td>...</td>\n",
       "      <td>-50.0</td>\n",
       "      <td>-49.0</td>\n",
       "      <td>-47.0</td>\n",
       "      <td>-89.0</td>\n",
       "      <td>-47.0</td>\n",
       "      <td>-62.289089</td>\n",
       "      <td>1</td>\n",
       "      <td>aabqtowt_tc4tl20.csv</td>\n",
       "      <td>1.2</td>\n",
       "      <td>1.2</td>\n",
       "    </tr>\n",
       "    <tr>\n",
       "      <th>3</th>\n",
       "      <td>-87.0</td>\n",
       "      <td>-86.00</td>\n",
       "      <td>-85.00</td>\n",
       "      <td>-84.0</td>\n",
       "      <td>-83.0</td>\n",
       "      <td>-83.0</td>\n",
       "      <td>-81.0</td>\n",
       "      <td>-80.00</td>\n",
       "      <td>-78.0</td>\n",
       "      <td>-78.0</td>\n",
       "      <td>...</td>\n",
       "      <td>-58.0</td>\n",
       "      <td>-57.0</td>\n",
       "      <td>-56.0</td>\n",
       "      <td>-93.0</td>\n",
       "      <td>-53.0</td>\n",
       "      <td>-67.938259</td>\n",
       "      <td>1</td>\n",
       "      <td>aadkjwss_tc4tl20.csv</td>\n",
       "      <td>1.8</td>\n",
       "      <td>1.8</td>\n",
       "    </tr>\n",
       "    <tr>\n",
       "      <th>4</th>\n",
       "      <td>-70.0</td>\n",
       "      <td>-67.00</td>\n",
       "      <td>-67.00</td>\n",
       "      <td>-66.0</td>\n",
       "      <td>-65.0</td>\n",
       "      <td>-65.0</td>\n",
       "      <td>-65.0</td>\n",
       "      <td>-64.00</td>\n",
       "      <td>-63.0</td>\n",
       "      <td>-63.0</td>\n",
       "      <td>...</td>\n",
       "      <td>-47.0</td>\n",
       "      <td>-46.0</td>\n",
       "      <td>-46.0</td>\n",
       "      <td>-72.0</td>\n",
       "      <td>-45.0</td>\n",
       "      <td>-55.760797</td>\n",
       "      <td>0</td>\n",
       "      <td>aafzrgzt_tc4tl20.csv</td>\n",
       "      <td>1.8</td>\n",
       "      <td>1.8</td>\n",
       "    </tr>\n",
       "  </tbody>\n",
       "</table>\n",
       "<p>5 rows × 106 columns</p>\n",
       "</div>"
      ],
      "text/plain": [
       "    P:0    P:1    P:2   P:3   P:4   P:5   P:6    P:7   P:8   P:9  ...  P:96  \\\n",
       "0 -79.0 -77.00 -76.09 -75.0 -75.0 -75.0 -75.0 -74.00 -74.0 -74.0  ... -51.0   \n",
       "1 -76.0 -67.42 -64.33 -64.0 -64.0 -64.0 -64.0 -63.52 -60.0 -60.0  ... -48.0   \n",
       "2 -80.0 -78.00 -78.00 -77.0 -76.6 -76.0 -76.0 -75.00 -75.0 -75.0  ... -50.0   \n",
       "3 -87.0 -86.00 -85.00 -84.0 -83.0 -83.0 -81.0 -80.00 -78.0 -78.0  ... -58.0   \n",
       "4 -70.0 -67.00 -67.00 -66.0 -65.0 -65.0 -65.0 -64.00 -63.0 -63.0  ... -47.0   \n",
       "\n",
       "   P:97  P:98  P:min  P:max     P:mean  CoarseGrain                fileid  \\\n",
       "0 -51.0 -50.0  -88.0  -49.0 -62.133482            0  aaadbuvp_tc4tl20.csv   \n",
       "1 -48.0 -48.0  -76.0  -48.0 -55.255556            1  aaamkcii_tc4tl20.csv   \n",
       "2 -49.0 -47.0  -89.0  -47.0 -62.289089            1  aabqtowt_tc4tl20.csv   \n",
       "3 -57.0 -56.0  -93.0  -53.0 -67.938259            1  aadkjwss_tc4tl20.csv   \n",
       "4 -46.0 -46.0  -72.0  -45.0 -55.760797            0  aafzrgzt_tc4tl20.csv   \n",
       "\n",
       "   Distance  DistanceFloat  \n",
       "0       1.8            1.8  \n",
       "1       3.0            3.0  \n",
       "2       1.2            1.2  \n",
       "3       1.8            1.8  \n",
       "4       1.8            1.8  \n",
       "\n",
       "[5 rows x 106 columns]"
      ]
     },
     "execution_count": 117,
     "metadata": {},
     "output_type": "execute_result"
    }
   ],
   "source": [
    "trainset.head()"
   ]
  },
  {
   "cell_type": "code",
   "execution_count": 118,
   "metadata": {},
   "outputs": [],
   "source": [
    "from src.models.evaluate import dual_evaluation\n",
    "import pandas as pd\n",
    "\n",
    "predictors = [ col for col in trainset.columns if 'p:' in col.lower() or 'coarse' in col.lower() ]\n",
    "report, sysout = dual_evaluation(pd.concat([trainset, devset]), testset,\n",
    "                    predictors=predictors,\n",
    "                    target=\"Distance\")"
   ]
  },
  {
   "cell_type": "code",
   "execution_count": 119,
   "metadata": {},
   "outputs": [
    {
     "name": "stdout",
     "output_type": "stream",
     "text": [
      "              precision    recall  f1-score   support\n",
      "\n",
      "         1.8       0.86      0.80      0.83      1423\n",
      "         4.5       0.81      0.87      0.84      1401\n",
      "\n",
      "    accuracy                           0.83      2824\n",
      "   macro avg       0.83      0.83      0.83      2824\n",
      "weighted avg       0.83      0.83      0.83      2824\n",
      "\n"
     ]
    }
   ],
   "source": [
    "print(report[\"cg=0\"])"
   ]
  },
  {
   "cell_type": "code",
   "execution_count": 120,
   "metadata": {},
   "outputs": [
    {
     "name": "stdout",
     "output_type": "stream",
     "text": [
      "              precision    recall  f1-score   support\n",
      "\n",
      "         1.2       0.64      0.60      0.62      1407\n",
      "         1.8       0.48      0.50      0.49      1408\n",
      "         3.0       0.55      0.60      0.57      1385\n",
      "         4.5       0.57      0.53      0.55      1399\n",
      "\n",
      "    accuracy                           0.56      5599\n",
      "   macro avg       0.56      0.56      0.56      5599\n",
      "weighted avg       0.56      0.56      0.56      5599\n",
      "\n"
     ]
    }
   ],
   "source": [
    "print(report[\"cg=1\"])"
   ]
  },
  {
   "cell_type": "code",
   "execution_count": 121,
   "metadata": {},
   "outputs": [
    {
     "data": {
      "text/html": [
       "<div>\n",
       "<style scoped>\n",
       "    .dataframe tbody tr th:only-of-type {\n",
       "        vertical-align: middle;\n",
       "    }\n",
       "\n",
       "    .dataframe tbody tr th {\n",
       "        vertical-align: top;\n",
       "    }\n",
       "\n",
       "    .dataframe thead th {\n",
       "        text-align: right;\n",
       "    }\n",
       "</style>\n",
       "<table border=\"1\" class=\"dataframe\">\n",
       "  <thead>\n",
       "    <tr style=\"text-align: right;\">\n",
       "      <th></th>\n",
       "      <th>Subset</th>\n",
       "      <th>Distance</th>\n",
       "      <th>P_miss</th>\n",
       "      <th>P_fa</th>\n",
       "      <th>nDCF</th>\n",
       "    </tr>\n",
       "  </thead>\n",
       "  <tbody>\n",
       "    <tr>\n",
       "      <th>0</th>\n",
       "      <td>fine_grain</td>\n",
       "      <td>1.2</td>\n",
       "      <td>0.400142</td>\n",
       "      <td>0.114027</td>\n",
       "      <td>0.514169</td>\n",
       "    </tr>\n",
       "    <tr>\n",
       "      <th>1</th>\n",
       "      <td>fine_grain</td>\n",
       "      <td>1.8</td>\n",
       "      <td>0.250089</td>\n",
       "      <td>0.247486</td>\n",
       "      <td>0.497574</td>\n",
       "    </tr>\n",
       "    <tr>\n",
       "      <th>2</th>\n",
       "      <td>fine_grain</td>\n",
       "      <td>3.0</td>\n",
       "      <td>0.131190</td>\n",
       "      <td>0.469621</td>\n",
       "      <td>0.600812</td>\n",
       "    </tr>\n",
       "    <tr>\n",
       "      <th>3</th>\n",
       "      <td>coarse_grain</td>\n",
       "      <td>1.8</td>\n",
       "      <td>0.199578</td>\n",
       "      <td>0.134190</td>\n",
       "      <td>0.333768</td>\n",
       "    </tr>\n",
       "  </tbody>\n",
       "</table>\n",
       "</div>"
      ],
      "text/plain": [
       "         Subset  Distance    P_miss      P_fa      nDCF\n",
       "0    fine_grain       1.2  0.400142  0.114027  0.514169\n",
       "1    fine_grain       1.8  0.250089  0.247486  0.497574\n",
       "2    fine_grain       3.0  0.131190  0.469621  0.600812\n",
       "3  coarse_grain       1.8  0.199578  0.134190  0.333768"
      ]
     },
     "execution_count": 121,
     "metadata": {},
     "output_type": "execute_result"
    }
   ],
   "source": [
    "from src.ndcf import compute_ndcf\n",
    "\n",
    "ndcf = compute_ndcf(sysout)\n",
    "ndcf"
   ]
  },
  {
   "cell_type": "code",
   "execution_count": 122,
   "metadata": {},
   "outputs": [
    {
     "data": {
      "text/plain": [
       "0.48658079005712607"
      ]
     },
     "execution_count": 122,
     "metadata": {},
     "output_type": "execute_result"
    }
   ],
   "source": [
    "ndcf[\"nDCF\"].mean()"
   ]
  },
  {
   "cell_type": "code",
   "execution_count": 123,
   "metadata": {
    "scrolled": false
   },
   "outputs": [
    {
     "data": {
      "image/png": "[encoded data removed]",
      "text/plain": [
       "<Figure size 1440x576 with 2 Axes>"
      ]
     },
     "metadata": {
      "needs_background": "light"
     },
     "output_type": "display_data"
    }
   ],
   "source": [
    "m0, m1 = report[\"model:cg=0\"], report[\"model:cg=1\"]\n",
    "fig, axes = plt.subplots(nrows=2, ncols=1, sharex=True, sharey=True, figsize=(20, 8))\n",
    "ax0, ax1 = axes.flatten()\n",
    "ax0.bar(predictors[:-1], m0.feature_importances_[:-1], color=\"red\")\n",
    "ax0.set_title(\"Coarse-Grained\")\n",
    "ax0.tick_params(axis='x', rotation=70)\n",
    "ax1.bar(predictors[:-1], m1.feature_importances_[:-1], color='green')\n",
    "ax1.set_title(\"Fine-Grained\")\n",
    "ax1.tick_params(axis='x', rotation=70)"
   ]
  },
  {
   "cell_type": "markdown",
   "metadata": {},
   "source": [
    "## Add Linear Approximation Distance Estimate as feature"
   ]
  },
  {
   "cell_type": "code",
   "execution_count": 4,
   "metadata": {},
   "outputs": [
    {
     "name": "stderr",
     "output_type": "stream",
     "text": [
      "100%|████████████████████████████████████| 15552/15552 [00:26<00:00, 578.53it/s]\n",
      "100%|████████████████████████████████████████| 935/935 [00:01<00:00, 608.56it/s]\n",
      "100%|██████████████████████████████████████| 8423/8423 [00:12<00:00, 653.88it/s]\n"
     ]
    }
   ],
   "source": [
    "from src.features import radioprop\n",
    "from src.featutils import compose\n",
    "from src.features.common import postproc_basic\n",
    "\n",
    "def f2(feats, tunables={}):\n",
    "    for name in [\"RssiMin\", \"RssiMax\", \"RssiMean\"]:\n",
    "        rssi = feats[name]\n",
    "        distance = radioprop.linear_approximation_model(rssi, **tunables[\"LinearApprox\"])\n",
    "        feats[name + \"Distance\"] = distance\n",
    "    return feats\n",
    "\n",
    "trainset, devset, testset = make_datasets(compose(features, f2), postproc_basic,\n",
    "                                          tunables=RFP_PARAMS, verbose=True, testing=0)"
   ]
  },
  {
   "cell_type": "code",
   "execution_count": 5,
   "metadata": {},
   "outputs": [
    {
     "data": {
      "text/html": [
       "<div>\n",
       "<style scoped>\n",
       "    .dataframe tbody tr th:only-of-type {\n",
       "        vertical-align: middle;\n",
       "    }\n",
       "\n",
       "    .dataframe tbody tr th {\n",
       "        vertical-align: top;\n",
       "    }\n",
       "\n",
       "    .dataframe thead th {\n",
       "        text-align: right;\n",
       "    }\n",
       "</style>\n",
       "<table border=\"1\" class=\"dataframe\">\n",
       "  <thead>\n",
       "    <tr style=\"text-align: right;\">\n",
       "      <th></th>\n",
       "      <th>RssiMin</th>\n",
       "      <th>RssiMax</th>\n",
       "      <th>RssiMean</th>\n",
       "      <th>RssiMinDistance</th>\n",
       "      <th>RssiMaxDistance</th>\n",
       "      <th>RssiMeanDistance</th>\n",
       "      <th>CoarseGrain</th>\n",
       "      <th>fileid</th>\n",
       "      <th>Distance</th>\n",
       "      <th>DistanceFloat</th>\n",
       "    </tr>\n",
       "  </thead>\n",
       "  <tbody>\n",
       "    <tr>\n",
       "      <th>0</th>\n",
       "      <td>0.383333</td>\n",
       "      <td>0.128713</td>\n",
       "      <td>0.343245</td>\n",
       "      <td>0.087135</td>\n",
       "      <td>0.064738</td>\n",
       "      <td>0.139819</td>\n",
       "      <td>0</td>\n",
       "      <td>aaadbuvp_tc4tl20.csv</td>\n",
       "      <td>1.8</td>\n",
       "      <td>1.8</td>\n",
       "    </tr>\n",
       "    <tr>\n",
       "      <th>1</th>\n",
       "      <td>0.583333</td>\n",
       "      <td>0.133663</td>\n",
       "      <td>0.470944</td>\n",
       "      <td>0.023335</td>\n",
       "      <td>0.058268</td>\n",
       "      <td>0.065995</td>\n",
       "      <td>1</td>\n",
       "      <td>aaamkcii_tc4tl20.csv</td>\n",
       "      <td>3.0</td>\n",
       "      <td>3.0</td>\n",
       "    </tr>\n",
       "    <tr>\n",
       "      <th>2</th>\n",
       "      <td>0.366667</td>\n",
       "      <td>0.138614</td>\n",
       "      <td>0.340356</td>\n",
       "      <td>0.097011</td>\n",
       "      <td>0.052445</td>\n",
       "      <td>0.142186</td>\n",
       "      <td>1</td>\n",
       "      <td>aabqtowt_tc4tl20.csv</td>\n",
       "      <td>1.2</td>\n",
       "      <td>1.2</td>\n",
       "    </tr>\n",
       "    <tr>\n",
       "      <th>3</th>\n",
       "      <td>0.300000</td>\n",
       "      <td>0.108911</td>\n",
       "      <td>0.235470</td>\n",
       "      <td>0.148762</td>\n",
       "      <td>0.098641</td>\n",
       "      <td>0.260539</td>\n",
       "      <td>1</td>\n",
       "      <td>aadkjwss_tc4tl20.csv</td>\n",
       "      <td>1.8</td>\n",
       "      <td>1.8</td>\n",
       "    </tr>\n",
       "    <tr>\n",
       "      <th>4</th>\n",
       "      <td>0.650000</td>\n",
       "      <td>0.148515</td>\n",
       "      <td>0.461564</td>\n",
       "      <td>0.014693</td>\n",
       "      <td>0.042487</td>\n",
       "      <td>0.069789</td>\n",
       "      <td>0</td>\n",
       "      <td>aafzrgzt_tc4tl20.csv</td>\n",
       "      <td>1.8</td>\n",
       "      <td>1.8</td>\n",
       "    </tr>\n",
       "  </tbody>\n",
       "</table>\n",
       "</div>"
      ],
      "text/plain": [
       "    RssiMin   RssiMax  RssiMean  RssiMinDistance  RssiMaxDistance  \\\n",
       "0  0.383333  0.128713  0.343245         0.087135         0.064738   \n",
       "1  0.583333  0.133663  0.470944         0.023335         0.058268   \n",
       "2  0.366667  0.138614  0.340356         0.097011         0.052445   \n",
       "3  0.300000  0.108911  0.235470         0.148762         0.098641   \n",
       "4  0.650000  0.148515  0.461564         0.014693         0.042487   \n",
       "\n",
       "   RssiMeanDistance  CoarseGrain                fileid Distance  DistanceFloat  \n",
       "0          0.139819            0  aaadbuvp_tc4tl20.csv      1.8            1.8  \n",
       "1          0.065995            1  aaamkcii_tc4tl20.csv      3.0            3.0  \n",
       "2          0.142186            1  aabqtowt_tc4tl20.csv      1.2            1.2  \n",
       "3          0.260539            1  aadkjwss_tc4tl20.csv      1.8            1.8  \n",
       "4          0.069789            0  aafzrgzt_tc4tl20.csv      1.8            1.8  "
      ]
     },
     "execution_count": 5,
     "metadata": {},
     "output_type": "execute_result"
    }
   ],
   "source": [
    "trainset.head()"
   ]
  },
  {
   "cell_type": "markdown",
   "metadata": {},
   "source": [
    "### Evaluate"
   ]
  },
  {
   "cell_type": "code",
   "execution_count": 25,
   "metadata": {},
   "outputs": [
    {
     "ename": "KeyError",
     "evalue": "\"['RssiMeanDistance', 'RssiMinDistance', 'RssiMaxDistance'] not in index\"",
     "output_type": "error",
     "traceback": [
      "\u001b[0;31m---------------------------------------------------------------------------\u001b[0m",
      "\u001b[0;31mKeyError\u001b[0m                                  Traceback (most recent call last)",
      "\u001b[0;32m/tmp/ipykernel_4676/1556435610.py\u001b[0m in \u001b[0;36m<module>\u001b[0;34m\u001b[0m\n\u001b[1;32m      4\u001b[0m \u001b[0;31m# predictors = [ col for col in trainset.columns if 'rssi' in col.lower() or 'coarse' in col.lower() ]\u001b[0m\u001b[0;34m\u001b[0m\u001b[0;34m\u001b[0m\u001b[0m\n\u001b[1;32m      5\u001b[0m \u001b[0mpredictors\u001b[0m \u001b[0;34m=\u001b[0m \u001b[0;34m[\u001b[0m\u001b[0;34m\"RssiMin\"\u001b[0m\u001b[0;34m,\u001b[0m \u001b[0;34m\"RssiMax\"\u001b[0m\u001b[0;34m,\u001b[0m \u001b[0;34m\"RssiMean\"\u001b[0m\u001b[0;34m,\u001b[0m \u001b[0;34m\"RssiMeanDistance\"\u001b[0m \u001b[0;34m,\u001b[0m \u001b[0;34m\"RssiMinDistance\"\u001b[0m\u001b[0;34m,\u001b[0m \u001b[0;34m\"RssiMaxDistance\"\u001b[0m\u001b[0;34m]\u001b[0m\u001b[0;34m\u001b[0m\u001b[0;34m\u001b[0m\u001b[0m\n\u001b[0;32m----> 6\u001b[0;31m report, sysout = dual_evaluation(pd.concat([trainset, devset]), testset,\n\u001b[0m\u001b[1;32m      7\u001b[0m                     predictors=predictors, target=\"Distance\")\n",
      "\u001b[0;32m~/dcu/Group-Project/src/models/base.py\u001b[0m in \u001b[0;36mdual_evaluation\u001b[0;34m(trainset, devset, predictors, target, save_system_output, optimize_params)\u001b[0m\n",
      "\u001b[0;32m~/dcu/Group-Project/env/lib/python3.9/site-packages/pandas/core/frame.py\u001b[0m in \u001b[0;36m__getitem__\u001b[0;34m(self, key)\u001b[0m\n\u001b[1;32m   3462\u001b[0m             \u001b[0;32mif\u001b[0m \u001b[0mis_iterator\u001b[0m\u001b[0;34m(\u001b[0m\u001b[0mkey\u001b[0m\u001b[0;34m)\u001b[0m\u001b[0;34m:\u001b[0m\u001b[0;34m\u001b[0m\u001b[0;34m\u001b[0m\u001b[0m\n\u001b[1;32m   3463\u001b[0m                 \u001b[0mkey\u001b[0m \u001b[0;34m=\u001b[0m \u001b[0mlist\u001b[0m\u001b[0;34m(\u001b[0m\u001b[0mkey\u001b[0m\u001b[0;34m)\u001b[0m\u001b[0;34m\u001b[0m\u001b[0;34m\u001b[0m\u001b[0m\n\u001b[0;32m-> 3464\u001b[0;31m             \u001b[0mindexer\u001b[0m \u001b[0;34m=\u001b[0m \u001b[0mself\u001b[0m\u001b[0;34m.\u001b[0m\u001b[0mloc\u001b[0m\u001b[0;34m.\u001b[0m\u001b[0m_get_listlike_indexer\u001b[0m\u001b[0;34m(\u001b[0m\u001b[0mkey\u001b[0m\u001b[0;34m,\u001b[0m \u001b[0maxis\u001b[0m\u001b[0;34m=\u001b[0m\u001b[0;36m1\u001b[0m\u001b[0;34m)\u001b[0m\u001b[0;34m[\u001b[0m\u001b[0;36m1\u001b[0m\u001b[0;34m]\u001b[0m\u001b[0;34m\u001b[0m\u001b[0;34m\u001b[0m\u001b[0m\n\u001b[0m\u001b[1;32m   3465\u001b[0m \u001b[0;34m\u001b[0m\u001b[0m\n\u001b[1;32m   3466\u001b[0m         \u001b[0;31m# take() does not accept boolean indexers\u001b[0m\u001b[0;34m\u001b[0m\u001b[0;34m\u001b[0m\u001b[0m\n",
      "\u001b[0;32m~/dcu/Group-Project/env/lib/python3.9/site-packages/pandas/core/indexing.py\u001b[0m in \u001b[0;36m_get_listlike_indexer\u001b[0;34m(self, key, axis)\u001b[0m\n\u001b[1;32m   1312\u001b[0m             \u001b[0mkeyarr\u001b[0m\u001b[0;34m,\u001b[0m \u001b[0mindexer\u001b[0m\u001b[0;34m,\u001b[0m \u001b[0mnew_indexer\u001b[0m \u001b[0;34m=\u001b[0m \u001b[0max\u001b[0m\u001b[0;34m.\u001b[0m\u001b[0m_reindex_non_unique\u001b[0m\u001b[0;34m(\u001b[0m\u001b[0mkeyarr\u001b[0m\u001b[0;34m)\u001b[0m\u001b[0;34m\u001b[0m\u001b[0;34m\u001b[0m\u001b[0m\n\u001b[1;32m   1313\u001b[0m \u001b[0;34m\u001b[0m\u001b[0m\n\u001b[0;32m-> 1314\u001b[0;31m         \u001b[0mself\u001b[0m\u001b[0;34m.\u001b[0m\u001b[0m_validate_read_indexer\u001b[0m\u001b[0;34m(\u001b[0m\u001b[0mkeyarr\u001b[0m\u001b[0;34m,\u001b[0m \u001b[0mindexer\u001b[0m\u001b[0;34m,\u001b[0m \u001b[0maxis\u001b[0m\u001b[0;34m)\u001b[0m\u001b[0;34m\u001b[0m\u001b[0;34m\u001b[0m\u001b[0m\n\u001b[0m\u001b[1;32m   1315\u001b[0m \u001b[0;34m\u001b[0m\u001b[0m\n\u001b[1;32m   1316\u001b[0m         if needs_i8_conversion(ax.dtype) or isinstance(\n",
      "\u001b[0;32m~/dcu/Group-Project/env/lib/python3.9/site-packages/pandas/core/indexing.py\u001b[0m in \u001b[0;36m_validate_read_indexer\u001b[0;34m(self, key, indexer, axis)\u001b[0m\n\u001b[1;32m   1375\u001b[0m \u001b[0;34m\u001b[0m\u001b[0m\n\u001b[1;32m   1376\u001b[0m             \u001b[0mnot_found\u001b[0m \u001b[0;34m=\u001b[0m \u001b[0mlist\u001b[0m\u001b[0;34m(\u001b[0m\u001b[0mensure_index\u001b[0m\u001b[0;34m(\u001b[0m\u001b[0mkey\u001b[0m\u001b[0;34m)\u001b[0m\u001b[0;34m[\u001b[0m\u001b[0mmissing_mask\u001b[0m\u001b[0;34m.\u001b[0m\u001b[0mnonzero\u001b[0m\u001b[0;34m(\u001b[0m\u001b[0;34m)\u001b[0m\u001b[0;34m[\u001b[0m\u001b[0;36m0\u001b[0m\u001b[0;34m]\u001b[0m\u001b[0;34m]\u001b[0m\u001b[0;34m.\u001b[0m\u001b[0munique\u001b[0m\u001b[0;34m(\u001b[0m\u001b[0;34m)\u001b[0m\u001b[0;34m)\u001b[0m\u001b[0;34m\u001b[0m\u001b[0;34m\u001b[0m\u001b[0m\n\u001b[0;32m-> 1377\u001b[0;31m             \u001b[0;32mraise\u001b[0m \u001b[0mKeyError\u001b[0m\u001b[0;34m(\u001b[0m\u001b[0;34mf\"{not_found} not in index\"\u001b[0m\u001b[0;34m)\u001b[0m\u001b[0;34m\u001b[0m\u001b[0;34m\u001b[0m\u001b[0m\n\u001b[0m\u001b[1;32m   1378\u001b[0m \u001b[0;34m\u001b[0m\u001b[0m\n\u001b[1;32m   1379\u001b[0m \u001b[0;34m\u001b[0m\u001b[0m\n",
      "\u001b[0;31mKeyError\u001b[0m: \"['RssiMeanDistance', 'RssiMinDistance', 'RssiMaxDistance'] not in index\""
     ]
    }
   ],
   "source": [
    "from src.models.base import dual_evaluation\n",
    "import pandas as pd\n",
    "\n",
    "# predictors = [ col for col in trainset.columns if 'rssi' in col.lower() or 'coarse' in col.lower() ]\n",
    "predictors = [\"RssiMin\", \"RssiMax\", \"RssiMean\", \"RssiMeanDistance\" , \"RssiMinDistance\", \"RssiMaxDistance\"]\n",
    "report, sysout = dual_evaluation(pd.concat([trainset, devset]), testset,\n",
    "                    predictors=predictors, target=\"Distance\")"
   ]
  },
  {
   "cell_type": "code",
   "execution_count": 7,
   "metadata": {},
   "outputs": [
    {
     "name": "stdout",
     "output_type": "stream",
     "text": [
      "              precision    recall  f1-score   support\n",
      "\n",
      "         1.8       0.74      0.73      0.73      1423\n",
      "         4.5       0.73      0.74      0.73      1401\n",
      "\n",
      "    accuracy                           0.73      2824\n",
      "   macro avg       0.73      0.73      0.73      2824\n",
      "weighted avg       0.73      0.73      0.73      2824\n",
      "\n"
     ]
    }
   ],
   "source": [
    "print(f1_report[\"cg=0\"])"
   ]
  },
  {
   "cell_type": "code",
   "execution_count": 8,
   "metadata": {},
   "outputs": [
    {
     "name": "stdout",
     "output_type": "stream",
     "text": [
      "              precision    recall  f1-score   support\n",
      "\n",
      "         1.2       0.54      0.58      0.56      1407\n",
      "         1.8       0.41      0.44      0.42      1408\n",
      "         3.0       0.39      0.39      0.39      1385\n",
      "         4.5       0.50      0.44      0.47      1399\n",
      "\n",
      "    accuracy                           0.46      5599\n",
      "   macro avg       0.46      0.46      0.46      5599\n",
      "weighted avg       0.46      0.46      0.46      5599\n",
      "\n"
     ]
    }
   ],
   "source": [
    "print(f1_report[\"cg=1\"])"
   ]
  },
  {
   "cell_type": "code",
   "execution_count": 9,
   "metadata": {},
   "outputs": [
    {
     "data": {
      "text/html": [
       "<div>\n",
       "<style scoped>\n",
       "    .dataframe tbody tr th:only-of-type {\n",
       "        vertical-align: middle;\n",
       "    }\n",
       "\n",
       "    .dataframe tbody tr th {\n",
       "        vertical-align: top;\n",
       "    }\n",
       "\n",
       "    .dataframe thead th {\n",
       "        text-align: right;\n",
       "    }\n",
       "</style>\n",
       "<table border=\"1\" class=\"dataframe\">\n",
       "  <thead>\n",
       "    <tr style=\"text-align: right;\">\n",
       "      <th></th>\n",
       "      <th>Subset</th>\n",
       "      <th>Distance</th>\n",
       "      <th>P_miss</th>\n",
       "      <th>P_fa</th>\n",
       "      <th>nDCF</th>\n",
       "    </tr>\n",
       "  </thead>\n",
       "  <tbody>\n",
       "    <tr>\n",
       "      <th>0</th>\n",
       "      <td>fine_grain</td>\n",
       "      <td>1.2</td>\n",
       "      <td>0.424307</td>\n",
       "      <td>0.163884</td>\n",
       "      <td>0.588191</td>\n",
       "    </tr>\n",
       "    <tr>\n",
       "      <th>1</th>\n",
       "      <td>fine_grain</td>\n",
       "      <td>1.8</td>\n",
       "      <td>0.285613</td>\n",
       "      <td>0.357399</td>\n",
       "      <td>0.643012</td>\n",
       "    </tr>\n",
       "    <tr>\n",
       "      <th>2</th>\n",
       "      <td>fine_grain</td>\n",
       "      <td>3.0</td>\n",
       "      <td>0.143810</td>\n",
       "      <td>0.562545</td>\n",
       "      <td>0.706354</td>\n",
       "    </tr>\n",
       "    <tr>\n",
       "      <th>3</th>\n",
       "      <td>coarse_grain</td>\n",
       "      <td>1.8</td>\n",
       "      <td>0.269852</td>\n",
       "      <td>0.263383</td>\n",
       "      <td>0.533236</td>\n",
       "    </tr>\n",
       "  </tbody>\n",
       "</table>\n",
       "</div>"
      ],
      "text/plain": [
       "         Subset  Distance    P_miss      P_fa      nDCF\n",
       "0    fine_grain       1.2  0.424307  0.163884  0.588191\n",
       "1    fine_grain       1.8  0.285613  0.357399  0.643012\n",
       "2    fine_grain       3.0  0.143810  0.562545  0.706354\n",
       "3  coarse_grain       1.8  0.269852  0.263383  0.533236"
      ]
     },
     "execution_count": 9,
     "metadata": {},
     "output_type": "execute_result"
    }
   ],
   "source": [
    "from src.ndcf import compute_ndcf\n",
    "\n",
    "ndcf = compute_ndcf(sysout)\n",
    "ndcf"
   ]
  },
  {
   "cell_type": "code",
   "execution_count": 10,
   "metadata": {},
   "outputs": [
    {
     "data": {
      "text/plain": [
       "0.617698189657602"
      ]
     },
     "execution_count": 10,
     "metadata": {},
     "output_type": "execute_result"
    }
   ],
   "source": [
    "ndcf[\"nDCF\"].mean()"
   ]
  },
  {
   "cell_type": "code",
   "execution_count": 14,
   "metadata": {},
   "outputs": [
    {
     "data": {
      "text/plain": [
       "0.1683168316831683"
      ]
     },
     "execution_count": 14,
     "metadata": {},
     "output_type": "execute_result"
    }
   ],
   "source": [
    "import numpy as np\n",
    "\n",
    "np.percentile(trainset.RssiMax, 95.)"
   ]
  },
  {
   "cell_type": "code",
   "execution_count": null,
   "metadata": {},
   "outputs": [],
   "source": []
  },
  {
   "cell_type": "code",
   "execution_count": null,
   "metadata": {},
   "outputs": [],
   "source": []
  },
  {
   "cell_type": "code",
   "execution_count": null,
   "metadata": {},
   "outputs": [],
   "source": []
  },
  {
   "cell_type": "code",
   "execution_count": null,
   "metadata": {},
   "outputs": [],
   "source": []
  },
  {
   "cell_type": "code",
   "execution_count": null,
   "metadata": {},
   "outputs": [],
   "source": []
  },
  {
   "cell_type": "code",
   "execution_count": null,
   "metadata": {},
   "outputs": [],
   "source": []
  },
  {
   "cell_type": "code",
   "execution_count": null,
   "metadata": {},
   "outputs": [],
   "source": []
  },
  {
   "cell_type": "code",
   "execution_count": null,
   "metadata": {},
   "outputs": [],
   "source": []
  },
  {
   "cell_type": "code",
   "execution_count": null,
   "metadata": {},
   "outputs": [],
   "source": []
  }
 ],
 "metadata": {
  "kernelspec": {
   "display_name": "gp3.9",
   "language": "python",
   "name": "gp3.9"
  },
  "language_info": {
   "codemirror_mode": {
    "name": "ipython",
    "version": 3
   },
   "file_extension": ".py",
   "mimetype": "text/x-python",
   "name": "python",
   "nbconvert_exporter": "python",
   "pygments_lexer": "ipython3",
   "version": "3.9.7"
  }
 },
 "nbformat": 4,
 "nbformat_minor": 4
}
