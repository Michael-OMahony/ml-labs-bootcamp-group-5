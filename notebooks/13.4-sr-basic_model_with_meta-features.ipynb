{
 "cells": [
  {
   "cell_type": "markdown",
   "id": "4c15c94c",
   "metadata": {},
   "source": [
    "# Meta Features"
   ]
  },
  {
   "cell_type": "code",
   "execution_count": 1,
   "id": "c58ba9b3",
   "metadata": {},
   "outputs": [],
   "source": [
    "%load_ext autoreload\n",
    "%autoreload 2"
   ]
  },
  {
   "cell_type": "code",
   "execution_count": 2,
   "id": "37f40337",
   "metadata": {},
   "outputs": [
    {
     "name": "stdout",
     "output_type": "stream",
     "text": [
      "/home/suriya/dcu/Group-Project\n"
     ]
    }
   ],
   "source": [
    "cd .."
   ]
  },
  {
   "cell_type": "markdown",
   "id": "db219ae3",
   "metadata": {},
   "source": [
    "## Categorical Encoders"
   ]
  },
  {
   "cell_type": "code",
   "execution_count": 3,
   "id": "9c9a146b",
   "metadata": {},
   "outputs": [],
   "source": [
    "import category_encoders as ce\n",
    "\n",
    "encoder_list = [ce.backward_difference.BackwardDifferenceEncoder, \n",
    "               ce.basen.BaseNEncoder,\n",
    "               ce.binary.BinaryEncoder,\n",
    "                ce.cat_boost.CatBoostEncoder,\n",
    "                ce.hashing.HashingEncoder,\n",
    "                ce.helmert.HelmertEncoder,\n",
    "                ce.james_stein.JamesSteinEncoder,\n",
    "                ce.one_hot.OneHotEncoder,\n",
    "                ce.leave_one_out.LeaveOneOutEncoder,\n",
    "                ce.m_estimate.MEstimateEncoder,\n",
    "                ce.ordinal.OrdinalEncoder,\n",
    "                ce.polynomial.PolynomialEncoder,\n",
    "                ce.sum_coding.SumEncoder,\n",
    "                ce.target_encoder.TargetEncoder,\n",
    "                ce.woe.WOEEncoder\n",
    "                ]"
   ]
  },
  {
   "cell_type": "code",
   "execution_count": 4,
   "id": "111d0e57",
   "metadata": {},
   "outputs": [
    {
     "name": "stderr",
     "output_type": "stream",
     "text": [
      "100%|████████████████████████████████████| 15552/15552 [00:28<00:00, 539.64it/s]\n"
     ]
    },
    {
     "name": "stdout",
     "output_type": "stream",
     "text": [
      "NO Pipe input given!\n"
     ]
    },
    {
     "name": "stderr",
     "output_type": "stream",
     "text": [
      "100%|████████████████████████████████████████| 935/935 [00:01<00:00, 545.86it/s]\n"
     ]
    },
    {
     "name": "stdout",
     "output_type": "stream",
     "text": [
      "Pipe input given!\n"
     ]
    },
    {
     "name": "stderr",
     "output_type": "stream",
     "text": [
      "100%|██████████████████████████████████████| 8423/8423 [00:14<00:00, 563.91it/s]"
     ]
    },
    {
     "name": "stdout",
     "output_type": "stream",
     "text": [
      "Pipe input given!\n"
     ]
    },
    {
     "name": "stderr",
     "output_type": "stream",
     "text": [
      "\n"
     ]
    }
   ],
   "source": [
    "from src.features.basic import features\n",
    "from src.features.common import postproc_categorical, read_non_sensor_data\n",
    "from src.featutils import combine\n",
    "from src.dataset.tc4tl import make_datasets\n",
    "import category_encoders as ce\n",
    "\n",
    "trainset, devset, testset = make_datasets(combine(features, read_non_sensor_data),\n",
    "                                          postproc_categorical, verbose=True, testing=0,\n",
    "                                          tunables={ \n",
    "                                              \"CategoricalEncoder\" : ce.polynomial.PolynomialEncoder\n",
    "                                          })"
   ]
  },
  {
   "cell_type": "code",
   "execution_count": 5,
   "id": "13ae0d00",
   "metadata": {},
   "outputs": [
    {
     "data": {
      "text/plain": [
       "['RssiMin',\n",
       " 'RssiPercentile:1',\n",
       " 'RssiPercentile:5',\n",
       " 'RssiPercentile:10',\n",
       " 'RssiPercentile:25',\n",
       " 'RssiPercentile:40',\n",
       " 'RssiMean',\n",
       " 'RssiPercentile:65',\n",
       " 'RssiPercentile:80',\n",
       " 'RssiPercentile:90',\n",
       " 'RssiPercentile:95',\n",
       " 'RssiPercentile:99',\n",
       " 'RssiMax',\n",
       " 'CoarseGrain',\n",
       " 'Cat:TXDevice_0',\n",
       " 'Cat:TXDevice_1',\n",
       " 'Cat:TXDevice_2',\n",
       " 'Cat:TXDevice_3',\n",
       " 'Cat:TXDevice_4',\n",
       " 'Cat:TXDevice_5',\n",
       " 'Cat:TXDevice_6',\n",
       " 'Cat:TXDevice_7',\n",
       " 'Cat:TXDevice_8',\n",
       " 'Cat:TXDevice_9',\n",
       " 'Cat:TXDevice_10',\n",
       " 'Cat:TXDevice_11',\n",
       " 'Cat:TXDevice_12',\n",
       " 'Cat:TXDevice_13',\n",
       " 'Cat:TXPower_0',\n",
       " 'Cat:TXPower_1',\n",
       " 'Cat:RXDevice_0',\n",
       " 'Cat:RXDevice_1',\n",
       " 'Cat:RXDevice_2',\n",
       " 'Cat:RXDevice_3',\n",
       " 'Cat:RXDevice_4',\n",
       " 'Cat:RXDevice_5',\n",
       " 'Cat:RXDevice_6',\n",
       " 'Cat:RXDevice_7',\n",
       " 'Cat:RXDevice_8',\n",
       " 'Cat:TXCarry_0',\n",
       " 'Cat:RXCarry_0',\n",
       " 'Cat:RXPose_0',\n",
       " 'Cat:TXPose_0']"
      ]
     },
     "execution_count": 5,
     "metadata": {},
     "output_type": "execute_result"
    }
   ],
   "source": [
    "predictors = []\n",
    "for col in trainset.columns:\n",
    "    if \"Rssi\" in col or \"Coarse\" in col or \"_\" in col:\n",
    "        predictors.append(col)\n",
    "predictors"
   ]
  },
  {
   "cell_type": "code",
   "execution_count": 6,
   "id": "b8f35173",
   "metadata": {},
   "outputs": [
    {
     "data": {
      "text/plain": [
       "0.21526295072008989"
      ]
     },
     "execution_count": 6,
     "metadata": {},
     "output_type": "execute_result"
    }
   ],
   "source": [
    "from src.models.evaluate import dual_evaluation\n",
    "import pandas as pd\n",
    "from src.ndcf import compute_ndcf\n",
    "\n",
    "report, sysout = dual_evaluation(pd.concat([trainset, devset]), testset,\n",
    "                    predictors=predictors,\n",
    "                    target=\"Distance\")\n",
    "ndcf = compute_ndcf(sysout)\n",
    "ndcf[\"nDCF\"].mean()"
   ]
  },
  {
   "cell_type": "code",
   "execution_count": 8,
   "id": "f82e33c5",
   "metadata": {},
   "outputs": [
    {
     "data": {
      "text/html": [
       "<div>\n",
       "<style scoped>\n",
       "    .dataframe tbody tr th:only-of-type {\n",
       "        vertical-align: middle;\n",
       "    }\n",
       "\n",
       "    .dataframe tbody tr th {\n",
       "        vertical-align: top;\n",
       "    }\n",
       "\n",
       "    .dataframe thead th {\n",
       "        text-align: right;\n",
       "    }\n",
       "</style>\n",
       "<table border=\"1\" class=\"dataframe\">\n",
       "  <thead>\n",
       "    <tr style=\"text-align: right;\">\n",
       "      <th></th>\n",
       "      <th>Subset</th>\n",
       "      <th>Distance</th>\n",
       "      <th>P_miss</th>\n",
       "      <th>P_fa</th>\n",
       "      <th>nDCF</th>\n",
       "    </tr>\n",
       "  </thead>\n",
       "  <tbody>\n",
       "    <tr>\n",
       "      <th>0</th>\n",
       "      <td>fine_grain</td>\n",
       "      <td>1.2</td>\n",
       "      <td>0.218195</td>\n",
       "      <td>0.038645</td>\n",
       "      <td>0.256840</td>\n",
       "    </tr>\n",
       "    <tr>\n",
       "      <th>1</th>\n",
       "      <td>fine_grain</td>\n",
       "      <td>1.8</td>\n",
       "      <td>0.127531</td>\n",
       "      <td>0.057112</td>\n",
       "      <td>0.184643</td>\n",
       "    </tr>\n",
       "    <tr>\n",
       "      <th>2</th>\n",
       "      <td>fine_grain</td>\n",
       "      <td>3.0</td>\n",
       "      <td>0.075952</td>\n",
       "      <td>0.223731</td>\n",
       "      <td>0.299684</td>\n",
       "    </tr>\n",
       "    <tr>\n",
       "      <th>3</th>\n",
       "      <td>coarse_grain</td>\n",
       "      <td>1.8</td>\n",
       "      <td>0.092762</td>\n",
       "      <td>0.027123</td>\n",
       "      <td>0.119885</td>\n",
       "    </tr>\n",
       "  </tbody>\n",
       "</table>\n",
       "</div>"
      ],
      "text/plain": [
       "         Subset  Distance    P_miss      P_fa      nDCF\n",
       "0    fine_grain       1.2  0.218195  0.038645  0.256840\n",
       "1    fine_grain       1.8  0.127531  0.057112  0.184643\n",
       "2    fine_grain       3.0  0.075952  0.223731  0.299684\n",
       "3  coarse_grain       1.8  0.092762  0.027123  0.119885"
      ]
     },
     "execution_count": 8,
     "metadata": {},
     "output_type": "execute_result"
    }
   ],
   "source": [
    "ndcf"
   ]
  },
  {
   "cell_type": "code",
   "execution_count": 10,
   "id": "26e49316",
   "metadata": {},
   "outputs": [
    {
     "name": "stdout",
     "output_type": "stream",
     "text": [
      "              precision    recall  f1-score   support\n",
      "\n",
      "         1.8       0.97      0.91      0.94      1423\n",
      "         4.5       0.91      0.97      0.94      1401\n",
      "\n",
      "    accuracy                           0.94      2824\n",
      "   macro avg       0.94      0.94      0.94      2824\n",
      "weighted avg       0.94      0.94      0.94      2824\n",
      "\n"
     ]
    }
   ],
   "source": [
    "print(report[\"cg=0\"])"
   ]
  },
  {
   "cell_type": "code",
   "execution_count": 11,
   "id": "948a51f8",
   "metadata": {},
   "outputs": [
    {
     "name": "stdout",
     "output_type": "stream",
     "text": [
      "              precision    recall  f1-score   support\n",
      "\n",
      "         1.2       0.87      0.78      0.82      1407\n",
      "         1.8       0.83      0.80      0.82      1408\n",
      "         3.0       0.71      0.81      0.76      1385\n",
      "         4.5       0.77      0.78      0.77      1399\n",
      "\n",
      "    accuracy                           0.79      5599\n",
      "   macro avg       0.80      0.79      0.79      5599\n",
      "weighted avg       0.80      0.79      0.79      5599\n",
      "\n"
     ]
    }
   ],
   "source": [
    "print(report[\"cg=1\"])"
   ]
  },
  {
   "cell_type": "code",
   "execution_count": 7,
   "id": "a47f9659",
   "metadata": {},
   "outputs": [
    {
     "data": {
      "image/png": "[encoded data removed]",
      "text/plain": [
       "<Figure size 1080x576 with 2 Axes>"
      ]
     },
     "metadata": {},
     "output_type": "display_data"
    }
   ],
   "source": [
    "import matplotlib.pyplot as plt\n",
    "plt.style.use('ggplot')\n",
    "\n",
    "m0, m1 = report[\"model:cg=0\"], report[\"model:cg=1\"]\n",
    "fig, axes = plt.subplots(nrows=2, ncols=1, sharex=True, sharey=True, figsize=(15, 8))\n",
    "ax0, ax1 = axes.flatten()\n",
    "ax0.bar(predictors[:-1], m0.feature_importances_[:-1], color=\"red\")\n",
    "ax0.set_title(\"Coarse-Grained\")\n",
    "ax0.tick_params(axis='x', rotation=90)\n",
    "ax1.bar(predictors[:-1], m1.feature_importances_[:-1], color='green')\n",
    "ax1.set_title(\"Fine-Grained\")\n",
    "ax1.tick_params(axis='x', rotation=90)"
   ]
  }
 ],
 "metadata": {
  "kernelspec": {
   "display_name": "gp3.9",
   "language": "python",
   "name": "gp3.9"
  },
  "language_info": {
   "codemirror_mode": {
    "name": "ipython",
    "version": 3
   },
   "file_extension": ".py",
   "mimetype": "text/x-python",
   "name": "python",
   "nbconvert_exporter": "python",
   "pygments_lexer": "ipython3",
   "version": "3.9.7"
  }
 },
 "nbformat": 4,
 "nbformat_minor": 5
}
