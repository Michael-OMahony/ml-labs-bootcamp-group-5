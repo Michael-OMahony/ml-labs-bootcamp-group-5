{
 "cells": [
  {
   "cell_type": "markdown",
   "id": "6c810d7d",
   "metadata": {},
   "source": [
    "# Meta Features"
   ]
  },
  {
   "cell_type": "code",
   "execution_count": 2,
   "id": "dd409e0f",
   "metadata": {},
   "outputs": [],
   "source": [
    "%load_ext autoreload\n",
    "%autoreload 2"
   ]
  },
  {
   "cell_type": "code",
   "execution_count": 3,
   "id": "a2fedd6b",
   "metadata": {},
   "outputs": [
    {
     "name": "stdout",
     "output_type": "stream",
     "text": [
      "C:\\Users\\mtom7\\Documents\\_PhD\\Bootcamp\\Group Project\\ml-labs-bootcamp-group-5\n"
     ]
    }
   ],
   "source": [
    "cd .."
   ]
  },
  {
   "cell_type": "markdown",
   "id": "6b865602",
   "metadata": {},
   "source": [
    "## Categorical Encoders"
   ]
  },
  {
   "cell_type": "code",
   "execution_count": 4,
   "id": "38a951af",
   "metadata": {},
   "outputs": [
    {
     "name": "stdout",
     "output_type": "stream",
     "text": [
      "Collecting package metadata (current_repodata.json): ...working... done\n",
      "Solving environment: ...working... done\n",
      "\n",
      "## Package Plan ##\n",
      "\n",
      "  environment location: C:\\Users\\mtom7\\anaconda3\\envs\\py39\n",
      "\n",
      "  added / updated specs:\n",
      "    - category_encoders\n",
      "\n",
      "\n",
      "The following packages will be UPDATED:\n",
      "\n",
      "  ca-certificates    conda-forge::ca-certificates-2021.10.~ --> pkgs/main::ca-certificates-2021.10.26-haa95532_2\n",
      "\n",
      "The following packages will be SUPERSEDED by a higher-priority channel:\n",
      "\n",
      "  certifi            conda-forge::certifi-2021.10.8-py39hc~ --> pkgs/main::certifi-2021.10.8-py39haa95532_0\n",
      "  openssl            conda-forge::openssl-1.1.1l-h8ffe710_0 --> pkgs/main::openssl-1.1.1l-h2bbff1b_0\n",
      "\n",
      "\n",
      "Preparing transaction: ...working... done\n",
      "Verifying transaction: ...working... done\n",
      "Executing transaction: ...working... done\n"
     ]
    }
   ],
   "source": [
    "#import sys\n",
    "#!conda install --yes --prefix {sys.prefix} category_encoders"
   ]
  },
  {
   "cell_type": "code",
   "execution_count": 5,
   "id": "f3a31ad5",
   "metadata": {},
   "outputs": [],
   "source": [
    "import category_encoders as ce\n",
    "\n",
    "encoder_list = [ce.backward_difference.BackwardDifferenceEncoder, \n",
    "               ce.basen.BaseNEncoder,\n",
    "               ce.binary.BinaryEncoder,\n",
    "                ce.cat_boost.CatBoostEncoder,\n",
    "                ce.hashing.HashingEncoder,\n",
    "                ce.helmert.HelmertEncoder,\n",
    "                ce.james_stein.JamesSteinEncoder,\n",
    "                ce.one_hot.OneHotEncoder,\n",
    "                ce.leave_one_out.LeaveOneOutEncoder,\n",
    "                ce.m_estimate.MEstimateEncoder,\n",
    "                ce.ordinal.OrdinalEncoder,\n",
    "                ce.polynomial.PolynomialEncoder,\n",
    "                ce.sum_coding.SumEncoder,\n",
    "                ce.target_encoder.TargetEncoder,\n",
    "                ce.woe.WOEEncoder\n",
    "                ]"
   ]
  },
  {
   "cell_type": "code",
   "execution_count": 6,
   "id": "95a5a4d2",
   "metadata": {},
   "outputs": [],
   "source": [
    "#conda install tqdm"
   ]
  },
  {
   "cell_type": "code",
   "execution_count": 7,
   "id": "3c44757d",
   "metadata": {},
   "outputs": [
    {
     "name": "stderr",
     "output_type": "stream",
     "text": [
      "100%|████████████████████████████████████████████████████████████████████████████| 15552/15552 [22:02<00:00, 11.76it/s]\n"
     ]
    },
    {
     "name": "stdout",
     "output_type": "stream",
     "text": [
      "NO Pipe input given!\n"
     ]
    },
    {
     "name": "stderr",
     "output_type": "stream",
     "text": [
      "C:\\Users\\mtom7\\anaconda3\\envs\\py39\\lib\\site-packages\\category_encoders\\utils.py:21: FutureWarning: is_categorical is deprecated and will be removed in a future version.  Use is_categorical_dtype instead\n",
      "  elif pd.api.types.is_categorical(cols):\n",
      "100%|████████████████████████████████████████████████████████████████████████████████| 935/935 [01:25<00:00, 10.96it/s]\n"
     ]
    },
    {
     "name": "stdout",
     "output_type": "stream",
     "text": [
      "Pipe input given!\n"
     ]
    },
    {
     "name": "stderr",
     "output_type": "stream",
     "text": [
      "100%|██████████████████████████████████████████████████████████████████████████████| 8423/8423 [10:14<00:00, 13.71it/s]\n"
     ]
    },
    {
     "name": "stdout",
     "output_type": "stream",
     "text": [
      "Pipe input given!\n"
     ]
    }
   ],
   "source": [
    "from src.features.basic import features\n",
    "from src.features.common import postproc_categorical, read_non_sensor_data\n",
    "from src.featutils import combine\n",
    "from src.dataset.tc4tl import make_datasets\n",
    "import category_encoders as ce\n",
    "\n",
    "trainset, devset, testset = make_datasets(combine(features, read_non_sensor_data),\n",
    "                                          postproc_categorical, verbose=True, testing=0,\n",
    "                                          tunables={ \n",
    "                                              \"CategoricalEncoder\" : ce.polynomial.PolynomialEncoder\n",
    "                                          })"
   ]
  },
  {
   "cell_type": "code",
   "execution_count": 8,
   "id": "4de2406f",
   "metadata": {},
   "outputs": [
    {
     "data": {
      "text/plain": [
       "['RssiMin',\n",
       " 'RssiPercentile:1',\n",
       " 'RssiPercentile:5',\n",
       " 'RssiPercentile:10',\n",
       " 'RssiPercentile:25',\n",
       " 'RssiPercentile:40',\n",
       " 'RssiMean',\n",
       " 'RssiPercentile:65',\n",
       " 'RssiPercentile:80',\n",
       " 'RssiPercentile:90',\n",
       " 'RssiPercentile:95',\n",
       " 'RssiPercentile:99',\n",
       " 'RssiMax',\n",
       " 'CoarseGrain',\n",
       " 'Cat:TXDevice_0',\n",
       " 'Cat:TXDevice_1',\n",
       " 'Cat:TXDevice_2',\n",
       " 'Cat:TXDevice_3',\n",
       " 'Cat:TXDevice_4',\n",
       " 'Cat:TXDevice_5',\n",
       " 'Cat:TXDevice_6',\n",
       " 'Cat:TXDevice_7',\n",
       " 'Cat:TXDevice_8',\n",
       " 'Cat:TXDevice_9',\n",
       " 'Cat:TXDevice_10',\n",
       " 'Cat:TXDevice_11',\n",
       " 'Cat:TXDevice_12',\n",
       " 'Cat:TXDevice_13',\n",
       " 'Cat:TXPower_0',\n",
       " 'Cat:TXPower_1',\n",
       " 'Cat:RXDevice_0',\n",
       " 'Cat:RXDevice_1',\n",
       " 'Cat:RXDevice_2',\n",
       " 'Cat:RXDevice_3',\n",
       " 'Cat:RXDevice_4',\n",
       " 'Cat:RXDevice_5',\n",
       " 'Cat:RXDevice_6',\n",
       " 'Cat:RXDevice_7',\n",
       " 'Cat:RXDevice_8',\n",
       " 'Cat:TXCarry_0',\n",
       " 'Cat:RXCarry_0',\n",
       " 'Cat:RXPose_0',\n",
       " 'Cat:TXPose_0']"
      ]
     },
     "execution_count": 8,
     "metadata": {},
     "output_type": "execute_result"
    }
   ],
   "source": [
    "predictors = []\n",
    "for col in trainset.columns:\n",
    "    if \"Rssi\" in col or \"Coarse\" in col or \"_\" in col:\n",
    "        predictors.append(col)\n",
    "predictors"
   ]
  },
  {
   "cell_type": "code",
   "execution_count": 9,
   "id": "01caa8c9",
   "metadata": {},
   "outputs": [],
   "source": [
    "#conda install -c conda-forge hyperopt"
   ]
  },
  {
   "cell_type": "code",
   "execution_count": 10,
   "id": "5ec5e1d8",
   "metadata": {
    "scrolled": false
   },
   "outputs": [
    {
     "data": {
      "text/plain": [
       "0.4672312547216212"
      ]
     },
     "execution_count": 10,
     "metadata": {},
     "output_type": "execute_result"
    }
   ],
   "source": [
    "from src.models.evaluate_xgb import dual_evaluation\n",
    "import pandas as pd\n",
    "from src.ndcf import compute_ndcf\n",
    "\n",
    "report, sysout = dual_evaluation(pd.concat([trainset, devset]), testset,\n",
    "                    predictors=predictors,\n",
    "                    target=\"Distance\")\n",
    "ndcf = compute_ndcf(sysout)\n",
    "ndcf[\"nDCF\"].mean()"
   ]
  },
  {
   "cell_type": "code",
   "execution_count": 11,
   "id": "260f1be2",
   "metadata": {},
   "outputs": [
    {
     "data": {
      "text/html": [
       "<div>\n",
       "<style scoped>\n",
       "    .dataframe tbody tr th:only-of-type {\n",
       "        vertical-align: middle;\n",
       "    }\n",
       "\n",
       "    .dataframe tbody tr th {\n",
       "        vertical-align: top;\n",
       "    }\n",
       "\n",
       "    .dataframe thead th {\n",
       "        text-align: right;\n",
       "    }\n",
       "</style>\n",
       "<table border=\"1\" class=\"dataframe\">\n",
       "  <thead>\n",
       "    <tr style=\"text-align: right;\">\n",
       "      <th></th>\n",
       "      <th>Subset</th>\n",
       "      <th>Distance</th>\n",
       "      <th>P_miss</th>\n",
       "      <th>P_fa</th>\n",
       "      <th>nDCF</th>\n",
       "    </tr>\n",
       "  </thead>\n",
       "  <tbody>\n",
       "    <tr>\n",
       "      <th>0</th>\n",
       "      <td>fine_grain</td>\n",
       "      <td>1.2</td>\n",
       "      <td>0.420753</td>\n",
       "      <td>0.101622</td>\n",
       "      <td>0.522376</td>\n",
       "    </tr>\n",
       "    <tr>\n",
       "      <th>1</th>\n",
       "      <td>fine_grain</td>\n",
       "      <td>1.8</td>\n",
       "      <td>0.267851</td>\n",
       "      <td>0.170259</td>\n",
       "      <td>0.438109</td>\n",
       "    </tr>\n",
       "    <tr>\n",
       "      <th>2</th>\n",
       "      <td>fine_grain</td>\n",
       "      <td>3.0</td>\n",
       "      <td>0.114762</td>\n",
       "      <td>0.543245</td>\n",
       "      <td>0.658007</td>\n",
       "    </tr>\n",
       "    <tr>\n",
       "      <th>3</th>\n",
       "      <td>coarse_grain</td>\n",
       "      <td>1.8</td>\n",
       "      <td>0.188335</td>\n",
       "      <td>0.062099</td>\n",
       "      <td>0.250433</td>\n",
       "    </tr>\n",
       "  </tbody>\n",
       "</table>\n",
       "</div>"
      ],
      "text/plain": [
       "         Subset  Distance    P_miss      P_fa      nDCF\n",
       "0    fine_grain       1.2  0.420753  0.101622  0.522376\n",
       "1    fine_grain       1.8  0.267851  0.170259  0.438109\n",
       "2    fine_grain       3.0  0.114762  0.543245  0.658007\n",
       "3  coarse_grain       1.8  0.188335  0.062099  0.250433"
      ]
     },
     "execution_count": 11,
     "metadata": {},
     "output_type": "execute_result"
    }
   ],
   "source": [
    "ndcf"
   ]
  },
  {
   "cell_type": "code",
   "execution_count": 12,
   "id": "b54c5630",
   "metadata": {},
   "outputs": [
    {
     "name": "stdout",
     "output_type": "stream",
     "text": [
      "              precision    recall  f1-score   support\n",
      "\n",
      "         1.8       0.93      0.81      0.87      1423\n",
      "         4.5       0.83      0.94      0.88      1401\n",
      "\n",
      "    accuracy                           0.87      2824\n",
      "   macro avg       0.88      0.87      0.87      2824\n",
      "weighted avg       0.88      0.87      0.87      2824\n",
      "\n"
     ]
    }
   ],
   "source": [
    "print(report[\"cg=0\"])"
   ]
  },
  {
   "cell_type": "code",
   "execution_count": 13,
   "id": "146d55b4",
   "metadata": {},
   "outputs": [
    {
     "name": "stdout",
     "output_type": "stream",
     "text": [
      "              precision    recall  f1-score   support\n",
      "\n",
      "         1.2       0.66      0.58      0.62      1407\n",
      "         1.8       0.49      0.45      0.47      1408\n",
      "         3.0       0.41      0.57      0.47      1385\n",
      "         4.5       0.57      0.46      0.51      1399\n",
      "\n",
      "    accuracy                           0.51      5599\n",
      "   macro avg       0.53      0.51      0.52      5599\n",
      "weighted avg       0.53      0.51      0.52      5599\n",
      "\n"
     ]
    }
   ],
   "source": [
    "print(report[\"cg=1\"])"
   ]
  },
  {
   "cell_type": "code",
   "execution_count": 14,
   "id": "57389965",
   "metadata": {},
   "outputs": [
    {
     "data": {
      "image/png": "[encoded data removed]",
      "text/plain": [
       "<Figure size 1080x576 with 2 Axes>"
      ]
     },
     "metadata": {},
     "output_type": "display_data"
    }
   ],
   "source": [
    "import matplotlib.pyplot as plt\n",
    "plt.style.use('ggplot')\n",
    "\n",
    "m0, m1 = report[\"model:cg=0\"], report[\"model:cg=1\"]\n",
    "fig, axes = plt.subplots(nrows=2, ncols=1, sharex=True, sharey=True, figsize=(15, 8))\n",
    "ax0, ax1 = axes.flatten()\n",
    "ax0.bar(predictors, m0.feature_importances_, color=\"red\")\n",
    "ax0.set_title(\"Coarse-Grained\")\n",
    "ax0.tick_params(axis='x', rotation=90)\n",
    "ax1.bar(predictors, m1.feature_importances_, color='green')\n",
    "ax1.set_title(\"Fine-Grained\")\n",
    "ax1.tick_params(axis='x', rotation=90)"
   ]
  },
  {
   "cell_type": "code",
   "execution_count": null,
   "id": "dc67335f",
   "metadata": {},
   "outputs": [],
   "source": []
  }
 ],
 "metadata": {
  "kernelspec": {
   "display_name": "Python 3 (ipykernel)",
   "language": "python",
   "name": "python3"
  },
  "language_info": {
   "codemirror_mode": {
    "name": "ipython",
    "version": 3
   },
   "file_extension": ".py",
   "mimetype": "text/x-python",
   "name": "python",
   "nbconvert_exporter": "python",
   "pygments_lexer": "ipython3",
   "version": "3.9.7"
  }
 },
 "nbformat": 4,
 "nbformat_minor": 5
}
