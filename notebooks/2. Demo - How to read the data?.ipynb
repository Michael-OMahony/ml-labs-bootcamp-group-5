{
 "cells": [
  {
   "cell_type": "code",
   "execution_count": 1,
   "metadata": {},
   "outputs": [
    {
     "name": "stdout",
     "output_type": "stream",
     "text": [
      "/home/suriya/dcu/Group-Project\n"
     ]
    }
   ],
   "source": [
    "cd .."
   ]
  },
  {
   "cell_type": "code",
   "execution_count": 3,
   "metadata": {},
   "outputs": [
    {
     "data": {
      "text/html": [
       "<div>\n",
       "<style scoped>\n",
       "    .dataframe tbody tr th:only-of-type {\n",
       "        vertical-align: middle;\n",
       "    }\n",
       "\n",
       "    .dataframe tbody tr th {\n",
       "        vertical-align: top;\n",
       "    }\n",
       "\n",
       "    .dataframe thead th {\n",
       "        text-align: right;\n",
       "    }\n",
       "</style>\n",
       "<table border=\"1\" class=\"dataframe\">\n",
       "  <thead>\n",
       "    <tr style=\"text-align: right;\">\n",
       "      <th></th>\n",
       "      <th>Time</th>\n",
       "      <th>Sensor</th>\n",
       "      <th>Rssi</th>\n",
       "    </tr>\n",
       "  </thead>\n",
       "  <tbody>\n",
       "    <tr>\n",
       "      <th>0</th>\n",
       "      <td>0.000</td>\n",
       "      <td>Bluetooth</td>\n",
       "      <td>-77.0</td>\n",
       "    </tr>\n",
       "    <tr>\n",
       "      <th>1</th>\n",
       "      <td>0.003</td>\n",
       "      <td>Bluetooth</td>\n",
       "      <td>-77.0</td>\n",
       "    </tr>\n",
       "    <tr>\n",
       "      <th>2</th>\n",
       "      <td>0.067</td>\n",
       "      <td>Bluetooth</td>\n",
       "      <td>-59.0</td>\n",
       "    </tr>\n",
       "    <tr>\n",
       "      <th>3</th>\n",
       "      <td>0.069</td>\n",
       "      <td>Bluetooth</td>\n",
       "      <td>-59.0</td>\n",
       "    </tr>\n",
       "    <tr>\n",
       "      <th>4</th>\n",
       "      <td>0.195</td>\n",
       "      <td>Bluetooth</td>\n",
       "      <td>-50.0</td>\n",
       "    </tr>\n",
       "  </tbody>\n",
       "</table>\n",
       "</div>"
      ],
      "text/plain": [
       "    Time     Sensor  Rssi\n",
       "0  0.000  Bluetooth -77.0\n",
       "1  0.003  Bluetooth -77.0\n",
       "2  0.067  Bluetooth -59.0\n",
       "3  0.069  Bluetooth -59.0\n",
       "4  0.195  Bluetooth -50.0"
      ]
     },
     "execution_count": 3,
     "metadata": {},
     "output_type": "execute_result"
    }
   ],
   "source": [
    "from src.datapoint import DataPoint\n",
    "\n",
    "filepath = \"data/tc4tl_training_data_v1/tc4tl/data/train/aaadbuvp_tc4tl20.csv\"\n",
    "datapoint = DataPoint(filepath)\n",
    "datapoint.bluetooth.head()"
   ]
  },
  {
   "cell_type": "code",
   "execution_count": 4,
   "metadata": {},
   "outputs": [
    {
     "data": {
      "text/html": [
       "<div>\n",
       "<style scoped>\n",
       "    .dataframe tbody tr th:only-of-type {\n",
       "        vertical-align: middle;\n",
       "    }\n",
       "\n",
       "    .dataframe tbody tr th {\n",
       "        vertical-align: top;\n",
       "    }\n",
       "\n",
       "    .dataframe thead th {\n",
       "        text-align: right;\n",
       "    }\n",
       "</style>\n",
       "<table border=\"1\" class=\"dataframe\">\n",
       "  <thead>\n",
       "    <tr style=\"text-align: right;\">\n",
       "      <th></th>\n",
       "      <th>Time</th>\n",
       "      <th>Sensor</th>\n",
       "      <th>X</th>\n",
       "      <th>Y</th>\n",
       "      <th>Z</th>\n",
       "    </tr>\n",
       "  </thead>\n",
       "  <tbody>\n",
       "    <tr>\n",
       "      <th>0</th>\n",
       "      <td>0.051</td>\n",
       "      <td>Gyroscope</td>\n",
       "      <td>-0.325451</td>\n",
       "      <td>0.131671</td>\n",
       "      <td>0.239032</td>\n",
       "    </tr>\n",
       "    <tr>\n",
       "      <th>1</th>\n",
       "      <td>0.301</td>\n",
       "      <td>Gyroscope</td>\n",
       "      <td>-0.021081</td>\n",
       "      <td>0.191100</td>\n",
       "      <td>0.045408</td>\n",
       "    </tr>\n",
       "    <tr>\n",
       "      <th>2</th>\n",
       "      <td>0.550</td>\n",
       "      <td>Gyroscope</td>\n",
       "      <td>0.066118</td>\n",
       "      <td>0.087730</td>\n",
       "      <td>0.002029</td>\n",
       "    </tr>\n",
       "    <tr>\n",
       "      <th>3</th>\n",
       "      <td>0.801</td>\n",
       "      <td>Gyroscope</td>\n",
       "      <td>-0.037239</td>\n",
       "      <td>-0.036624</td>\n",
       "      <td>0.034630</td>\n",
       "    </tr>\n",
       "    <tr>\n",
       "      <th>4</th>\n",
       "      <td>1.051</td>\n",
       "      <td>Gyroscope</td>\n",
       "      <td>-0.016993</td>\n",
       "      <td>0.016274</td>\n",
       "      <td>0.008255</td>\n",
       "    </tr>\n",
       "  </tbody>\n",
       "</table>\n",
       "</div>"
      ],
      "text/plain": [
       "    Time     Sensor         X         Y         Z\n",
       "0  0.051  Gyroscope -0.325451  0.131671  0.239032\n",
       "1  0.301  Gyroscope -0.021081  0.191100  0.045408\n",
       "2  0.550  Gyroscope  0.066118  0.087730  0.002029\n",
       "3  0.801  Gyroscope -0.037239 -0.036624  0.034630\n",
       "4  1.051  Gyroscope -0.016993  0.016274  0.008255"
      ]
     },
     "execution_count": 4,
     "metadata": {},
     "output_type": "execute_result"
    }
   ],
   "source": [
    "datapoint.gyroscope.head()"
   ]
  },
  {
   "cell_type": "code",
   "execution_count": 34,
   "metadata": {},
   "outputs": [
    {
     "data": {
      "text/plain": [
       "{'Bluetooth':       Time     Sensor  Rssi\n",
       " 0    0.000  Bluetooth -77.0\n",
       " 1    0.003  Bluetooth -77.0\n",
       " 2    0.067  Bluetooth -59.0\n",
       " 3    0.069  Bluetooth -59.0\n",
       " 4    0.195  Bluetooth -50.0\n",
       " ..     ...        ...   ...\n",
       " 170  3.838  Bluetooth -59.0\n",
       " 171  3.931  Bluetooth -51.0\n",
       " 172  3.935  Bluetooth -51.0\n",
       " 173  3.962  Bluetooth -60.0\n",
       " 174  3.965  Bluetooth -60.0\n",
       " \n",
       " [175 rows x 3 columns],\n",
       " 'Gyroscope':      Time     Sensor         X         Y         Z\n",
       " 0   0.051  Gyroscope -0.325451  0.131671  0.239032\n",
       " 1   0.301  Gyroscope -0.021081  0.191100  0.045408\n",
       " 2   0.550  Gyroscope  0.066118  0.087730  0.002029\n",
       " 3   0.801  Gyroscope -0.037239 -0.036624  0.034630\n",
       " 4   1.051  Gyroscope -0.016993  0.016274  0.008255\n",
       " 5   1.301  Gyroscope  0.014981  0.058579 -0.004594\n",
       " 6   1.551  Gyroscope -0.062143  0.016357 -0.053692\n",
       " 7   1.801  Gyroscope  0.023834  0.006242  0.007726\n",
       " 8   2.055  Gyroscope  0.052772  0.042986 -0.021806\n",
       " 9   2.301  Gyroscope -0.001905 -0.002113  0.019238\n",
       " 10  2.551  Gyroscope  0.020976 -0.012546 -0.000829\n",
       " 11  2.801  Gyroscope  0.048864 -0.046447  0.046707\n",
       " 12  3.051  Gyroscope -0.050594  0.041697  0.035817\n",
       " 13  3.301  Gyroscope -0.018018 -0.023612  0.016105\n",
       " 14  3.552  Gyroscope -0.018935 -0.010731 -0.016315\n",
       " 15  3.801  Gyroscope  0.023978  0.014610 -0.009991}"
      ]
     },
     "execution_count": 34,
     "metadata": {},
     "output_type": "execute_result"
    }
   ],
   "source": [
    "datapoint.before(4., sensors=['Bluetooth', 'Gyroscope'])"
   ]
  },
  {
   "cell_type": "code",
   "execution_count": 35,
   "metadata": {},
   "outputs": [
    {
     "data": {
      "text/plain": [
       "{'TXDevice': 'iPhoneX',\n",
       " 'TXPower': '12',\n",
       " 'RXDevice': 'iPhone8',\n",
       " 'TXCarry': 'pocket',\n",
       " 'RXCarry': 'hand',\n",
       " 'RXPose': 'standing',\n",
       " 'TXPose': 'standing'}"
      ]
     },
     "execution_count": 35,
     "metadata": {},
     "output_type": "execute_result"
    }
   ],
   "source": [
    "datapoint.nsdata_dict"
   ]
  },
  {
   "cell_type": "code",
   "execution_count": 36,
   "metadata": {},
   "outputs": [
    {
     "data": {
      "text/plain": [
       "'12'"
      ]
     },
     "execution_count": 36,
     "metadata": {},
     "output_type": "execute_result"
    }
   ],
   "source": [
    "datapoint.TXPower"
   ]
  },
  {
   "cell_type": "code",
   "execution_count": 37,
   "metadata": {},
   "outputs": [
    {
     "data": {
      "text/html": [
       "<div>\n",
       "<style scoped>\n",
       "    .dataframe tbody tr th:only-of-type {\n",
       "        vertical-align: middle;\n",
       "    }\n",
       "\n",
       "    .dataframe tbody tr th {\n",
       "        vertical-align: top;\n",
       "    }\n",
       "\n",
       "    .dataframe thead th {\n",
       "        text-align: right;\n",
       "    }\n",
       "</style>\n",
       "<table border=\"1\" class=\"dataframe\">\n",
       "  <thead>\n",
       "    <tr style=\"text-align: right;\">\n",
       "      <th></th>\n",
       "      <th>fileid</th>\n",
       "      <th>phone_carriage_state</th>\n",
       "      <th>distance_in_meters</th>\n",
       "      <th>step_size_in_sec</th>\n",
       "      <th>coarse_grain</th>\n",
       "    </tr>\n",
       "  </thead>\n",
       "  <tbody>\n",
       "    <tr>\n",
       "      <th>0</th>\n",
       "      <td>aaadbuvp_tc4tl20.csv</td>\n",
       "      <td>pocket_hand</td>\n",
       "      <td>1.8</td>\n",
       "      <td>50</td>\n",
       "      <td>Y</td>\n",
       "    </tr>\n",
       "    <tr>\n",
       "      <th>1</th>\n",
       "      <td>aaamkcii_tc4tl20.csv</td>\n",
       "      <td>pocket_pocket</td>\n",
       "      <td>3.0</td>\n",
       "      <td>80</td>\n",
       "      <td>N</td>\n",
       "    </tr>\n",
       "    <tr>\n",
       "      <th>2</th>\n",
       "      <td>aabqtowt_tc4tl20.csv</td>\n",
       "      <td>hand_hand</td>\n",
       "      <td>1.2</td>\n",
       "      <td>60</td>\n",
       "      <td>N</td>\n",
       "    </tr>\n",
       "    <tr>\n",
       "      <th>3</th>\n",
       "      <td>aadkjwss_tc4tl20.csv</td>\n",
       "      <td>pocket_pocket</td>\n",
       "      <td>1.8</td>\n",
       "      <td>20</td>\n",
       "      <td>N</td>\n",
       "    </tr>\n",
       "    <tr>\n",
       "      <th>4</th>\n",
       "      <td>aafzrgzt_tc4tl20.csv</td>\n",
       "      <td>hand_hand</td>\n",
       "      <td>1.8</td>\n",
       "      <td>60</td>\n",
       "      <td>Y</td>\n",
       "    </tr>\n",
       "  </tbody>\n",
       "</table>\n",
       "</div>"
      ],
      "text/plain": [
       "                 fileid phone_carriage_state  ...  step_size_in_sec  coarse_grain\n",
       "0  aaadbuvp_tc4tl20.csv          pocket_hand  ...                50             Y\n",
       "1  aaamkcii_tc4tl20.csv        pocket_pocket  ...                80             N\n",
       "2  aabqtowt_tc4tl20.csv            hand_hand  ...                60             N\n",
       "3  aadkjwss_tc4tl20.csv        pocket_pocket  ...                20             N\n",
       "4  aafzrgzt_tc4tl20.csv            hand_hand  ...                60             Y\n",
       "\n",
       "[5 rows x 5 columns]"
      ]
     },
     "execution_count": 37,
     "metadata": {},
     "output_type": "execute_result"
    }
   ],
   "source": [
    "import pandas as pd\n",
    "\n",
    "key_filepath = \"data/tc4tl_training_data_v1/tc4tl/docs/tc4tl_train_key.tsv\"\n",
    "trkey = pd.read_csv(key_filepath, sep='\\t')\n",
    "trkey.head()"
   ]
  },
  {
   "cell_type": "code",
   "execution_count": 38,
   "metadata": {},
   "outputs": [
    {
     "data": {
      "text/html": [
       "<div>\n",
       "<style scoped>\n",
       "    .dataframe tbody tr th:only-of-type {\n",
       "        vertical-align: middle;\n",
       "    }\n",
       "\n",
       "    .dataframe tbody tr th {\n",
       "        vertical-align: top;\n",
       "    }\n",
       "\n",
       "    .dataframe thead th {\n",
       "        text-align: right;\n",
       "    }\n",
       "</style>\n",
       "<table border=\"1\" class=\"dataframe\">\n",
       "  <thead>\n",
       "    <tr style=\"text-align: right;\">\n",
       "      <th></th>\n",
       "      <th>fileid</th>\n",
       "      <th>phone_carriage_state</th>\n",
       "      <th>distance_in_meters</th>\n",
       "      <th>step_size_in_sec</th>\n",
       "      <th>coarse_grain</th>\n",
       "    </tr>\n",
       "  </thead>\n",
       "  <tbody>\n",
       "    <tr>\n",
       "      <th>0</th>\n",
       "      <td>aaadbuvp_tc4tl20.csv</td>\n",
       "      <td>pocket_hand</td>\n",
       "      <td>1.8</td>\n",
       "      <td>50</td>\n",
       "      <td>Y</td>\n",
       "    </tr>\n",
       "  </tbody>\n",
       "</table>\n",
       "</div>"
      ],
      "text/plain": [
       "                 fileid phone_carriage_state  ...  step_size_in_sec  coarse_grain\n",
       "0  aaadbuvp_tc4tl20.csv          pocket_hand  ...                50             Y\n",
       "\n",
       "[1 rows x 5 columns]"
      ]
     },
     "execution_count": 38,
     "metadata": {},
     "output_type": "execute_result"
    }
   ],
   "source": [
    "trkey[trkey.fileid == 'aaadbuvp_tc4tl20.csv']"
   ]
  },
  {
   "cell_type": "code",
   "execution_count": 44,
   "metadata": {},
   "outputs": [
    {
     "data": {
      "text/html": [
       "<div>\n",
       "<style scoped>\n",
       "    .dataframe tbody tr th:only-of-type {\n",
       "        vertical-align: middle;\n",
       "    }\n",
       "\n",
       "    .dataframe tbody tr th {\n",
       "        vertical-align: top;\n",
       "    }\n",
       "\n",
       "    .dataframe thead th {\n",
       "        text-align: right;\n",
       "    }\n",
       "</style>\n",
       "<table border=\"1\" class=\"dataframe\">\n",
       "  <thead>\n",
       "    <tr style=\"text-align: right;\">\n",
       "      <th></th>\n",
       "      <th>Time</th>\n",
       "      <th>Sensor</th>\n",
       "      <th>Rssi</th>\n",
       "    </tr>\n",
       "  </thead>\n",
       "  <tbody>\n",
       "    <tr>\n",
       "      <th>171</th>\n",
       "      <td>3.931</td>\n",
       "      <td>Bluetooth</td>\n",
       "      <td>-51.0</td>\n",
       "    </tr>\n",
       "    <tr>\n",
       "      <th>172</th>\n",
       "      <td>3.935</td>\n",
       "      <td>Bluetooth</td>\n",
       "      <td>-51.0</td>\n",
       "    </tr>\n",
       "    <tr>\n",
       "      <th>173</th>\n",
       "      <td>3.962</td>\n",
       "      <td>Bluetooth</td>\n",
       "      <td>-60.0</td>\n",
       "    </tr>\n",
       "    <tr>\n",
       "      <th>174</th>\n",
       "      <td>3.965</td>\n",
       "      <td>Bluetooth</td>\n",
       "      <td>-60.0</td>\n",
       "    </tr>\n",
       "  </tbody>\n",
       "</table>\n",
       "</div>"
      ],
      "text/plain": [
       "      Time     Sensor  Rssi\n",
       "171  3.931  Bluetooth -51.0\n",
       "172  3.935  Bluetooth -51.0\n",
       "173  3.962  Bluetooth -60.0\n",
       "174  3.965  Bluetooth -60.0"
      ]
     },
     "execution_count": 44,
     "metadata": {},
     "output_type": "execute_result"
    }
   ],
   "source": [
    "datapoint.bw(3.9, 4.2, sensors=['Bluetooth'], include_extremes=True)"
   ]
  },
  {
   "cell_type": "code",
   "execution_count": 45,
   "metadata": {},
   "outputs": [],
   "source": [
    "datapoint.bw(4., 50., sensors=['Bluetooth'], include_extremes=True)"
   ]
  },
  {
   "cell_type": "code",
   "execution_count": 47,
   "metadata": {},
   "outputs": [],
   "source": [
    "datapoint.bw(4., 50.)"
   ]
  },
  {
   "cell_type": "code",
   "execution_count": 67,
   "metadata": {},
   "outputs": [
    {
     "data": {
      "text/html": [
       "<div>\n",
       "<style scoped>\n",
       "    .dataframe tbody tr th:only-of-type {\n",
       "        vertical-align: middle;\n",
       "    }\n",
       "\n",
       "    .dataframe tbody tr th {\n",
       "        vertical-align: top;\n",
       "    }\n",
       "\n",
       "    .dataframe thead th {\n",
       "        text-align: right;\n",
       "    }\n",
       "</style>\n",
       "<table border=\"1\" class=\"dataframe\">\n",
       "  <thead>\n",
       "    <tr style=\"text-align: right;\">\n",
       "      <th></th>\n",
       "      <th>Time</th>\n",
       "      <th>Sensor</th>\n",
       "      <th>Rssi</th>\n",
       "    </tr>\n",
       "  </thead>\n",
       "  <tbody>\n",
       "    <tr>\n",
       "      <th>175</th>\n",
       "      <td>51.626</td>\n",
       "      <td>Bluetooth</td>\n",
       "      <td>-51.0</td>\n",
       "    </tr>\n",
       "    <tr>\n",
       "      <th>176</th>\n",
       "      <td>51.629</td>\n",
       "      <td>Bluetooth</td>\n",
       "      <td>-52.0</td>\n",
       "    </tr>\n",
       "    <tr>\n",
       "      <th>177</th>\n",
       "      <td>51.657</td>\n",
       "      <td>Bluetooth</td>\n",
       "      <td>-54.0</td>\n",
       "    </tr>\n",
       "    <tr>\n",
       "      <th>178</th>\n",
       "      <td>51.660</td>\n",
       "      <td>Bluetooth</td>\n",
       "      <td>-54.0</td>\n",
       "    </tr>\n",
       "    <tr>\n",
       "      <th>179</th>\n",
       "      <td>51.687</td>\n",
       "      <td>Bluetooth</td>\n",
       "      <td>-72.0</td>\n",
       "    </tr>\n",
       "    <tr>\n",
       "      <th>180</th>\n",
       "      <td>51.690</td>\n",
       "      <td>Bluetooth</td>\n",
       "      <td>-72.0</td>\n",
       "    </tr>\n",
       "  </tbody>\n",
       "</table>\n",
       "</div>"
      ],
      "text/plain": [
       "       Time     Sensor  Rssi\n",
       "175  51.626  Bluetooth -51.0\n",
       "176  51.629  Bluetooth -52.0\n",
       "177  51.657  Bluetooth -54.0\n",
       "178  51.660  Bluetooth -54.0\n",
       "179  51.687  Bluetooth -72.0\n",
       "180  51.690  Bluetooth -72.0"
      ]
     },
     "execution_count": 67,
     "metadata": {},
     "output_type": "execute_result"
    }
   ],
   "source": [
    "datapoint.bw(4., 51.7, sensors=['Bluetooth'])"
   ]
  },
  {
   "cell_type": "code",
   "execution_count": null,
   "metadata": {},
   "outputs": [],
   "source": []
  },
  {
   "cell_type": "code",
   "execution_count": null,
   "metadata": {},
   "outputs": [],
   "source": []
  },
  {
   "cell_type": "code",
   "execution_count": null,
   "metadata": {},
   "outputs": [],
   "source": []
  },
  {
   "cell_type": "code",
   "execution_count": null,
   "metadata": {},
   "outputs": [],
   "source": []
  },
  {
   "cell_type": "code",
   "execution_count": null,
   "metadata": {},
   "outputs": [],
   "source": []
  },
  {
   "cell_type": "code",
   "execution_count": null,
   "metadata": {},
   "outputs": [],
   "source": []
  }
 ],
 "metadata": {
  "kernelspec": {
   "display_name": "Python 3",
   "language": "python",
   "name": "python3"
  },
  "language_info": {
   "codemirror_mode": {
    "name": "ipython",
    "version": 3
   },
   "file_extension": ".py",
   "mimetype": "text/x-python",
   "name": "python",
   "nbconvert_exporter": "python",
   "pygments_lexer": "ipython3",
   "version": "3.6.9"
  }
 },
 "nbformat": 4,
 "nbformat_minor": 4
}
