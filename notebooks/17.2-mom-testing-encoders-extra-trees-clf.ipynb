{
 "cells": [
  {
   "cell_type": "markdown",
   "id": "420b801d",
   "metadata": {},
   "source": [
    "# Beyond Bluetooth with alternate encoding (Extra Trees)"
   ]
  },
  {
   "cell_type": "code",
   "execution_count": 2,
   "id": "64cb0e55",
   "metadata": {},
   "outputs": [],
   "source": [
    "%load_ext autoreload\n",
    "%autoreload 2"
   ]
  },
  {
   "cell_type": "code",
   "execution_count": 3,
   "id": "fd85ef51",
   "metadata": {},
   "outputs": [
    {
     "name": "stdout",
     "output_type": "stream",
     "text": [
      "C:\\Users\\mtom7\\Documents\\_PhD\\Bootcamp\\Group Project\\ml-labs-bootcamp-group-5\n"
     ]
    }
   ],
   "source": [
    "cd .."
   ]
  },
  {
   "cell_type": "markdown",
   "id": "5d558be1",
   "metadata": {},
   "source": [
    "## Combine with Categorical Features"
   ]
  },
  {
   "cell_type": "code",
   "execution_count": 5,
   "id": "fec6723c",
   "metadata": {},
   "outputs": [],
   "source": [
    "from src.features.beyond import sensor_summary\n",
    "from src.features.common import postproc_categorical, read_non_sensor_data, postproc_default\n",
    "from src.dataset.tc4tl import make_datasets\n",
    "from src.featutils import combine\n",
    "import category_encoders as ce\n",
    "from src.models.evaluate_extra_trees import dual_evaluation\n",
    "import pandas as pd\n",
    "from src.ndcf import compute_ndcf"
   ]
  },
  {
   "cell_type": "code",
   "execution_count": 10,
   "id": "425af78c",
   "metadata": {},
   "outputs": [],
   "source": [
    "def run_with_encoder(encoder):\n",
    "    \n",
    "    (trainset, devset, testset), pipe = make_datasets(combine(sensor_summary, read_non_sensor_data),\n",
    "                                          postproc_categorical, verbose=True, testing=0,\n",
    "                                          tunables={ \n",
    "                                              \"CategoricalEncoder\" : encoder\n",
    "                                          })\n",
    "    \n",
    "    predictors = []\n",
    "    for col in trainset.columns:\n",
    "        if \"Rssi\" in col or \"Coarse\" in col or \"_\" in col:\n",
    "            predictors.append(col)\n",
    "            \n",
    "    report, sysout = dual_evaluation(pd.concat([trainset, devset]), testset,\n",
    "                        predictors=predictors,\n",
    "                        target=\"Distance\")\n",
    "    ndcf = compute_ndcf(sysout)\n",
    "    print(ndcf[\"nDCF\"].mean())\n",
    "    print(ndcf)\n",
    "    print(report[\"cg=1\"])\n",
    "    print(report[\"cg=0\"])"
   ]
  },
  {
   "cell_type": "markdown",
   "id": "e43d5263",
   "metadata": {},
   "source": [
    "## BackwardDifferenceEncoder"
   ]
  },
  {
   "cell_type": "code",
   "execution_count": null,
   "id": "dfc62386",
   "metadata": {},
   "outputs": [],
   "source": [
    "run_with_encoder(ce.BackwardDifferenceEncoder)"
   ]
  },
  {
   "cell_type": "markdown",
   "id": "57b863ad",
   "metadata": {},
   "source": [
    "## BaseNEncoder"
   ]
  },
  {
   "cell_type": "code",
   "execution_count": null,
   "id": "9d51f8c3",
   "metadata": {},
   "outputs": [],
   "source": [
    "run_with_encoder(ce.BaseNEncoder)"
   ]
  },
  {
   "cell_type": "markdown",
   "id": "26b0a499",
   "metadata": {},
   "source": [
    "## BinaryEncoder"
   ]
  },
  {
   "cell_type": "code",
   "execution_count": null,
   "id": "79bf45c4",
   "metadata": {},
   "outputs": [],
   "source": [
    "run_with_encoder(ce.BinaryEncoder)"
   ]
  },
  {
   "cell_type": "markdown",
   "id": "c88b2d64",
   "metadata": {},
   "source": [
    "## CatBoostEncoder"
   ]
  },
  {
   "cell_type": "code",
   "execution_count": null,
   "id": "85d8d0f5",
   "metadata": {},
   "outputs": [
    {
     "name": "stderr",
     "output_type": "stream",
     "text": [
      " 50%|██████████████████████████████████████▊                                      | 7827/15552 [10:09<09:37, 13.38it/s]"
     ]
    }
   ],
   "source": [
    "run_with_encoder(ce.CatBoostEncoder)"
   ]
  },
  {
   "cell_type": "markdown",
   "id": "26ebd14e",
   "metadata": {},
   "source": [
    "## CountEncoder"
   ]
  },
  {
   "cell_type": "code",
   "execution_count": null,
   "id": "4a52eba5",
   "metadata": {},
   "outputs": [],
   "source": [
    "run_with_encoder(ce.CountEncoder)"
   ]
  },
  {
   "cell_type": "markdown",
   "id": "a4de547d",
   "metadata": {},
   "source": [
    "## GLMMEncoder"
   ]
  },
  {
   "cell_type": "code",
   "execution_count": null,
   "id": "4257aed0",
   "metadata": {},
   "outputs": [],
   "source": [
    "run_with_encoder(ce.GLMMEncoder)"
   ]
  },
  {
   "cell_type": "markdown",
   "id": "d7d27540",
   "metadata": {},
   "source": [
    "## HashingEncoder"
   ]
  },
  {
   "cell_type": "code",
   "execution_count": null,
   "id": "3521833a",
   "metadata": {},
   "outputs": [],
   "source": [
    "run_with_encoder(ce.HashingEncoder)"
   ]
  },
  {
   "cell_type": "markdown",
   "id": "ace668a2",
   "metadata": {},
   "source": [
    "## HelmertEncoder"
   ]
  },
  {
   "cell_type": "code",
   "execution_count": null,
   "id": "5e68ba92",
   "metadata": {},
   "outputs": [],
   "source": [
    "run_with_encoder(ce.HelmertEncoder)"
   ]
  },
  {
   "cell_type": "markdown",
   "id": "71fa5579",
   "metadata": {},
   "source": [
    "## JamesSteinEncoder"
   ]
  },
  {
   "cell_type": "code",
   "execution_count": null,
   "id": "0237ca44",
   "metadata": {},
   "outputs": [],
   "source": [
    "run_with_encoder(ce.JamesSteinEncoder)"
   ]
  },
  {
   "cell_type": "markdown",
   "id": "eaf7b448",
   "metadata": {},
   "source": [
    "## LeaveOneOutEncoder"
   ]
  },
  {
   "cell_type": "code",
   "execution_count": null,
   "id": "0c9dd33c",
   "metadata": {},
   "outputs": [],
   "source": [
    "run_with_encoder(ce.LeaveOneOutEncoder)"
   ]
  },
  {
   "cell_type": "markdown",
   "id": "84eb7376",
   "metadata": {},
   "source": [
    "## MEstimateEncoder"
   ]
  },
  {
   "cell_type": "code",
   "execution_count": null,
   "id": "60a3d639",
   "metadata": {},
   "outputs": [],
   "source": [
    "run_with_encoder(ce.MEstimateEncoder)"
   ]
  },
  {
   "cell_type": "markdown",
   "id": "d2c6cba0",
   "metadata": {},
   "source": [
    "## OneHotEncoder"
   ]
  },
  {
   "cell_type": "code",
   "execution_count": null,
   "id": "8872b0ef",
   "metadata": {},
   "outputs": [],
   "source": [
    "run_with_encoder(ce.OneHotEncoder)"
   ]
  },
  {
   "cell_type": "markdown",
   "id": "a40beda7",
   "metadata": {},
   "source": [
    "## OrdinalEncoder"
   ]
  },
  {
   "cell_type": "code",
   "execution_count": null,
   "id": "306f643f",
   "metadata": {},
   "outputs": [],
   "source": [
    "run_with_encoder(ce.OrdinalEncoder)"
   ]
  },
  {
   "cell_type": "markdown",
   "id": "5f3e13f3",
   "metadata": {},
   "source": [
    "## SumEncoder"
   ]
  },
  {
   "cell_type": "code",
   "execution_count": null,
   "id": "b612bfd7",
   "metadata": {},
   "outputs": [],
   "source": [
    "run_with_encoder(ce.SumEncoder)"
   ]
  },
  {
   "cell_type": "markdown",
   "id": "1c5256a1",
   "metadata": {},
   "source": [
    "## TargetEncoder"
   ]
  },
  {
   "cell_type": "code",
   "execution_count": null,
   "id": "11e44524",
   "metadata": {},
   "outputs": [],
   "source": [
    "run_with_encoder(ce.TargetEncoder)"
   ]
  },
  {
   "cell_type": "markdown",
   "id": "d4bf3aca",
   "metadata": {},
   "source": [
    "## WOEEncoder"
   ]
  },
  {
   "cell_type": "code",
   "execution_count": null,
   "id": "e9cbf071",
   "metadata": {},
   "outputs": [],
   "source": [
    "run_with_encoder(ce.WOEEncoder)"
   ]
  },
  {
   "cell_type": "markdown",
   "id": "ae2be2fb",
   "metadata": {},
   "source": [
    "## QuantileEncoder"
   ]
  },
  {
   "cell_type": "code",
   "execution_count": null,
   "id": "604c3d82",
   "metadata": {},
   "outputs": [],
   "source": [
    "run_with_encoder(ce.QuantileEncoder)"
   ]
  }
 ],
 "metadata": {
  "kernelspec": {
   "display_name": "Python 3 (ipykernel)",
   "language": "python",
   "name": "python3"
  },
  "language_info": {
   "codemirror_mode": {
    "name": "ipython",
    "version": 3
   },
   "file_extension": ".py",
   "mimetype": "text/x-python",
   "name": "python",
   "nbconvert_exporter": "python",
   "pygments_lexer": "ipython3",
   "version": "3.9.7"
  }
 },
 "nbformat": 4,
 "nbformat_minor": 5
}
