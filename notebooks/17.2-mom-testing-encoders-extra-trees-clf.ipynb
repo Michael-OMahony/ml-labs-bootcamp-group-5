{
 "cells": [
  {
   "cell_type": "markdown",
   "id": "420b801d",
   "metadata": {},
   "source": [
    "# Beyond Bluetooth with alternate encoding (Extra Trees)"
   ]
  },
  {
   "cell_type": "code",
   "execution_count": 1,
   "id": "64cb0e55",
   "metadata": {},
   "outputs": [],
   "source": [
    "%load_ext autoreload\n",
    "%autoreload 2"
   ]
  },
  {
   "cell_type": "code",
   "execution_count": 2,
   "id": "fd85ef51",
   "metadata": {},
   "outputs": [
    {
     "name": "stdout",
     "output_type": "stream",
     "text": [
      "C:\\Users\\mtom7\\Documents\\_PhD\\Bootcamp\\Group Project\\ml-labs-bootcamp-group-5\n"
     ]
    }
   ],
   "source": [
    "cd .."
   ]
  },
  {
   "cell_type": "markdown",
   "id": "5d558be1",
   "metadata": {},
   "source": [
    "## Combine with Categorical Features"
   ]
  },
  {
   "cell_type": "code",
   "execution_count": 3,
   "id": "fec6723c",
   "metadata": {},
   "outputs": [],
   "source": [
    "from src.features.beyond import sensor_summary\n",
    "from src.features.common import postproc_categorical, read_non_sensor_data, postproc_default\n",
    "from src.dataset.tc4tl import make_datasets\n",
    "from src.featutils import combine\n",
    "import category_encoders as ce\n",
    "from src.models.evaluate_extra_trees import dual_evaluation\n",
    "import pandas as pd\n",
    "from src.ndcf import compute_ndcf"
   ]
  },
  {
   "cell_type": "code",
   "execution_count": 4,
   "id": "425af78c",
   "metadata": {},
   "outputs": [],
   "source": [
    "def run_with_encoder(encoder):\n",
    "    \n",
    "    (trainset, devset, testset), pipe = make_datasets(combine(sensor_summary, read_non_sensor_data),\n",
    "                                          postproc_categorical, verbose=True, testing=0,\n",
    "                                          tunables={ \n",
    "                                              \"CategoricalEncoder\" : encoder\n",
    "                                          })\n",
    "    \n",
    "    predictors = []\n",
    "    for col in trainset.columns:\n",
    "        if \"Rssi\" in col or \"Coarse\" in col or \"_\" in col:\n",
    "            predictors.append(col)\n",
    "            \n",
    "    report, sysout = dual_evaluation(pd.concat([trainset, devset]), testset,\n",
    "                        predictors=predictors,\n",
    "                        target=\"Distance\")\n",
    "    ndcf = compute_ndcf(sysout)\n",
    "    print(ndcf[\"nDCF\"].mean())\n",
    "    print(ndcf)\n",
    "    print(report[\"cg=1\"])\n",
    "    print(report[\"cg=0\"])"
   ]
  },
  {
   "cell_type": "markdown",
   "id": "e43d5263",
   "metadata": {},
   "source": [
    "## BackwardDifferenceEncoder"
   ]
  },
  {
   "cell_type": "code",
   "execution_count": 5,
   "id": "dfc62386",
   "metadata": {},
   "outputs": [
    {
     "name": "stderr",
     "output_type": "stream",
     "text": [
      "100%|████████████████████████████████████████████████████████████████████████████| 15552/15552 [18:00<00:00, 14.40it/s]\n"
     ]
    },
    {
     "name": "stdout",
     "output_type": "stream",
     "text": [
      "NO Pipe input given!\n"
     ]
    },
    {
     "name": "stderr",
     "output_type": "stream",
     "text": [
      "C:\\Users\\mtom7\\anaconda3\\envs\\py39\\lib\\site-packages\\category_encoders\\utils.py:21: FutureWarning: is_categorical is deprecated and will be removed in a future version.  Use is_categorical_dtype instead\n",
      "  elif pd.api.types.is_categorical(cols):\n",
      "100%|████████████████████████████████████████████████████████████████████████████████| 935/935 [01:02<00:00, 15.06it/s]\n"
     ]
    },
    {
     "name": "stdout",
     "output_type": "stream",
     "text": [
      "Pipe input given!\n"
     ]
    },
    {
     "name": "stderr",
     "output_type": "stream",
     "text": [
      "100%|██████████████████████████████████████████████████████████████████████████████| 8423/8423 [09:25<00:00, 14.91it/s]\n"
     ]
    },
    {
     "name": "stdout",
     "output_type": "stream",
     "text": [
      "Pipe input given!\n",
      "0.07471405856890928\n",
      "         Subset  Distance    P_miss      P_fa      nDCF\n",
      "0    fine_grain       1.2  0.073205  0.015267  0.088473\n",
      "1    fine_grain       1.8  0.044760  0.022629  0.067390\n",
      "2    fine_grain       3.0  0.023095  0.045747  0.068842\n",
      "3  coarse_grain       1.8  0.050597  0.023555  0.074152\n",
      "              precision    recall  f1-score   support\n",
      "\n",
      "         1.2       0.95      0.93      0.94      1407\n",
      "         1.8       0.94      0.92      0.93      1408\n",
      "         3.0       0.93      0.95      0.94      1385\n",
      "         4.5       0.93      0.95      0.94      1399\n",
      "\n",
      "    accuracy                           0.94      5599\n",
      "   macro avg       0.94      0.94      0.94      5599\n",
      "weighted avg       0.94      0.94      0.94      5599\n",
      "\n",
      "              precision    recall  f1-score   support\n",
      "\n",
      "         1.8       0.98      0.95      0.96      1423\n",
      "         4.5       0.95      0.98      0.96      1401\n",
      "\n",
      "    accuracy                           0.96      2824\n",
      "   macro avg       0.96      0.96      0.96      2824\n",
      "weighted avg       0.96      0.96      0.96      2824\n",
      "\n"
     ]
    }
   ],
   "source": [
    "run_with_encoder(ce.BackwardDifferenceEncoder)"
   ]
  },
  {
   "cell_type": "markdown",
   "id": "57b863ad",
   "metadata": {},
   "source": [
    "## BaseNEncoder"
   ]
  },
  {
   "cell_type": "code",
   "execution_count": 6,
   "id": "9d51f8c3",
   "metadata": {},
   "outputs": [
    {
     "name": "stderr",
     "output_type": "stream",
     "text": [
      "100%|████████████████████████████████████████████████████████████████████████████| 15552/15552 [14:10<00:00, 18.28it/s]\n"
     ]
    },
    {
     "name": "stdout",
     "output_type": "stream",
     "text": [
      "NO Pipe input given!\n"
     ]
    },
    {
     "name": "stderr",
     "output_type": "stream",
     "text": [
      "C:\\Users\\mtom7\\anaconda3\\envs\\py39\\lib\\site-packages\\category_encoders\\utils.py:21: FutureWarning: is_categorical is deprecated and will be removed in a future version.  Use is_categorical_dtype instead\n",
      "  elif pd.api.types.is_categorical(cols):\n",
      "100%|████████████████████████████████████████████████████████████████████████████████| 935/935 [00:49<00:00, 18.73it/s]\n"
     ]
    },
    {
     "name": "stdout",
     "output_type": "stream",
     "text": [
      "Pipe input given!\n"
     ]
    },
    {
     "name": "stderr",
     "output_type": "stream",
     "text": [
      "100%|██████████████████████████████████████████████████████████████████████████████| 8423/8423 [08:16<00:00, 16.98it/s]\n"
     ]
    },
    {
     "name": "stdout",
     "output_type": "stream",
     "text": [
      "Pipe input given!\n",
      "0.08899372566839929\n",
      "         Subset  Distance    P_miss      P_fa      nDCF\n",
      "0    fine_grain       1.2  0.078181  0.016698  0.094879\n",
      "1    fine_grain       1.8  0.050444  0.025503  0.075947\n",
      "2    fine_grain       3.0  0.024762  0.070050  0.094812\n",
      "3  coarse_grain       1.8  0.065355  0.024982  0.090337\n",
      "              precision    recall  f1-score   support\n",
      "\n",
      "         1.2       0.95      0.92      0.94      1407\n",
      "         1.8       0.93      0.91      0.92      1408\n",
      "         3.0       0.90      0.94      0.92      1385\n",
      "         4.5       0.93      0.93      0.93      1399\n",
      "\n",
      "    accuracy                           0.93      5599\n",
      "   macro avg       0.93      0.93      0.93      5599\n",
      "weighted avg       0.93      0.93      0.93      5599\n",
      "\n",
      "              precision    recall  f1-score   support\n",
      "\n",
      "         1.8       0.97      0.93      0.95      1423\n",
      "         4.5       0.94      0.98      0.96      1401\n",
      "\n",
      "    accuracy                           0.95      2824\n",
      "   macro avg       0.96      0.95      0.95      2824\n",
      "weighted avg       0.96      0.95      0.95      2824\n",
      "\n"
     ]
    }
   ],
   "source": [
    "run_with_encoder(ce.BaseNEncoder)"
   ]
  },
  {
   "cell_type": "markdown",
   "id": "26b0a499",
   "metadata": {},
   "source": [
    "## BinaryEncoder"
   ]
  },
  {
   "cell_type": "code",
   "execution_count": 7,
   "id": "79bf45c4",
   "metadata": {},
   "outputs": [
    {
     "name": "stderr",
     "output_type": "stream",
     "text": [
      "100%|████████████████████████████████████████████████████████████████████████████| 15552/15552 [14:34<00:00, 17.79it/s]\n"
     ]
    },
    {
     "name": "stdout",
     "output_type": "stream",
     "text": [
      "NO Pipe input given!\n"
     ]
    },
    {
     "name": "stderr",
     "output_type": "stream",
     "text": [
      "C:\\Users\\mtom7\\anaconda3\\envs\\py39\\lib\\site-packages\\category_encoders\\utils.py:21: FutureWarning: is_categorical is deprecated and will be removed in a future version.  Use is_categorical_dtype instead\n",
      "  elif pd.api.types.is_categorical(cols):\n",
      "100%|████████████████████████████████████████████████████████████████████████████████| 935/935 [00:52<00:00, 17.73it/s]\n"
     ]
    },
    {
     "name": "stdout",
     "output_type": "stream",
     "text": [
      "Pipe input given!\n"
     ]
    },
    {
     "name": "stderr",
     "output_type": "stream",
     "text": [
      "100%|██████████████████████████████████████████████████████████████████████████████| 8423/8423 [08:06<00:00, 17.30it/s]\n"
     ]
    },
    {
     "name": "stdout",
     "output_type": "stream",
     "text": [
      "Pipe input given!\n",
      "0.08899372566839929\n",
      "         Subset  Distance    P_miss      P_fa      nDCF\n",
      "0    fine_grain       1.2  0.078181  0.016698  0.094879\n",
      "1    fine_grain       1.8  0.050444  0.025503  0.075947\n",
      "2    fine_grain       3.0  0.024762  0.070050  0.094812\n",
      "3  coarse_grain       1.8  0.065355  0.024982  0.090337\n",
      "              precision    recall  f1-score   support\n",
      "\n",
      "         1.2       0.95      0.92      0.94      1407\n",
      "         1.8       0.93      0.91      0.92      1408\n",
      "         3.0       0.90      0.94      0.92      1385\n",
      "         4.5       0.93      0.93      0.93      1399\n",
      "\n",
      "    accuracy                           0.93      5599\n",
      "   macro avg       0.93      0.93      0.93      5599\n",
      "weighted avg       0.93      0.93      0.93      5599\n",
      "\n",
      "              precision    recall  f1-score   support\n",
      "\n",
      "         1.8       0.97      0.93      0.95      1423\n",
      "         4.5       0.94      0.98      0.96      1401\n",
      "\n",
      "    accuracy                           0.95      2824\n",
      "   macro avg       0.96      0.95      0.95      2824\n",
      "weighted avg       0.96      0.95      0.95      2824\n",
      "\n"
     ]
    }
   ],
   "source": [
    "run_with_encoder(ce.BinaryEncoder)"
   ]
  },
  {
   "cell_type": "markdown",
   "id": "c88b2d64",
   "metadata": {},
   "source": [
    "## CatBoostEncoder"
   ]
  },
  {
   "cell_type": "code",
   "execution_count": 8,
   "id": "85d8d0f5",
   "metadata": {},
   "outputs": [
    {
     "name": "stderr",
     "output_type": "stream",
     "text": [
      "100%|████████████████████████████████████████████████████████████████████████████| 15552/15552 [14:27<00:00, 17.92it/s]\n"
     ]
    },
    {
     "name": "stdout",
     "output_type": "stream",
     "text": [
      "NO Pipe input given!\n"
     ]
    },
    {
     "name": "stderr",
     "output_type": "stream",
     "text": [
      "C:\\Users\\mtom7\\anaconda3\\envs\\py39\\lib\\site-packages\\category_encoders\\utils.py:21: FutureWarning: is_categorical is deprecated and will be removed in a future version.  Use is_categorical_dtype instead\n",
      "  elif pd.api.types.is_categorical(cols):\n",
      "100%|████████████████████████████████████████████████████████████████████████████████| 935/935 [01:03<00:00, 14.69it/s]\n"
     ]
    },
    {
     "name": "stdout",
     "output_type": "stream",
     "text": [
      "Pipe input given!\n"
     ]
    },
    {
     "name": "stderr",
     "output_type": "stream",
     "text": [
      "100%|██████████████████████████████████████████████████████████████████████████████| 8423/8423 [08:33<00:00, 16.41it/s]\n"
     ]
    },
    {
     "name": "stdout",
     "output_type": "stream",
     "text": [
      "Pipe input given!\n",
      "0.09462685425199394\n",
      "         Subset  Distance    P_miss      P_fa      nDCF\n",
      "0    fine_grain       1.2  0.082445  0.025763  0.108208\n",
      "1    fine_grain       1.8  0.052575  0.023348  0.075923\n",
      "2    fine_grain       3.0  0.027619  0.070765  0.098384\n",
      "3  coarse_grain       1.8  0.068869  0.027123  0.095992\n",
      "              precision    recall  f1-score   support\n",
      "\n",
      "         1.2       0.92      0.92      0.92      1407\n",
      "         1.8       0.95      0.90      0.92      1408\n",
      "         3.0       0.90      0.94      0.92      1385\n",
      "         4.5       0.92      0.93      0.92      1399\n",
      "\n",
      "    accuracy                           0.92      5599\n",
      "   macro avg       0.92      0.92      0.92      5599\n",
      "weighted avg       0.92      0.92      0.92      5599\n",
      "\n",
      "              precision    recall  f1-score   support\n",
      "\n",
      "         1.8       0.97      0.93      0.95      1423\n",
      "         4.5       0.93      0.97      0.95      1401\n",
      "\n",
      "    accuracy                           0.95      2824\n",
      "   macro avg       0.95      0.95      0.95      2824\n",
      "weighted avg       0.95      0.95      0.95      2824\n",
      "\n"
     ]
    }
   ],
   "source": [
    "run_with_encoder(ce.CatBoostEncoder)"
   ]
  },
  {
   "cell_type": "markdown",
   "id": "26ebd14e",
   "metadata": {},
   "source": [
    "## CountEncoder"
   ]
  },
  {
   "cell_type": "code",
   "execution_count": 9,
   "id": "4a52eba5",
   "metadata": {},
   "outputs": [
    {
     "name": "stderr",
     "output_type": "stream",
     "text": [
      "100%|████████████████████████████████████████████████████████████████████████████| 15552/15552 [13:51<00:00, 18.71it/s]\n"
     ]
    },
    {
     "name": "stdout",
     "output_type": "stream",
     "text": [
      "NO Pipe input given!\n"
     ]
    },
    {
     "name": "stderr",
     "output_type": "stream",
     "text": [
      "C:\\Users\\mtom7\\anaconda3\\envs\\py39\\lib\\site-packages\\category_encoders\\utils.py:21: FutureWarning: is_categorical is deprecated and will be removed in a future version.  Use is_categorical_dtype instead\n",
      "  elif pd.api.types.is_categorical(cols):\n",
      "100%|████████████████████████████████████████████████████████████████████████████████| 935/935 [00:50<00:00, 18.35it/s]\n"
     ]
    },
    {
     "name": "stdout",
     "output_type": "stream",
     "text": [
      "Pipe input given!\n"
     ]
    },
    {
     "name": "stderr",
     "output_type": "stream",
     "text": [
      "100%|██████████████████████████████████████████████████████████████████████████████| 8423/8423 [08:02<00:00, 17.47it/s]\n"
     ]
    },
    {
     "name": "stdout",
     "output_type": "stream",
     "text": [
      "Pipe input given!\n",
      "0.09462685425199394\n",
      "         Subset  Distance    P_miss      P_fa      nDCF\n",
      "0    fine_grain       1.2  0.082445  0.025763  0.108208\n",
      "1    fine_grain       1.8  0.052575  0.023348  0.075923\n",
      "2    fine_grain       3.0  0.027619  0.070765  0.098384\n",
      "3  coarse_grain       1.8  0.068869  0.027123  0.095992\n",
      "              precision    recall  f1-score   support\n",
      "\n",
      "         1.2       0.92      0.92      0.92      1407\n",
      "         1.8       0.95      0.90      0.92      1408\n",
      "         3.0       0.90      0.94      0.92      1385\n",
      "         4.5       0.92      0.93      0.92      1399\n",
      "\n",
      "    accuracy                           0.92      5599\n",
      "   macro avg       0.92      0.92      0.92      5599\n",
      "weighted avg       0.92      0.92      0.92      5599\n",
      "\n",
      "              precision    recall  f1-score   support\n",
      "\n",
      "         1.8       0.97      0.93      0.95      1423\n",
      "         4.5       0.93      0.97      0.95      1401\n",
      "\n",
      "    accuracy                           0.95      2824\n",
      "   macro avg       0.95      0.95      0.95      2824\n",
      "weighted avg       0.95      0.95      0.95      2824\n",
      "\n"
     ]
    }
   ],
   "source": [
    "run_with_encoder(ce.CountEncoder)"
   ]
  },
  {
   "cell_type": "markdown",
   "id": "a4de547d",
   "metadata": {},
   "source": [
    "## GLMMEncoder"
   ]
  },
  {
   "cell_type": "code",
   "execution_count": 10,
   "id": "4257aed0",
   "metadata": {},
   "outputs": [
    {
     "name": "stderr",
     "output_type": "stream",
     "text": [
      "100%|████████████████████████████████████████████████████████████████████████████| 15552/15552 [13:10<00:00, 19.68it/s]\n"
     ]
    },
    {
     "name": "stdout",
     "output_type": "stream",
     "text": [
      "NO Pipe input given!\n"
     ]
    },
    {
     "name": "stderr",
     "output_type": "stream",
     "text": [
      "C:\\Users\\mtom7\\anaconda3\\envs\\py39\\lib\\site-packages\\category_encoders\\utils.py:21: FutureWarning: is_categorical is deprecated and will be removed in a future version.  Use is_categorical_dtype instead\n",
      "  elif pd.api.types.is_categorical(cols):\n",
      "100%|████████████████████████████████████████████████████████████████████████████████| 935/935 [00:40<00:00, 22.96it/s]\n"
     ]
    },
    {
     "name": "stdout",
     "output_type": "stream",
     "text": [
      "Pipe input given!\n"
     ]
    },
    {
     "name": "stderr",
     "output_type": "stream",
     "text": [
      "100%|██████████████████████████████████████████████████████████████████████████████| 8423/8423 [07:06<00:00, 19.75it/s]\n"
     ]
    },
    {
     "name": "stdout",
     "output_type": "stream",
     "text": [
      "Pipe input given!\n",
      "0.09462685425199394\n",
      "         Subset  Distance    P_miss      P_fa      nDCF\n",
      "0    fine_grain       1.2  0.082445  0.025763  0.108208\n",
      "1    fine_grain       1.8  0.052575  0.023348  0.075923\n",
      "2    fine_grain       3.0  0.027619  0.070765  0.098384\n",
      "3  coarse_grain       1.8  0.068869  0.027123  0.095992\n",
      "              precision    recall  f1-score   support\n",
      "\n",
      "         1.2       0.92      0.92      0.92      1407\n",
      "         1.8       0.95      0.90      0.92      1408\n",
      "         3.0       0.90      0.94      0.92      1385\n",
      "         4.5       0.92      0.93      0.92      1399\n",
      "\n",
      "    accuracy                           0.92      5599\n",
      "   macro avg       0.92      0.92      0.92      5599\n",
      "weighted avg       0.92      0.92      0.92      5599\n",
      "\n",
      "              precision    recall  f1-score   support\n",
      "\n",
      "         1.8       0.97      0.93      0.95      1423\n",
      "         4.5       0.93      0.97      0.95      1401\n",
      "\n",
      "    accuracy                           0.95      2824\n",
      "   macro avg       0.95      0.95      0.95      2824\n",
      "weighted avg       0.95      0.95      0.95      2824\n",
      "\n"
     ]
    }
   ],
   "source": [
    "run_with_encoder(ce.GLMMEncoder)"
   ]
  },
  {
   "cell_type": "markdown",
   "id": "d7d27540",
   "metadata": {},
   "source": [
    "## HashingEncoder"
   ]
  },
  {
   "cell_type": "code",
   "execution_count": 11,
   "id": "3521833a",
   "metadata": {},
   "outputs": [
    {
     "name": "stderr",
     "output_type": "stream",
     "text": [
      "100%|████████████████████████████████████████████████████████████████████████████| 15552/15552 [12:31<00:00, 20.70it/s]\n"
     ]
    },
    {
     "name": "stdout",
     "output_type": "stream",
     "text": [
      "NO Pipe input given!\n"
     ]
    },
    {
     "name": "stderr",
     "output_type": "stream",
     "text": [
      "C:\\Users\\mtom7\\anaconda3\\envs\\py39\\lib\\site-packages\\category_encoders\\utils.py:21: FutureWarning: is_categorical is deprecated and will be removed in a future version.  Use is_categorical_dtype instead\n",
      "  elif pd.api.types.is_categorical(cols):\n",
      "100%|████████████████████████████████████████████████████████████████████████████████| 935/935 [00:47<00:00, 19.73it/s]\n"
     ]
    },
    {
     "name": "stdout",
     "output_type": "stream",
     "text": [
      "Pipe input given!\n"
     ]
    },
    {
     "name": "stderr",
     "output_type": "stream",
     "text": [
      "100%|██████████████████████████████████████████████████████████████████████████████| 8423/8423 [07:15<00:00, 19.33it/s]\n"
     ]
    },
    {
     "name": "stdout",
     "output_type": "stream",
     "text": [
      "Pipe input given!\n",
      "0.09045532127290033\n",
      "         Subset  Distance    P_miss      P_fa      nDCF\n",
      "0    fine_grain       1.2  0.084577  0.017891  0.102468\n",
      "1    fine_grain       1.8  0.055062  0.024066  0.079128\n",
      "2    fine_grain       3.0  0.030476  0.063617  0.094093\n",
      "3  coarse_grain       1.8  0.060436  0.025696  0.086132\n",
      "              precision    recall  f1-score   support\n",
      "\n",
      "         1.2       0.94      0.92      0.93      1407\n",
      "         1.8       0.94      0.91      0.92      1408\n",
      "         3.0       0.91      0.94      0.92      1385\n",
      "         4.5       0.91      0.94      0.92      1399\n",
      "\n",
      "    accuracy                           0.92      5599\n",
      "   macro avg       0.93      0.92      0.92      5599\n",
      "weighted avg       0.93      0.92      0.92      5599\n",
      "\n",
      "              precision    recall  f1-score   support\n",
      "\n",
      "         1.8       0.97      0.94      0.96      1423\n",
      "         4.5       0.94      0.97      0.96      1401\n",
      "\n",
      "    accuracy                           0.96      2824\n",
      "   macro avg       0.96      0.96      0.96      2824\n",
      "weighted avg       0.96      0.96      0.96      2824\n",
      "\n"
     ]
    }
   ],
   "source": [
    "run_with_encoder(ce.HashingEncoder)"
   ]
  },
  {
   "cell_type": "markdown",
   "id": "ace668a2",
   "metadata": {},
   "source": [
    "## HelmertEncoder"
   ]
  },
  {
   "cell_type": "code",
   "execution_count": 12,
   "id": "5e68ba92",
   "metadata": {},
   "outputs": [
    {
     "name": "stderr",
     "output_type": "stream",
     "text": [
      "100%|████████████████████████████████████████████████████████████████████████████| 15552/15552 [11:23<00:00, 22.74it/s]\n"
     ]
    },
    {
     "name": "stdout",
     "output_type": "stream",
     "text": [
      "NO Pipe input given!\n"
     ]
    },
    {
     "name": "stderr",
     "output_type": "stream",
     "text": [
      "C:\\Users\\mtom7\\anaconda3\\envs\\py39\\lib\\site-packages\\category_encoders\\utils.py:21: FutureWarning: is_categorical is deprecated and will be removed in a future version.  Use is_categorical_dtype instead\n",
      "  elif pd.api.types.is_categorical(cols):\n",
      "100%|████████████████████████████████████████████████████████████████████████████████| 935/935 [00:40<00:00, 23.16it/s]\n"
     ]
    },
    {
     "name": "stdout",
     "output_type": "stream",
     "text": [
      "Pipe input given!\n"
     ]
    },
    {
     "name": "stderr",
     "output_type": "stream",
     "text": [
      "100%|██████████████████████████████████████████████████████████████████████████████| 8423/8423 [06:26<00:00, 21.77it/s]\n"
     ]
    },
    {
     "name": "stdout",
     "output_type": "stream",
     "text": [
      "Pipe input given!\n",
      "0.08021839488588642\n",
      "         Subset  Distance    P_miss      P_fa      nDCF\n",
      "0    fine_grain       1.2  0.073916  0.011927  0.085844\n",
      "1    fine_grain       1.8  0.047602  0.021193  0.068795\n",
      "2    fine_grain       3.0  0.023571  0.062187  0.085759\n",
      "3  coarse_grain       1.8  0.056922  0.023555  0.080477\n",
      "              precision    recall  f1-score   support\n",
      "\n",
      "         1.2       0.96      0.93      0.94      1407\n",
      "         1.8       0.94      0.93      0.94      1408\n",
      "         3.0       0.91      0.95      0.93      1385\n",
      "         4.5       0.93      0.94      0.93      1399\n",
      "\n",
      "    accuracy                           0.94      5599\n",
      "   macro avg       0.94      0.94      0.94      5599\n",
      "weighted avg       0.94      0.94      0.94      5599\n",
      "\n",
      "              precision    recall  f1-score   support\n",
      "\n",
      "         1.8       0.98      0.94      0.96      1423\n",
      "         4.5       0.94      0.98      0.96      1401\n",
      "\n",
      "    accuracy                           0.96      2824\n",
      "   macro avg       0.96      0.96      0.96      2824\n",
      "weighted avg       0.96      0.96      0.96      2824\n",
      "\n"
     ]
    }
   ],
   "source": [
    "run_with_encoder(ce.HelmertEncoder)"
   ]
  },
  {
   "cell_type": "markdown",
   "id": "71fa5579",
   "metadata": {},
   "source": [
    "## JamesSteinEncoder"
   ]
  },
  {
   "cell_type": "code",
   "execution_count": 13,
   "id": "0237ca44",
   "metadata": {},
   "outputs": [
    {
     "name": "stderr",
     "output_type": "stream",
     "text": [
      "100%|████████████████████████████████████████████████████████████████████████████| 15552/15552 [11:02<00:00, 23.46it/s]\n"
     ]
    },
    {
     "name": "stdout",
     "output_type": "stream",
     "text": [
      "NO Pipe input given!\n"
     ]
    },
    {
     "name": "stderr",
     "output_type": "stream",
     "text": [
      "C:\\Users\\mtom7\\anaconda3\\envs\\py39\\lib\\site-packages\\category_encoders\\utils.py:21: FutureWarning: is_categorical is deprecated and will be removed in a future version.  Use is_categorical_dtype instead\n",
      "  elif pd.api.types.is_categorical(cols):\n",
      "100%|████████████████████████████████████████████████████████████████████████████████| 935/935 [00:47<00:00, 19.69it/s]\n"
     ]
    },
    {
     "name": "stdout",
     "output_type": "stream",
     "text": [
      "Pipe input given!\n"
     ]
    },
    {
     "name": "stderr",
     "output_type": "stream",
     "text": [
      "100%|██████████████████████████████████████████████████████████████████████████████| 8423/8423 [06:39<00:00, 21.06it/s]\n"
     ]
    },
    {
     "name": "stdout",
     "output_type": "stream",
     "text": [
      "Pipe input given!\n",
      "0.09462685425199394\n",
      "         Subset  Distance    P_miss      P_fa      nDCF\n",
      "0    fine_grain       1.2  0.082445  0.025763  0.108208\n",
      "1    fine_grain       1.8  0.052575  0.023348  0.075923\n",
      "2    fine_grain       3.0  0.027619  0.070765  0.098384\n",
      "3  coarse_grain       1.8  0.068869  0.027123  0.095992\n",
      "              precision    recall  f1-score   support\n",
      "\n",
      "         1.2       0.92      0.92      0.92      1407\n",
      "         1.8       0.95      0.90      0.92      1408\n",
      "         3.0       0.90      0.94      0.92      1385\n",
      "         4.5       0.92      0.93      0.92      1399\n",
      "\n",
      "    accuracy                           0.92      5599\n",
      "   macro avg       0.92      0.92      0.92      5599\n",
      "weighted avg       0.92      0.92      0.92      5599\n",
      "\n",
      "              precision    recall  f1-score   support\n",
      "\n",
      "         1.8       0.97      0.93      0.95      1423\n",
      "         4.5       0.93      0.97      0.95      1401\n",
      "\n",
      "    accuracy                           0.95      2824\n",
      "   macro avg       0.95      0.95      0.95      2824\n",
      "weighted avg       0.95      0.95      0.95      2824\n",
      "\n"
     ]
    }
   ],
   "source": [
    "run_with_encoder(ce.JamesSteinEncoder)"
   ]
  },
  {
   "cell_type": "markdown",
   "id": "eaf7b448",
   "metadata": {},
   "source": [
    "## LeaveOneOutEncoder"
   ]
  },
  {
   "cell_type": "code",
   "execution_count": 14,
   "id": "0c9dd33c",
   "metadata": {},
   "outputs": [
    {
     "name": "stderr",
     "output_type": "stream",
     "text": [
      "100%|████████████████████████████████████████████████████████████████████████████| 15552/15552 [11:14<00:00, 23.04it/s]\n"
     ]
    },
    {
     "name": "stdout",
     "output_type": "stream",
     "text": [
      "NO Pipe input given!\n"
     ]
    },
    {
     "name": "stderr",
     "output_type": "stream",
     "text": [
      "C:\\Users\\mtom7\\anaconda3\\envs\\py39\\lib\\site-packages\\category_encoders\\utils.py:21: FutureWarning: is_categorical is deprecated and will be removed in a future version.  Use is_categorical_dtype instead\n",
      "  elif pd.api.types.is_categorical(cols):\n",
      "100%|████████████████████████████████████████████████████████████████████████████████| 935/935 [00:45<00:00, 20.48it/s]\n"
     ]
    },
    {
     "name": "stdout",
     "output_type": "stream",
     "text": [
      "Pipe input given!\n"
     ]
    },
    {
     "name": "stderr",
     "output_type": "stream",
     "text": [
      "100%|██████████████████████████████████████████████████████████████████████████████| 8423/8423 [06:30<00:00, 21.55it/s]\n"
     ]
    },
    {
     "name": "stdout",
     "output_type": "stream",
     "text": [
      "Pipe input given!\n",
      "0.09462685425199394\n",
      "         Subset  Distance    P_miss      P_fa      nDCF\n",
      "0    fine_grain       1.2  0.082445  0.025763  0.108208\n",
      "1    fine_grain       1.8  0.052575  0.023348  0.075923\n",
      "2    fine_grain       3.0  0.027619  0.070765  0.098384\n",
      "3  coarse_grain       1.8  0.068869  0.027123  0.095992\n",
      "              precision    recall  f1-score   support\n",
      "\n",
      "         1.2       0.92      0.92      0.92      1407\n",
      "         1.8       0.95      0.90      0.92      1408\n",
      "         3.0       0.90      0.94      0.92      1385\n",
      "         4.5       0.92      0.93      0.92      1399\n",
      "\n",
      "    accuracy                           0.92      5599\n",
      "   macro avg       0.92      0.92      0.92      5599\n",
      "weighted avg       0.92      0.92      0.92      5599\n",
      "\n",
      "              precision    recall  f1-score   support\n",
      "\n",
      "         1.8       0.97      0.93      0.95      1423\n",
      "         4.5       0.93      0.97      0.95      1401\n",
      "\n",
      "    accuracy                           0.95      2824\n",
      "   macro avg       0.95      0.95      0.95      2824\n",
      "weighted avg       0.95      0.95      0.95      2824\n",
      "\n"
     ]
    }
   ],
   "source": [
    "run_with_encoder(ce.LeaveOneOutEncoder)"
   ]
  },
  {
   "cell_type": "markdown",
   "id": "84eb7376",
   "metadata": {},
   "source": [
    "## MEstimateEncoder"
   ]
  },
  {
   "cell_type": "code",
   "execution_count": 15,
   "id": "60a3d639",
   "metadata": {},
   "outputs": [
    {
     "name": "stderr",
     "output_type": "stream",
     "text": [
      "100%|████████████████████████████████████████████████████████████████████████████| 15552/15552 [12:07<00:00, 21.38it/s]\n"
     ]
    },
    {
     "name": "stdout",
     "output_type": "stream",
     "text": [
      "NO Pipe input given!\n"
     ]
    },
    {
     "name": "stderr",
     "output_type": "stream",
     "text": [
      "C:\\Users\\mtom7\\anaconda3\\envs\\py39\\lib\\site-packages\\category_encoders\\utils.py:21: FutureWarning: is_categorical is deprecated and will be removed in a future version.  Use is_categorical_dtype instead\n",
      "  elif pd.api.types.is_categorical(cols):\n",
      "100%|████████████████████████████████████████████████████████████████████████████████| 935/935 [00:51<00:00, 18.31it/s]\n"
     ]
    },
    {
     "name": "stdout",
     "output_type": "stream",
     "text": [
      "Pipe input given!\n"
     ]
    },
    {
     "name": "stderr",
     "output_type": "stream",
     "text": [
      "100%|██████████████████████████████████████████████████████████████████████████████| 8423/8423 [07:06<00:00, 19.75it/s]\n"
     ]
    },
    {
     "name": "stdout",
     "output_type": "stream",
     "text": [
      "Pipe input given!\n",
      "0.09462685425199394\n",
      "         Subset  Distance    P_miss      P_fa      nDCF\n",
      "0    fine_grain       1.2  0.082445  0.025763  0.108208\n",
      "1    fine_grain       1.8  0.052575  0.023348  0.075923\n",
      "2    fine_grain       3.0  0.027619  0.070765  0.098384\n",
      "3  coarse_grain       1.8  0.068869  0.027123  0.095992\n",
      "              precision    recall  f1-score   support\n",
      "\n",
      "         1.2       0.92      0.92      0.92      1407\n",
      "         1.8       0.95      0.90      0.92      1408\n",
      "         3.0       0.90      0.94      0.92      1385\n",
      "         4.5       0.92      0.93      0.92      1399\n",
      "\n",
      "    accuracy                           0.92      5599\n",
      "   macro avg       0.92      0.92      0.92      5599\n",
      "weighted avg       0.92      0.92      0.92      5599\n",
      "\n",
      "              precision    recall  f1-score   support\n",
      "\n",
      "         1.8       0.97      0.93      0.95      1423\n",
      "         4.5       0.93      0.97      0.95      1401\n",
      "\n",
      "    accuracy                           0.95      2824\n",
      "   macro avg       0.95      0.95      0.95      2824\n",
      "weighted avg       0.95      0.95      0.95      2824\n",
      "\n"
     ]
    }
   ],
   "source": [
    "run_with_encoder(ce.MEstimateEncoder)"
   ]
  },
  {
   "cell_type": "markdown",
   "id": "d2c6cba0",
   "metadata": {},
   "source": [
    "## OneHotEncoder"
   ]
  },
  {
   "cell_type": "code",
   "execution_count": 16,
   "id": "8872b0ef",
   "metadata": {},
   "outputs": [
    {
     "name": "stderr",
     "output_type": "stream",
     "text": [
      "100%|████████████████████████████████████████████████████████████████████████████| 15552/15552 [16:12<00:00, 15.99it/s]\n"
     ]
    },
    {
     "name": "stdout",
     "output_type": "stream",
     "text": [
      "NO Pipe input given!\n"
     ]
    },
    {
     "name": "stderr",
     "output_type": "stream",
     "text": [
      "C:\\Users\\mtom7\\anaconda3\\envs\\py39\\lib\\site-packages\\category_encoders\\utils.py:21: FutureWarning: is_categorical is deprecated and will be removed in a future version.  Use is_categorical_dtype instead\n",
      "  elif pd.api.types.is_categorical(cols):\n",
      "100%|████████████████████████████████████████████████████████████████████████████████| 935/935 [01:05<00:00, 14.34it/s]\n"
     ]
    },
    {
     "name": "stdout",
     "output_type": "stream",
     "text": [
      "Pipe input given!\n"
     ]
    },
    {
     "name": "stderr",
     "output_type": "stream",
     "text": [
      "100%|██████████████████████████████████████████████████████████████████████████████| 8423/8423 [10:05<00:00, 13.90it/s]\n"
     ]
    },
    {
     "name": "stdout",
     "output_type": "stream",
     "text": [
      "Pipe input given!\n",
      "0.08474520038917836\n",
      "         Subset  Distance    P_miss      P_fa      nDCF\n",
      "0    fine_grain       1.2  0.078891  0.020515  0.099407\n",
      "1    fine_grain       1.8  0.049378  0.024425  0.073804\n",
      "2    fine_grain       3.0  0.025238  0.061472  0.086711\n",
      "3  coarse_grain       1.8  0.056219  0.022841  0.079060\n",
      "              precision    recall  f1-score   support\n",
      "\n",
      "         1.2       0.94      0.92      0.93      1407\n",
      "         1.8       0.94      0.91      0.92      1408\n",
      "         3.0       0.91      0.94      0.92      1385\n",
      "         4.5       0.93      0.94      0.93      1399\n",
      "\n",
      "    accuracy                           0.93      5599\n",
      "   macro avg       0.93      0.93      0.93      5599\n",
      "weighted avg       0.93      0.93      0.93      5599\n",
      "\n",
      "              precision    recall  f1-score   support\n",
      "\n",
      "         1.8       0.98      0.94      0.96      1423\n",
      "         4.5       0.94      0.98      0.96      1401\n",
      "\n",
      "    accuracy                           0.96      2824\n",
      "   macro avg       0.96      0.96      0.96      2824\n",
      "weighted avg       0.96      0.96      0.96      2824\n",
      "\n"
     ]
    }
   ],
   "source": [
    "run_with_encoder(ce.OneHotEncoder)"
   ]
  },
  {
   "cell_type": "markdown",
   "id": "a40beda7",
   "metadata": {},
   "source": [
    "## OrdinalEncoder"
   ]
  },
  {
   "cell_type": "code",
   "execution_count": 17,
   "id": "306f643f",
   "metadata": {},
   "outputs": [
    {
     "name": "stderr",
     "output_type": "stream",
     "text": [
      "100%|████████████████████████████████████████████████████████████████████████████| 15552/15552 [14:50<00:00, 17.46it/s]\n"
     ]
    },
    {
     "name": "stdout",
     "output_type": "stream",
     "text": [
      "NO Pipe input given!\n"
     ]
    },
    {
     "name": "stderr",
     "output_type": "stream",
     "text": [
      "C:\\Users\\mtom7\\anaconda3\\envs\\py39\\lib\\site-packages\\category_encoders\\utils.py:21: FutureWarning: is_categorical is deprecated and will be removed in a future version.  Use is_categorical_dtype instead\n",
      "  elif pd.api.types.is_categorical(cols):\n",
      "100%|████████████████████████████████████████████████████████████████████████████████| 935/935 [00:43<00:00, 21.73it/s]\n"
     ]
    },
    {
     "name": "stdout",
     "output_type": "stream",
     "text": [
      "Pipe input given!\n"
     ]
    },
    {
     "name": "stderr",
     "output_type": "stream",
     "text": [
      "100%|██████████████████████████████████████████████████████████████████████████████| 8423/8423 [07:15<00:00, 19.33it/s]\n"
     ]
    },
    {
     "name": "stdout",
     "output_type": "stream",
     "text": [
      "Pipe input given!\n",
      "0.09462685425199394\n",
      "         Subset  Distance    P_miss      P_fa      nDCF\n",
      "0    fine_grain       1.2  0.082445  0.025763  0.108208\n",
      "1    fine_grain       1.8  0.052575  0.023348  0.075923\n",
      "2    fine_grain       3.0  0.027619  0.070765  0.098384\n",
      "3  coarse_grain       1.8  0.068869  0.027123  0.095992\n",
      "              precision    recall  f1-score   support\n",
      "\n",
      "         1.2       0.92      0.92      0.92      1407\n",
      "         1.8       0.95      0.90      0.92      1408\n",
      "         3.0       0.90      0.94      0.92      1385\n",
      "         4.5       0.92      0.93      0.92      1399\n",
      "\n",
      "    accuracy                           0.92      5599\n",
      "   macro avg       0.92      0.92      0.92      5599\n",
      "weighted avg       0.92      0.92      0.92      5599\n",
      "\n",
      "              precision    recall  f1-score   support\n",
      "\n",
      "         1.8       0.97      0.93      0.95      1423\n",
      "         4.5       0.93      0.97      0.95      1401\n",
      "\n",
      "    accuracy                           0.95      2824\n",
      "   macro avg       0.95      0.95      0.95      2824\n",
      "weighted avg       0.95      0.95      0.95      2824\n",
      "\n"
     ]
    }
   ],
   "source": [
    "run_with_encoder(ce.OrdinalEncoder)"
   ]
  },
  {
   "cell_type": "markdown",
   "id": "5f3e13f3",
   "metadata": {},
   "source": [
    "## SumEncoder"
   ]
  },
  {
   "cell_type": "code",
   "execution_count": 18,
   "id": "b612bfd7",
   "metadata": {},
   "outputs": [
    {
     "name": "stderr",
     "output_type": "stream",
     "text": [
      "100%|████████████████████████████████████████████████████████████████████████████| 15552/15552 [13:13<00:00, 19.60it/s]\n"
     ]
    },
    {
     "name": "stdout",
     "output_type": "stream",
     "text": [
      "NO Pipe input given!\n"
     ]
    },
    {
     "name": "stderr",
     "output_type": "stream",
     "text": [
      "C:\\Users\\mtom7\\anaconda3\\envs\\py39\\lib\\site-packages\\category_encoders\\utils.py:21: FutureWarning: is_categorical is deprecated and will be removed in a future version.  Use is_categorical_dtype instead\n",
      "  elif pd.api.types.is_categorical(cols):\n",
      "100%|████████████████████████████████████████████████████████████████████████████████| 935/935 [00:56<00:00, 16.44it/s]\n"
     ]
    },
    {
     "name": "stdout",
     "output_type": "stream",
     "text": [
      "Pipe input given!\n"
     ]
    },
    {
     "name": "stderr",
     "output_type": "stream",
     "text": [
      "100%|██████████████████████████████████████████████████████████████████████████████| 8423/8423 [07:09<00:00, 19.61it/s]\n"
     ]
    },
    {
     "name": "stdout",
     "output_type": "stream",
     "text": [
      "Pipe input given!\n",
      "0.08485704052289003\n",
      "         Subset  Distance    P_miss      P_fa      nDCF\n",
      "0    fine_grain       1.2  0.077470  0.012643  0.090113\n",
      "1    fine_grain       1.8  0.049023  0.021911  0.070934\n",
      "2    fine_grain       3.0  0.025714  0.069335  0.095050\n",
      "3  coarse_grain       1.8  0.056922  0.026410  0.083332\n",
      "              precision    recall  f1-score   support\n",
      "\n",
      "         1.2       0.96      0.92      0.94      1407\n",
      "         1.8       0.93      0.92      0.93      1408\n",
      "         3.0       0.90      0.94      0.92      1385\n",
      "         4.5       0.92      0.93      0.93      1399\n",
      "\n",
      "    accuracy                           0.93      5599\n",
      "   macro avg       0.93      0.93      0.93      5599\n",
      "weighted avg       0.93      0.93      0.93      5599\n",
      "\n",
      "              precision    recall  f1-score   support\n",
      "\n",
      "         1.8       0.97      0.94      0.96      1423\n",
      "         4.5       0.94      0.97      0.96      1401\n",
      "\n",
      "    accuracy                           0.96      2824\n",
      "   macro avg       0.96      0.96      0.96      2824\n",
      "weighted avg       0.96      0.96      0.96      2824\n",
      "\n"
     ]
    }
   ],
   "source": [
    "run_with_encoder(ce.SumEncoder)"
   ]
  },
  {
   "cell_type": "markdown",
   "id": "1c5256a1",
   "metadata": {},
   "source": [
    "## TargetEncoder"
   ]
  },
  {
   "cell_type": "code",
   "execution_count": 19,
   "id": "11e44524",
   "metadata": {},
   "outputs": [
    {
     "name": "stderr",
     "output_type": "stream",
     "text": [
      "100%|████████████████████████████████████████████████████████████████████████████| 15552/15552 [11:08<00:00, 23.26it/s]\n"
     ]
    },
    {
     "name": "stdout",
     "output_type": "stream",
     "text": [
      "NO Pipe input given!\n"
     ]
    },
    {
     "name": "stderr",
     "output_type": "stream",
     "text": [
      "C:\\Users\\mtom7\\anaconda3\\envs\\py39\\lib\\site-packages\\category_encoders\\utils.py:21: FutureWarning: is_categorical is deprecated and will be removed in a future version.  Use is_categorical_dtype instead\n",
      "  elif pd.api.types.is_categorical(cols):\n",
      "100%|████████████████████████████████████████████████████████████████████████████████| 935/935 [00:56<00:00, 16.68it/s]\n"
     ]
    },
    {
     "name": "stdout",
     "output_type": "stream",
     "text": [
      "Pipe input given!\n"
     ]
    },
    {
     "name": "stderr",
     "output_type": "stream",
     "text": [
      "100%|██████████████████████████████████████████████████████████████████████████████| 8423/8423 [07:29<00:00, 18.73it/s]\n"
     ]
    },
    {
     "name": "stdout",
     "output_type": "stream",
     "text": [
      "Pipe input given!\n",
      "0.09462685425199394\n",
      "         Subset  Distance    P_miss      P_fa      nDCF\n",
      "0    fine_grain       1.2  0.082445  0.025763  0.108208\n",
      "1    fine_grain       1.8  0.052575  0.023348  0.075923\n",
      "2    fine_grain       3.0  0.027619  0.070765  0.098384\n",
      "3  coarse_grain       1.8  0.068869  0.027123  0.095992\n",
      "              precision    recall  f1-score   support\n",
      "\n",
      "         1.2       0.92      0.92      0.92      1407\n",
      "         1.8       0.95      0.90      0.92      1408\n",
      "         3.0       0.90      0.94      0.92      1385\n",
      "         4.5       0.92      0.93      0.92      1399\n",
      "\n",
      "    accuracy                           0.92      5599\n",
      "   macro avg       0.92      0.92      0.92      5599\n",
      "weighted avg       0.92      0.92      0.92      5599\n",
      "\n",
      "              precision    recall  f1-score   support\n",
      "\n",
      "         1.8       0.97      0.93      0.95      1423\n",
      "         4.5       0.93      0.97      0.95      1401\n",
      "\n",
      "    accuracy                           0.95      2824\n",
      "   macro avg       0.95      0.95      0.95      2824\n",
      "weighted avg       0.95      0.95      0.95      2824\n",
      "\n"
     ]
    }
   ],
   "source": [
    "run_with_encoder(ce.TargetEncoder)"
   ]
  },
  {
   "cell_type": "markdown",
   "id": "d4bf3aca",
   "metadata": {},
   "source": [
    "## WOEEncoder"
   ]
  },
  {
   "cell_type": "code",
   "execution_count": 20,
   "id": "e9cbf071",
   "metadata": {},
   "outputs": [
    {
     "name": "stderr",
     "output_type": "stream",
     "text": [
      "100%|████████████████████████████████████████████████████████████████████████████| 15552/15552 [11:18<00:00, 22.91it/s]\n"
     ]
    },
    {
     "name": "stdout",
     "output_type": "stream",
     "text": [
      "NO Pipe input given!\n"
     ]
    },
    {
     "ename": "ValueError",
     "evalue": "The target column y must be binary. But the target contains 4 unique value(s).",
     "output_type": "error",
     "traceback": [
      "\u001b[1;31m---------------------------------------------------------------------------\u001b[0m",
      "\u001b[1;31mValueError\u001b[0m                                Traceback (most recent call last)",
      "\u001b[1;32m~\\AppData\\Local\\Temp/ipykernel_72124/701353088.py\u001b[0m in \u001b[0;36m<module>\u001b[1;34m\u001b[0m\n\u001b[1;32m----> 1\u001b[1;33m \u001b[0mrun_with_encoder\u001b[0m\u001b[1;33m(\u001b[0m\u001b[0mce\u001b[0m\u001b[1;33m.\u001b[0m\u001b[0mWOEEncoder\u001b[0m\u001b[1;33m)\u001b[0m\u001b[1;33m\u001b[0m\u001b[1;33m\u001b[0m\u001b[0m\n\u001b[0m",
      "\u001b[1;32m~\\AppData\\Local\\Temp/ipykernel_72124/4177395287.py\u001b[0m in \u001b[0;36mrun_with_encoder\u001b[1;34m(encoder)\u001b[0m\n\u001b[0;32m      1\u001b[0m \u001b[1;32mdef\u001b[0m \u001b[0mrun_with_encoder\u001b[0m\u001b[1;33m(\u001b[0m\u001b[0mencoder\u001b[0m\u001b[1;33m)\u001b[0m\u001b[1;33m:\u001b[0m\u001b[1;33m\u001b[0m\u001b[1;33m\u001b[0m\u001b[0m\n\u001b[0;32m      2\u001b[0m \u001b[1;33m\u001b[0m\u001b[0m\n\u001b[1;32m----> 3\u001b[1;33m     (trainset, devset, testset), pipe = make_datasets(combine(sensor_summary, read_non_sensor_data),\n\u001b[0m\u001b[0;32m      4\u001b[0m                                           \u001b[0mpostproc_categorical\u001b[0m\u001b[1;33m,\u001b[0m \u001b[0mverbose\u001b[0m\u001b[1;33m=\u001b[0m\u001b[1;32mTrue\u001b[0m\u001b[1;33m,\u001b[0m \u001b[0mtesting\u001b[0m\u001b[1;33m=\u001b[0m\u001b[1;36m0\u001b[0m\u001b[1;33m,\u001b[0m\u001b[1;33m\u001b[0m\u001b[1;33m\u001b[0m\u001b[0m\n\u001b[0;32m      5\u001b[0m                                           tunables={ \n",
      "\u001b[1;32m~\\Documents\\_PhD\\Bootcamp\\Group Project\\ml-labs-bootcamp-group-5\\src\\dataset\\tc4tl.py\u001b[0m in \u001b[0;36mmake_datasets\u001b[1;34m(feature_fn, postproc_fn, tunables, verbose, testing)\u001b[0m\n\u001b[0;32m     18\u001b[0m         )\n\u001b[0;32m     19\u001b[0m \u001b[1;33m\u001b[0m\u001b[0m\n\u001b[1;32m---> 20\u001b[1;33m     \u001b[0mtrain\u001b[0m\u001b[1;33m,\u001b[0m \u001b[0mpipe\u001b[0m \u001b[1;33m=\u001b[0m \u001b[0mmake_dataset\u001b[0m\u001b[1;33m(\u001b[0m\u001b[0mtrain_dir\u001b[0m\u001b[1;33m,\u001b[0m \u001b[0mpd\u001b[0m\u001b[1;33m.\u001b[0m\u001b[0mread_csv\u001b[0m\u001b[1;33m(\u001b[0m\u001b[0mtrain_key_fp\u001b[0m\u001b[1;33m,\u001b[0m \u001b[0msep\u001b[0m\u001b[1;33m=\u001b[0m\u001b[1;34m\"\\t\"\u001b[0m\u001b[1;33m)\u001b[0m\u001b[1;33m)\u001b[0m\u001b[1;33m\u001b[0m\u001b[1;33m\u001b[0m\u001b[0m\n\u001b[0m\u001b[0;32m     21\u001b[0m     dev, _ = make_dataset(dev_dir, pd.read_csv(\n\u001b[0;32m     22\u001b[0m         dev_key_fp, sep=\"\\t\"), pipe=pipe)\n",
      "\u001b[1;32m~\\Documents\\_PhD\\Bootcamp\\Group Project\\ml-labs-bootcamp-group-5\\src\\dataset\\tc4tl.py\u001b[0m in \u001b[0;36mmake_dataset\u001b[1;34m(folder, key, pipe)\u001b[0m\n\u001b[0;32m      7\u001b[0m \u001b[1;32mdef\u001b[0m \u001b[0mmake_datasets\u001b[0m\u001b[1;33m(\u001b[0m\u001b[0mfeature_fn\u001b[0m\u001b[1;33m,\u001b[0m \u001b[0mpostproc_fn\u001b[0m\u001b[1;33m,\u001b[0m \u001b[0mtunables\u001b[0m\u001b[1;33m,\u001b[0m \u001b[0mverbose\u001b[0m\u001b[1;33m=\u001b[0m\u001b[1;32mFalse\u001b[0m\u001b[1;33m,\u001b[0m \u001b[0mtesting\u001b[0m\u001b[1;33m=\u001b[0m\u001b[1;36m0\u001b[0m\u001b[1;33m)\u001b[0m\u001b[1;33m:\u001b[0m\u001b[1;33m\u001b[0m\u001b[1;33m\u001b[0m\u001b[0m\n\u001b[0;32m      8\u001b[0m     \u001b[1;32mdef\u001b[0m \u001b[0mmake_dataset\u001b[0m\u001b[1;33m(\u001b[0m\u001b[0mfolder\u001b[0m\u001b[1;33m,\u001b[0m \u001b[0mkey\u001b[0m\u001b[1;33m,\u001b[0m \u001b[0mpipe\u001b[0m\u001b[1;33m=\u001b[0m\u001b[1;32mNone\u001b[0m\u001b[1;33m)\u001b[0m\u001b[1;33m:\u001b[0m\u001b[1;33m\u001b[0m\u001b[1;33m\u001b[0m\u001b[0m\n\u001b[1;32m----> 9\u001b[1;33m         return aggregate_features_from_folder(\n\u001b[0m\u001b[0;32m     10\u001b[0m             \u001b[0mfolder\u001b[0m\u001b[1;33m,\u001b[0m\u001b[1;33m\u001b[0m\u001b[1;33m\u001b[0m\u001b[0m\n\u001b[0;32m     11\u001b[0m             \u001b[0mkey\u001b[0m\u001b[1;33m,\u001b[0m\u001b[1;33m\u001b[0m\u001b[1;33m\u001b[0m\u001b[0m\n",
      "\u001b[1;32m~\\Documents\\_PhD\\Bootcamp\\Group Project\\ml-labs-bootcamp-group-5\\src\\featutils.py\u001b[0m in \u001b[0;36maggregate_features_from_folder\u001b[1;34m(folder, key, feat_fn, postproc_fn, predictors, target, pipe, testing, tunables, verbose)\u001b[0m\n\u001b[0;32m     29\u001b[0m         \u001b[0mfilepath\u001b[0m \u001b[1;33m=\u001b[0m \u001b[0mos\u001b[0m\u001b[1;33m.\u001b[0m\u001b[0mpath\u001b[0m\u001b[1;33m.\u001b[0m\u001b[0mjoin\u001b[0m\u001b[1;33m(\u001b[0m\u001b[0mfolder\u001b[0m\u001b[1;33m,\u001b[0m \u001b[0mrow\u001b[0m\u001b[1;33m.\u001b[0m\u001b[0mfileid\u001b[0m\u001b[1;33m)\u001b[0m\u001b[1;33m\u001b[0m\u001b[1;33m\u001b[0m\u001b[0m\n\u001b[0;32m     30\u001b[0m         \u001b[0mfeatures\u001b[0m\u001b[1;33m.\u001b[0m\u001b[0mappend\u001b[0m\u001b[1;33m(\u001b[0m\u001b[0mfeat_fn\u001b[0m\u001b[1;33m(\u001b[0m\u001b[0mfilepath\u001b[0m\u001b[1;33m,\u001b[0m \u001b[0mrow\u001b[0m\u001b[1;33m,\u001b[0m \u001b[0mtunables\u001b[0m\u001b[1;33m=\u001b[0m\u001b[0mtunables\u001b[0m\u001b[1;33m)\u001b[0m\u001b[1;33m)\u001b[0m\u001b[1;33m\u001b[0m\u001b[1;33m\u001b[0m\u001b[0m\n\u001b[1;32m---> 31\u001b[1;33m     df, pipe = postproc_fn(features, pipe=pipe,\n\u001b[0m\u001b[0;32m     32\u001b[0m                            tunables=tunables, verbose=verbose)\n\u001b[0;32m     33\u001b[0m     \u001b[1;32mif\u001b[0m \u001b[0misinstance\u001b[0m\u001b[1;33m(\u001b[0m\u001b[0mpredictors\u001b[0m\u001b[1;33m,\u001b[0m \u001b[0mtype\u001b[0m\u001b[1;33m(\u001b[0m\u001b[1;32mNone\u001b[0m\u001b[1;33m)\u001b[0m\u001b[1;33m)\u001b[0m\u001b[1;33m:\u001b[0m\u001b[1;33m\u001b[0m\u001b[1;33m\u001b[0m\u001b[0m\n",
      "\u001b[1;32m~\\Documents\\_PhD\\Bootcamp\\Group Project\\ml-labs-bootcamp-group-5\\src\\features\\common.py\u001b[0m in \u001b[0;36mpostproc_categorical\u001b[1;34m(feats, pipe, tunables, verbose)\u001b[0m\n\u001b[0;32m     46\u001b[0m         \u001b[0mencoder\u001b[0m \u001b[1;33m=\u001b[0m \u001b[0mtunables\u001b[0m\u001b[1;33m[\u001b[0m\u001b[1;34m\"CategoricalEncoder\"\u001b[0m\u001b[1;33m]\u001b[0m\u001b[1;33m\u001b[0m\u001b[1;33m\u001b[0m\u001b[0m\n\u001b[0;32m     47\u001b[0m         \u001b[0mpipe\u001b[0m \u001b[1;33m=\u001b[0m \u001b[0mencoder\u001b[0m\u001b[1;33m(\u001b[0m\u001b[0mcols\u001b[0m\u001b[1;33m=\u001b[0m\u001b[0mcatcols\u001b[0m\u001b[1;33m)\u001b[0m\u001b[1;33m\u001b[0m\u001b[1;33m\u001b[0m\u001b[0m\n\u001b[1;32m---> 48\u001b[1;33m         \u001b[0mpipe\u001b[0m\u001b[1;33m.\u001b[0m\u001b[0mfit\u001b[0m\u001b[1;33m(\u001b[0m\u001b[0mdf\u001b[0m\u001b[1;33m[\u001b[0m\u001b[0mcatcols\u001b[0m\u001b[1;33m]\u001b[0m\u001b[1;33m,\u001b[0m \u001b[0mdf\u001b[0m\u001b[1;33m[\u001b[0m\u001b[1;34m\"DistanceFloat\"\u001b[0m\u001b[1;33m]\u001b[0m\u001b[1;33m)\u001b[0m\u001b[1;33m\u001b[0m\u001b[1;33m\u001b[0m\u001b[0m\n\u001b[0m\u001b[0;32m     49\u001b[0m         \u001b[0mencoded\u001b[0m \u001b[1;33m=\u001b[0m \u001b[0mpipe\u001b[0m\u001b[1;33m.\u001b[0m\u001b[0mtransform\u001b[0m\u001b[1;33m(\u001b[0m\u001b[0mdf\u001b[0m\u001b[1;33m[\u001b[0m\u001b[0mcatcols\u001b[0m\u001b[1;33m]\u001b[0m\u001b[1;33m)\u001b[0m\u001b[1;33m\u001b[0m\u001b[1;33m\u001b[0m\u001b[0m\n\u001b[0;32m     50\u001b[0m     \u001b[1;32melse\u001b[0m\u001b[1;33m:\u001b[0m\u001b[1;33m\u001b[0m\u001b[1;33m\u001b[0m\u001b[0m\n",
      "\u001b[1;32m~\\anaconda3\\envs\\py39\\lib\\site-packages\\category_encoders\\woe.py\u001b[0m in \u001b[0;36mfit\u001b[1;34m(self, X, y, **kwargs)\u001b[0m\n\u001b[0;32m    127\u001b[0m         \u001b[0munique\u001b[0m \u001b[1;33m=\u001b[0m \u001b[0my\u001b[0m\u001b[1;33m.\u001b[0m\u001b[0munique\u001b[0m\u001b[1;33m(\u001b[0m\u001b[1;33m)\u001b[0m\u001b[1;33m\u001b[0m\u001b[1;33m\u001b[0m\u001b[0m\n\u001b[0;32m    128\u001b[0m         \u001b[1;32mif\u001b[0m \u001b[0mlen\u001b[0m\u001b[1;33m(\u001b[0m\u001b[0munique\u001b[0m\u001b[1;33m)\u001b[0m \u001b[1;33m!=\u001b[0m \u001b[1;36m2\u001b[0m\u001b[1;33m:\u001b[0m\u001b[1;33m\u001b[0m\u001b[1;33m\u001b[0m\u001b[0m\n\u001b[1;32m--> 129\u001b[1;33m             \u001b[1;32mraise\u001b[0m \u001b[0mValueError\u001b[0m\u001b[1;33m(\u001b[0m\u001b[1;34m\"The target column y must be binary. But the target contains \"\u001b[0m \u001b[1;33m+\u001b[0m \u001b[0mstr\u001b[0m\u001b[1;33m(\u001b[0m\u001b[0mlen\u001b[0m\u001b[1;33m(\u001b[0m\u001b[0munique\u001b[0m\u001b[1;33m)\u001b[0m\u001b[1;33m)\u001b[0m \u001b[1;33m+\u001b[0m \u001b[1;34m\" unique value(s).\"\u001b[0m\u001b[1;33m)\u001b[0m\u001b[1;33m\u001b[0m\u001b[1;33m\u001b[0m\u001b[0m\n\u001b[0m\u001b[0;32m    130\u001b[0m         \u001b[1;32mif\u001b[0m \u001b[0my\u001b[0m\u001b[1;33m.\u001b[0m\u001b[0misnull\u001b[0m\u001b[1;33m(\u001b[0m\u001b[1;33m)\u001b[0m\u001b[1;33m.\u001b[0m\u001b[0many\u001b[0m\u001b[1;33m(\u001b[0m\u001b[1;33m)\u001b[0m\u001b[1;33m:\u001b[0m\u001b[1;33m\u001b[0m\u001b[1;33m\u001b[0m\u001b[0m\n\u001b[0;32m    131\u001b[0m             \u001b[1;32mraise\u001b[0m \u001b[0mValueError\u001b[0m\u001b[1;33m(\u001b[0m\u001b[1;34m\"The target column y must not contain missing values.\"\u001b[0m\u001b[1;33m)\u001b[0m\u001b[1;33m\u001b[0m\u001b[1;33m\u001b[0m\u001b[0m\n",
      "\u001b[1;31mValueError\u001b[0m: The target column y must be binary. But the target contains 4 unique value(s)."
     ]
    }
   ],
   "source": [
    "run_with_encoder(ce.WOEEncoder)\n",
    "# only works with binary variables"
   ]
  },
  {
   "cell_type": "markdown",
   "id": "ae2be2fb",
   "metadata": {},
   "source": [
    "## QuantileEncoder"
   ]
  },
  {
   "cell_type": "code",
   "execution_count": 25,
   "id": "604c3d82",
   "metadata": {},
   "outputs": [
    {
     "ename": "AttributeError",
     "evalue": "module 'category_encoders' has no attribute 'QuantileEncoder'",
     "output_type": "error",
     "traceback": [
      "\u001b[1;31m---------------------------------------------------------------------------\u001b[0m",
      "\u001b[1;31mAttributeError\u001b[0m                            Traceback (most recent call last)",
      "\u001b[1;32m~\\AppData\\Local\\Temp/ipykernel_72124/3983151094.py\u001b[0m in \u001b[0;36m<module>\u001b[1;34m\u001b[0m\n\u001b[1;32m----> 1\u001b[1;33m \u001b[0mrun_with_encoder\u001b[0m\u001b[1;33m(\u001b[0m\u001b[0mce\u001b[0m\u001b[1;33m.\u001b[0m\u001b[0mQuantileEncoder\u001b[0m\u001b[1;33m)\u001b[0m\u001b[1;33m\u001b[0m\u001b[1;33m\u001b[0m\u001b[0m\n\u001b[0m",
      "\u001b[1;31mAttributeError\u001b[0m: module 'category_encoders' has no attribute 'QuantileEncoder'"
     ]
    }
   ],
   "source": [
    "run_with_encoder(ce.QuantileEncoder)"
   ]
  },
  {
   "cell_type": "markdown",
   "id": "7ff78838",
   "metadata": {},
   "source": [
    "## PolynomialEncoder"
   ]
  },
  {
   "cell_type": "code",
   "execution_count": 26,
   "id": "95723b6a",
   "metadata": {},
   "outputs": [
    {
     "name": "stderr",
     "output_type": "stream",
     "text": [
      "100%|████████████████████████████████████████████████████████████████████████████| 15552/15552 [16:26<00:00, 15.77it/s]\n"
     ]
    },
    {
     "name": "stdout",
     "output_type": "stream",
     "text": [
      "NO Pipe input given!\n"
     ]
    },
    {
     "name": "stderr",
     "output_type": "stream",
     "text": [
      "C:\\Users\\mtom7\\anaconda3\\envs\\py39\\lib\\site-packages\\category_encoders\\utils.py:21: FutureWarning: is_categorical is deprecated and will be removed in a future version.  Use is_categorical_dtype instead\n",
      "  elif pd.api.types.is_categorical(cols):\n",
      "100%|████████████████████████████████████████████████████████████████████████████████| 935/935 [01:14<00:00, 12.49it/s]\n"
     ]
    },
    {
     "name": "stdout",
     "output_type": "stream",
     "text": [
      "Pipe input given!\n"
     ]
    },
    {
     "name": "stderr",
     "output_type": "stream",
     "text": [
      "100%|██████████████████████████████████████████████████████████████████████████████| 8423/8423 [10:11<00:00, 13.77it/s]\n"
     ]
    },
    {
     "name": "stdout",
     "output_type": "stream",
     "text": [
      "Pipe input given!\n",
      "0.0760169447615214\n",
      "         Subset  Distance    P_miss      P_fa      nDCF\n",
      "0    fine_grain       1.2  0.066809  0.012643  0.079452\n",
      "1    fine_grain       1.8  0.040853  0.019397  0.060249\n",
      "2    fine_grain       3.0  0.023095  0.063617  0.086712\n",
      "3  coarse_grain       1.8  0.054814  0.022841  0.077655\n",
      "              precision    recall  f1-score   support\n",
      "\n",
      "         1.2       0.96      0.93      0.95      1407\n",
      "         1.8       0.94      0.93      0.94      1408\n",
      "         3.0       0.91      0.95      0.93      1385\n",
      "         4.5       0.93      0.94      0.93      1399\n",
      "\n",
      "    accuracy                           0.94      5599\n",
      "   macro avg       0.94      0.94      0.94      5599\n",
      "weighted avg       0.94      0.94      0.94      5599\n",
      "\n",
      "              precision    recall  f1-score   support\n",
      "\n",
      "         1.8       0.98      0.95      0.96      1423\n",
      "         4.5       0.95      0.98      0.96      1401\n",
      "\n",
      "    accuracy                           0.96      2824\n",
      "   macro avg       0.96      0.96      0.96      2824\n",
      "weighted avg       0.96      0.96      0.96      2824\n",
      "\n"
     ]
    }
   ],
   "source": [
    "run_with_encoder(ce.PolynomialEncoder)"
   ]
  },
  {
   "cell_type": "code",
   "execution_count": null,
   "id": "6013cd4c",
   "metadata": {},
   "outputs": [],
   "source": []
  }
 ],
 "metadata": {
  "kernelspec": {
   "display_name": "Python 3 (ipykernel)",
   "language": "python",
   "name": "python3"
  },
  "language_info": {
   "codemirror_mode": {
    "name": "ipython",
    "version": 3
   },
   "file_extension": ".py",
   "mimetype": "text/x-python",
   "name": "python",
   "nbconvert_exporter": "python",
   "pygments_lexer": "ipython3",
   "version": "3.9.7"
  }
 },
 "nbformat": 4,
 "nbformat_minor": 5
}
