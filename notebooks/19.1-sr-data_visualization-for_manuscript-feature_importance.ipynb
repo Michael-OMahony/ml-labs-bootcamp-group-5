{
 "cells": [
  {
   "cell_type": "code",
   "execution_count": 1,
   "id": "47b272c3",
   "metadata": {},
   "outputs": [],
   "source": [
    "%load_ext autoreload\n",
    "%autoreload 2"
   ]
  },
  {
   "cell_type": "code",
   "execution_count": 2,
   "id": "9395eb3e",
   "metadata": {},
   "outputs": [
    {
     "name": "stdout",
     "output_type": "stream",
     "text": [
      "/home/suriya/dcu/Group-Project\n"
     ]
    }
   ],
   "source": [
    "cd .."
   ]
  },
  {
   "cell_type": "code",
   "execution_count": 15,
   "id": "da51c80c",
   "metadata": {},
   "outputs": [],
   "source": [
    "import pandas as pd\n",
    "import numpy as np\n",
    "import matplotlib.pyplot as plt\n",
    "plt.style.use('ggplot')\n",
    "\n",
    "import seaborn as sns"
   ]
  },
  {
   "cell_type": "markdown",
   "id": "03d261cb",
   "metadata": {},
   "source": [
    "# Feature Importance Plots"
   ]
  },
  {
   "cell_type": "markdown",
   "id": "3246a838",
   "metadata": {},
   "source": [
    "## 1. Baseline"
   ]
  },
  {
   "cell_type": "code",
   "execution_count": 145,
   "id": "79149b88",
   "metadata": {},
   "outputs": [
    {
     "name": "stderr",
     "output_type": "stream",
     "text": [
      "100%|████████████████████████████████████| 15552/15552 [00:44<00:00, 350.02it/s]\n"
     ]
    },
    {
     "name": "stdout",
     "output_type": "stream",
     "text": [
      "NO Pipe input given!\n"
     ]
    },
    {
     "name": "stderr",
     "output_type": "stream",
     "text": [
      "100%|████████████████████████████████████████| 935/935 [00:02<00:00, 383.38it/s]\n"
     ]
    },
    {
     "name": "stdout",
     "output_type": "stream",
     "text": [
      "Pipe input given!\n"
     ]
    },
    {
     "name": "stderr",
     "output_type": "stream",
     "text": [
      "100%|██████████████████████████████████████| 8423/8423 [00:20<00:00, 420.39it/s]"
     ]
    },
    {
     "name": "stdout",
     "output_type": "stream",
     "text": [
      "Pipe input given!\n"
     ]
    },
    {
     "name": "stderr",
     "output_type": "stream",
     "text": [
      "\n"
     ]
    }
   ],
   "source": [
    "from src.dataset.tc4tl import make_datasets\n",
    "from src.features.gomez import features, postproc\n",
    "from src.features.common import postproc_categorical\n",
    "\n",
    "import category_encoders as ce\n",
    "\n",
    "\n",
    "(trainset, devset, testset), pipe = make_datasets(features, postproc_categorical, verbose=True, testing=0,\n",
    "                                     tunables={\n",
    "                                         \"cg=Y\" : {\n",
    "                                             \"TX\" : -52,\n",
    "                                             \"N\"  : 2.6\n",
    "                                         },\n",
    "                                         \"cg=N\" : {\n",
    "                                             \"TX\" : -54,\n",
    "                                             \"N\" : 2.1\n",
    "                                         },\n",
    "                                        \"CategoricalEncoder\" : ce.ordinal.OrdinalEncoder\n",
    "                                     })"
   ]
  },
  {
   "cell_type": "code",
   "execution_count": 9,
   "id": "6474fd08",
   "metadata": {},
   "outputs": [
    {
     "data": {
      "text/plain": [
       "['Cat:TXDevice',\n",
       " 'Cat:TXPower',\n",
       " 'Cat:RXDevice',\n",
       " 'Cat:TXCarry',\n",
       " 'Cat:RXCarry',\n",
       " 'Cat:RXPose',\n",
       " 'Cat:TXPose',\n",
       " 'Num:PredictedDistance',\n",
       " 'Num:MeanRssi',\n",
       " 'Num:PathLossAttenuation']"
      ]
     },
     "execution_count": 9,
     "metadata": {},
     "output_type": "execute_result"
    }
   ],
   "source": [
    "trainset.columns\n",
    "predictors = []\n",
    "for col in trainset.columns:\n",
    "    if \"Cat:\" in col or \"Num:\" in col:\n",
    "        predictors.append(col)\n",
    "predictors"
   ]
  },
  {
   "cell_type": "code",
   "execution_count": 12,
   "id": "664b819c",
   "metadata": {},
   "outputs": [],
   "source": [
    "from src.models.evaluate import dual_evaluation\n",
    "from sklearn.ensemble import GradientBoostingClassifier\n",
    "from src.ndcf import compute_ndcf\n",
    "\n",
    "gbm = GradientBoostingClassifier(random_state=15)\n",
    "report, sysout = dual_evaluation(pd.concat([trainset, devset]), testset, predictors=predictors,\n",
    "                   target=\"Distance\", model=gbm)\n",
    "ndcf = {}\n",
    "ndcf[\"gomez_full\"] = compute_ndcf(sysout).nDCF.mean()"
   ]
  },
  {
   "cell_type": "markdown",
   "id": "d46d7e9a",
   "metadata": {},
   "source": [
    "### Calculate Feature importance"
   ]
  },
  {
   "cell_type": "code",
   "execution_count": 40,
   "id": "b162e43d",
   "metadata": {},
   "outputs": [],
   "source": [
    "fi = gbm.feature_importances_\n",
    "sorted_indices = np.argsort(fi)#[::-1]"
   ]
  },
  {
   "cell_type": "code",
   "execution_count": 69,
   "id": "ac22b27a",
   "metadata": {},
   "outputs": [
    {
     "data": {
      "text/plain": [
       "Text(0.5, 1.0, 'Importance of Gomez et al Features')"
      ]
     },
     "execution_count": 69,
     "metadata": {},
     "output_type": "execute_result"
    },
    {
     "data": {
      "image/png": "[encoded data removed]",
      "text/plain": [
       "<Figure size 576x576 with 1 Axes>"
      ]
     },
     "metadata": {},
     "output_type": "display_data"
    }
   ],
   "source": [
    "plt.figure(figsize=(8, 8))\n",
    "feature_names_sorted = np.array(predictors)[sorted_indices]\n",
    "cols = [\"#74d680\" if \"Num:\" in f else \"#ff7878\" for f in feature_names_sorted]\n",
    "plt.barh(feature_names_sorted, fi[sorted_indices], color=cols)\n",
    "plt.title(\"Importance of Gomez et al Features\", fontsize=11)"
   ]
  },
  {
   "cell_type": "markdown",
   "id": "1c7e33a8",
   "metadata": {},
   "source": [
    "\n",
    "## 1.2 Without Categorical Features"
   ]
  },
  {
   "cell_type": "code",
   "execution_count": 59,
   "id": "a276ba9d",
   "metadata": {},
   "outputs": [],
   "source": [
    "predictors_wo_cat = [c for c in predictors if \"Cat:\" not in c ]\n",
    "gbm = GradientBoostingClassifier(random_state=15)\n",
    "report, sysout = dual_evaluation(pd.concat([trainset, devset]), testset, \n",
    "                                 predictors=predictors_wo_cat,\n",
    "                                 target=\"Distance\", model=gbm)\n",
    "ndcf[\"gomez_wo_cat\"] = compute_ndcf(sysout).nDCF.mean()"
   ]
  },
  {
   "cell_type": "code",
   "execution_count": 60,
   "id": "6b86384b",
   "metadata": {},
   "outputs": [
    {
     "data": {
      "text/plain": [
       "{'gomez_full': 0.520558560293825, 'gomez_wo_cat': 0.6362740618533063}"
      ]
     },
     "execution_count": 60,
     "metadata": {},
     "output_type": "execute_result"
    }
   ],
   "source": [
    "ndcf"
   ]
  },
  {
   "cell_type": "markdown",
   "id": "ade41c09",
   "metadata": {},
   "source": [
    "## 1.3 Without Predicted Distance"
   ]
  },
  {
   "cell_type": "code",
   "execution_count": 70,
   "id": "db81ebf8",
   "metadata": {},
   "outputs": [],
   "source": [
    "predictors_wo_cat = [c for c in predictors if \"Distance\" not in c ]\n",
    "gbm = GradientBoostingClassifier(random_state=15)\n",
    "report, sysout = dual_evaluation(pd.concat([trainset, devset]), testset, \n",
    "                                 predictors=predictors_wo_cat,\n",
    "                                 target=\"Distance\", model=gbm)\n",
    "ndcf[\"gomez_wo_pred_distance\"] = compute_ndcf(sysout).nDCF.mean()"
   ]
  },
  {
   "cell_type": "code",
   "execution_count": 71,
   "id": "232b5aea",
   "metadata": {},
   "outputs": [
    {
     "data": {
      "text/plain": [
       "{'gomez_full': 0.520558560293825,\n",
       " 'gomez_wo_cat': 0.6362740618533063,\n",
       " 'gomez_wo_pred_distance': 0.5206785205903943}"
      ]
     },
     "execution_count": 71,
     "metadata": {},
     "output_type": "execute_result"
    }
   ],
   "source": [
    "ndcf"
   ]
  },
  {
   "cell_type": "code",
   "execution_count": 72,
   "id": "232a3a61",
   "metadata": {},
   "outputs": [
    {
     "data": {
      "text/plain": [
       "['Cat:TXDevice',\n",
       " 'Cat:TXPower',\n",
       " 'Cat:RXDevice',\n",
       " 'Cat:TXCarry',\n",
       " 'Cat:RXCarry',\n",
       " 'Cat:RXPose',\n",
       " 'Cat:TXPose',\n",
       " 'Num:MeanRssi',\n",
       " 'Num:PathLossAttenuation']"
      ]
     },
     "execution_count": 72,
     "metadata": {},
     "output_type": "execute_result"
    }
   ],
   "source": [
    "predictors_wo_cat"
   ]
  },
  {
   "cell_type": "markdown",
   "id": "4579a2cc",
   "metadata": {},
   "source": [
    "## 1.4 Without Path Loss Attenuation"
   ]
  },
  {
   "cell_type": "code",
   "execution_count": 73,
   "id": "4bc2d122",
   "metadata": {},
   "outputs": [
    {
     "name": "stdout",
     "output_type": "stream",
     "text": [
      "['Cat:TXDevice', 'Cat:TXPower', 'Cat:RXDevice', 'Cat:TXCarry', 'Cat:RXCarry', 'Cat:RXPose', 'Cat:TXPose', 'Num:MeanRssi']\n"
     ]
    },
    {
     "data": {
      "text/plain": [
       "{'gomez_full': 0.520558560293825,\n",
       " 'gomez_wo_cat': 0.6362740618533063,\n",
       " 'gomez_wo_pred_distance': 0.5206785205903943,\n",
       " 'gomez_wo_pred_distance_|_pla': 0.5249836893402402}"
      ]
     },
     "execution_count": 73,
     "metadata": {},
     "output_type": "execute_result"
    }
   ],
   "source": [
    "predictors_wo = [c for c in predictors if \"Distance\" not in c and \"Attenuation\" not in c]\n",
    "print(predictors_wo)\n",
    "gbm = GradientBoostingClassifier(random_state=15)\n",
    "report, sysout = dual_evaluation(pd.concat([trainset, devset]), testset, \n",
    "                                 predictors=predictors_wo,\n",
    "                                 target=\"Distance\", model=gbm)\n",
    "ndcf[\"gomez_wo_pred_distance_|_pla\"] = compute_ndcf(sysout).nDCF.mean()\n",
    "ndcf"
   ]
  },
  {
   "cell_type": "markdown",
   "id": "a886e7e8",
   "metadata": {},
   "source": [
    "## 1.5 Without RSSI"
   ]
  },
  {
   "cell_type": "code",
   "execution_count": 80,
   "id": "5390432c",
   "metadata": {},
   "outputs": [
    {
     "data": {
      "text/plain": [
       "['Cat:TXDevice',\n",
       " 'Cat:TXPower',\n",
       " 'Cat:RXDevice',\n",
       " 'Cat:TXCarry',\n",
       " 'Cat:RXCarry',\n",
       " 'Cat:RXPose',\n",
       " 'Cat:TXPose',\n",
       " 'Num:PredictedDistance',\n",
       " 'Num:MeanRssi',\n",
       " 'Num:PathLossAttenuation']"
      ]
     },
     "execution_count": 80,
     "metadata": {},
     "output_type": "execute_result"
    }
   ],
   "source": [
    "predictors"
   ]
  },
  {
   "cell_type": "code",
   "execution_count": 82,
   "id": "d31033a8",
   "metadata": {},
   "outputs": [
    {
     "name": "stdout",
     "output_type": "stream",
     "text": [
      "['Cat:TXDevice', 'Cat:TXPower', 'Cat:RXDevice', 'Cat:TXCarry', 'Cat:RXCarry', 'Cat:RXPose', 'Cat:TXPose', 'Num:PathLossAttenuation']\n"
     ]
    },
    {
     "data": {
      "text/plain": [
       "{'gomez_full': 0.520558560293825,\n",
       " 'gomez_wo_cat': 0.6362740618533063,\n",
       " 'gomez_wo_pred_distance': 0.5206785205903943,\n",
       " 'gomez_wo_pred_distance_|_pla': 0.5249836893402402,\n",
       " 'gomez_wo_rssi': 0.5207381579949744,\n",
       " 'gomez_wo_rssi_|_pred_distance': 0.5091850423170209}"
      ]
     },
     "execution_count": 82,
     "metadata": {},
     "output_type": "execute_result"
    }
   ],
   "source": [
    "predictors_wo = [c for c in predictors if \"rssi\" not in c.lower() and \"Distance\" not in c]\n",
    "print(predictors_wo)\n",
    "gbm = GradientBoostingClassifier(random_state=15)\n",
    "report, sysout = dual_evaluation(pd.concat([trainset, devset]), testset, \n",
    "                                 predictors=predictors_wo,\n",
    "                                 target=\"Distance\", model=gbm)\n",
    "ndcf[\"gomez_wo_rssi_|_pred_distance\"] = compute_ndcf(sysout).nDCF.mean()\n",
    "ndcf"
   ]
  },
  {
   "cell_type": "code",
   "execution_count": 84,
   "id": "84fb0824",
   "metadata": {},
   "outputs": [
    {
     "name": "stdout",
     "output_type": "stream",
     "text": [
      "['Cat:TXDevice', 'Cat:TXPower', 'Cat:RXDevice', 'Cat:TXCarry', 'Cat:RXCarry', 'Cat:RXPose', 'Cat:TXPose', 'Num:PredictedDistance']\n"
     ]
    },
    {
     "data": {
      "text/plain": [
       "{'gomez_full': 0.520558560293825,\n",
       " 'gomez_wo_cat': 0.6362740618533063,\n",
       " 'gomez_wo_pred_distance': 0.5206785205903943,\n",
       " 'gomez_wo_pred_distance_|_pla': 0.5249836893402402,\n",
       " 'gomez_wo_rssi': 0.5207381579949744,\n",
       " 'gomez_wo_rssi_|_pred_distance': 0.5091850423170209,\n",
       " 'gomez_wo_rssi_|_pla': 0.5249836893402402}"
      ]
     },
     "execution_count": 84,
     "metadata": {},
     "output_type": "execute_result"
    }
   ],
   "source": [
    "predictors_wo = [c for c in predictors if \"rssi\" not in c.lower() and \"PathLoss\" not in c]\n",
    "print(predictors_wo)\n",
    "gbm = GradientBoostingClassifier(random_state=15)\n",
    "report, sysout = dual_evaluation(pd.concat([trainset, devset]), testset, \n",
    "                                 predictors=predictors_wo,\n",
    "                                 target=\"Distance\", model=gbm)\n",
    "ndcf[\"gomez_wo_rssi_|_pla\"] = compute_ndcf(sysout).nDCF.mean()\n",
    "ndcf"
   ]
  },
  {
   "cell_type": "markdown",
   "id": "68bfc1d8",
   "metadata": {},
   "source": [
    "## 1.6 Without PLA"
   ]
  },
  {
   "cell_type": "code",
   "execution_count": 91,
   "id": "7fd16ea0",
   "metadata": {},
   "outputs": [
    {
     "name": "stdout",
     "output_type": "stream",
     "text": [
      "['Cat:TXDevice', 'Cat:TXPower', 'Cat:RXDevice', 'Cat:TXCarry', 'Cat:RXCarry', 'Cat:RXPose', 'Cat:TXPose', 'Num:PredictedDistance', 'Num:MeanRssi']\n"
     ]
    },
    {
     "data": {
      "text/plain": [
       "{'gomez_full': 0.520558560293825,\n",
       " 'gomez_wo_cat': 0.6362740618533063,\n",
       " 'gomez_wo_pred_distance': 0.5206785205903943,\n",
       " 'gomez_wo_pred_distance_|_pla': 0.5249836893402402,\n",
       " 'gomez_wo_rssi': 0.5207381579949744,\n",
       " 'gomez_wo_rssi_|_pred_distance': 0.5091850423170209,\n",
       " 'gomez_wo_rssi_|_pla': 0.5249836893402402,\n",
       " 'gomez_wo_pla': 0.5249836893402402}"
      ]
     },
     "execution_count": 91,
     "metadata": {},
     "output_type": "execute_result"
    }
   ],
   "source": [
    "predictors_wo = [c for c in predictors if \"PathLoss\" not in c]\n",
    "print(predictors_wo)\n",
    "gbm = GradientBoostingClassifier(random_state=15)\n",
    "report, sysout = dual_evaluation(pd.concat([trainset, devset]), testset, \n",
    "                                 predictors=predictors_wo,\n",
    "                                 target=\"Distance\", model=gbm)\n",
    "ndcf[\"gomez_wo_pla\"] = compute_ndcf(sysout).nDCF.mean()\n",
    "ndcf"
   ]
  },
  {
   "cell_type": "code",
   "execution_count": 146,
   "id": "394e29b1",
   "metadata": {},
   "outputs": [
    {
     "data": {
      "text/plain": [
       "{'gomez_full': 0.520558560293825,\n",
       " 'gomez_wo_cat': 0.6362740618533063,\n",
       " 'gomez_wo_pred_distance': 0.5206785205903943,\n",
       " 'gomez_wo_pred_distance_|_pla': 0.5249836893402402,\n",
       " 'gomez_wo_rssi': 0.5207381579949744,\n",
       " 'gomez_wo_rssi_|_pred_distance': 0.5091850423170209,\n",
       " 'gomez_wo_rssi_|_pla': 0.5249836893402402,\n",
       " 'gomez_wo_pla': 0.5249836893402402,\n",
       " 'gomez_random_forest': 0.4757273967200968}"
      ]
     },
     "execution_count": 146,
     "metadata": {},
     "output_type": "execute_result"
    }
   ],
   "source": [
    "report, sysout = dual_evaluation(pd.concat([trainset, devset]), testset, \n",
    "                                 predictors=predictors,\n",
    "                                 target=\"Distance\", seed=15)\n",
    "ndcf[\"gomez_random_forest\"] = compute_ndcf(sysout).nDCF.mean()\n",
    "ndcf"
   ]
  },
  {
   "cell_type": "markdown",
   "id": "ae5db37c",
   "metadata": {},
   "source": [
    "## 1.5 Gomez et al Ablation plot"
   ]
  },
  {
   "cell_type": "code",
   "execution_count": 147,
   "id": "7175827b",
   "metadata": {},
   "outputs": [],
   "source": [
    "from collections import OrderedDict\n",
    "\n",
    "names = OrderedDict({\n",
    "    \"gomez_full\" : \"Full\",\n",
    "    \"gomez_wo_cat\" : \"Categorical Features\",\n",
    "    \"gomez_wo_rssi\": \"Bluetooth RSSI Mean\",\n",
    "    \"gomez_wo_pred_distance\" : \"Predicted Distance\",\n",
    "    \"gomez_wo_pla\" : \"Path Loss Attenuation\", \n",
    "    \"gomez_wo_rssi_|_pla\" : \"Bluetooth RSSI Mean & Path Loss Attenuation\",\n",
    "    \"gomez_wo_rssi_|_pred_distance\" : \"Bluetooth RSSI Mean & Predicted Distance\",\n",
    "    \"gomez_wo_pred_distance_|_pla\" : \"Path Loss Attenuation & Predicted Distance\",\n",
    "    \"gomez_random_forest\" : \"All (Random Forest)\"\n",
    "})"
   ]
  },
  {
   "cell_type": "code",
   "execution_count": 148,
   "id": "7f7c7559",
   "metadata": {},
   "outputs": [
    {
     "data": {
      "text/plain": [
       "Text(0.5, 0, 'ndcf score difference')"
      ]
     },
     "execution_count": 148,
     "metadata": {},
     "output_type": "execute_result"
    },
    {
     "data": {
      "image/png": "[encoded data removed]",
      "text/plain": [
       "<Figure size 576x504 with 1 Axes>"
      ]
     },
     "metadata": {},
     "output_type": "display_data"
    }
   ],
   "source": [
    "plt.figure(figsize=(8, 7))\n",
    "for name, value in names.items():\n",
    "    if value != \"Full\":\n",
    "        diff = ndcf[\"gomez_full\"]- ndcf[name]\n",
    "        plt.barh(value, diff)\n",
    "        # plt.xlim(-0.006, 0.015)\n",
    "        # plt.text(0.0002, 0., str(diff)[:4], color='blue', fontweight='bold', fontdict=dict(fontsize=20))\n",
    "\n",
    "plt.gca().invert_yaxis()\n",
    "plt.title(\"Feature Ablation Study (Gomez et al)\", fontsize=10)\n",
    "plt.xlabel(\"ndcf score difference\", fontsize=10)"
   ]
  },
  {
   "cell_type": "markdown",
   "id": "bc5daa50",
   "metadata": {},
   "source": [
    "## 2. Our Approach"
   ]
  },
  {
   "cell_type": "markdown",
   "id": "34a153c4",
   "metadata": {},
   "source": [
    "### 2.1 Bluetooth Min, Mean, Max"
   ]
  },
  {
   "cell_type": "code",
   "execution_count": 150,
   "id": "2fc3f237",
   "metadata": {},
   "outputs": [
    {
     "name": "stderr",
     "output_type": "stream",
     "text": [
      "100%|████████████████████████████████████| 15552/15552 [01:07<00:00, 229.45it/s]\n"
     ]
    },
    {
     "name": "stdout",
     "output_type": "stream",
     "text": [
      "NO Pipe input given!\n"
     ]
    },
    {
     "name": "stderr",
     "output_type": "stream",
     "text": [
      "100%|████████████████████████████████████████| 935/935 [00:03<00:00, 243.32it/s]\n"
     ]
    },
    {
     "name": "stdout",
     "output_type": "stream",
     "text": [
      "Pipe input given!\n"
     ]
    },
    {
     "name": "stderr",
     "output_type": "stream",
     "text": [
      "100%|██████████████████████████████████████| 8423/8423 [00:33<00:00, 253.37it/s]\n"
     ]
    },
    {
     "name": "stdout",
     "output_type": "stream",
     "text": [
      "Pipe input given!\n"
     ]
    }
   ],
   "source": [
    "from src.dataset.tc4tl import make_datasets\n",
    "from src.features.beyond import sensor_summary\n",
    "from src.features.common import postproc_categorical, read_non_sensor_data\n",
    "from src.featutils import combine\n",
    "\n",
    "import category_encoders as ce\n",
    "\n",
    "(trainset, devset, testset), pipe = make_datasets(combine(sensor_summary, read_non_sensor_data), postproc_categorical,\n",
    "                                     tunables={\n",
    "                                         \"CategoricalEncoder\" : ce.polynomial.PolynomialEncoder\n",
    "                                     }, verbose=True, testing=0)"
   ]
  },
  {
   "cell_type": "code",
   "execution_count": 156,
   "id": "04f4d023",
   "metadata": {},
   "outputs": [
    {
     "data": {
      "text/plain": [
       "['Cat:TXDevice_0',\n",
       " 'Cat:TXDevice_1',\n",
       " 'Cat:TXDevice_2',\n",
       " 'Cat:TXDevice_3',\n",
       " 'Cat:TXDevice_4',\n",
       " 'Cat:TXDevice_5',\n",
       " 'Cat:TXDevice_6',\n",
       " 'Cat:TXDevice_7',\n",
       " 'Cat:TXDevice_8',\n",
       " 'Cat:TXDevice_9',\n",
       " 'Cat:TXDevice_10',\n",
       " 'Cat:TXDevice_11',\n",
       " 'Cat:TXDevice_12',\n",
       " 'Cat:TXDevice_13',\n",
       " 'Cat:TXPower_0',\n",
       " 'Cat:TXPower_1',\n",
       " 'Cat:RXDevice_0',\n",
       " 'Cat:RXDevice_1',\n",
       " 'Cat:RXDevice_2',\n",
       " 'Cat:RXDevice_3',\n",
       " 'Cat:RXDevice_4',\n",
       " 'Cat:RXDevice_5',\n",
       " 'Cat:RXDevice_6',\n",
       " 'Cat:RXDevice_7',\n",
       " 'Cat:RXDevice_8',\n",
       " 'Cat:TXCarry_0',\n",
       " 'Cat:RXCarry_0',\n",
       " 'Cat:RXPose_0',\n",
       " 'Cat:TXPose_0',\n",
       " 'Bluetooth:Min',\n",
       " 'Bluetooth:Percentile_1',\n",
       " 'Bluetooth:Percentile_5',\n",
       " 'Bluetooth:Percentile_10',\n",
       " 'Bluetooth:Percentile_25',\n",
       " 'Bluetooth:Percentile_40',\n",
       " 'Bluetooth:Mean',\n",
       " 'Bluetooth:Percentile_65',\n",
       " 'Bluetooth:Percentile_80',\n",
       " 'Bluetooth:Percentile_90',\n",
       " 'Bluetooth:Percentile_95',\n",
       " 'Bluetooth:Percentile_99',\n",
       " 'Bluetooth:Max']"
      ]
     },
     "execution_count": 156,
     "metadata": {},
     "output_type": "execute_result"
    }
   ],
   "source": [
    "predictors = []\n",
    "for col in trainset.columns:\n",
    "    if \"Bluetooth\" in col or (\"Cat:\" in col and \"_\" in col):\n",
    "        predictors.append(col)\n",
    "        \n",
    "predictors"
   ]
  },
  {
   "cell_type": "markdown",
   "id": "00b5c683",
   "metadata": {},
   "source": [
    "### 2.0 Bluetooth Min/Mean/Max"
   ]
  },
  {
   "cell_type": "code",
   "execution_count": 177,
   "id": "717dbca9",
   "metadata": {},
   "outputs": [
    {
     "name": "stdout",
     "output_type": "stream",
     "text": [
      "['Bluetooth:Min', 'Bluetooth:Mean', 'Bluetooth:Max']\n"
     ]
    },
    {
     "data": {
      "text/plain": [
       "{'Bluetooth Min/Mean/Max': 0.619762595765736}"
      ]
     },
     "execution_count": 177,
     "metadata": {},
     "output_type": "execute_result"
    }
   ],
   "source": [
    "predictors = [ col for col in trainset.columns if \"Bluetooth\" in col and \"_\" not in col ]\n",
    "print(predictors)\n",
    "report, sysout = dual_evaluation(pd.concat([trainset, devset]), testset, predictors=predictors,\n",
    "                   target=\"Distance\", seed=0)\n",
    "ndcf = {}\n",
    "ndcf[\"Bluetooth Min/Mean/Max\"] = compute_ndcf(sysout).nDCF.mean()\n",
    "ndcf\n"
   ]
  },
  {
   "cell_type": "markdown",
   "id": "a63579d0",
   "metadata": {},
   "source": [
    "### 2.1 Bluetooth Percentiles"
   ]
  },
  {
   "cell_type": "code",
   "execution_count": 178,
   "id": "6184bd1a",
   "metadata": {},
   "outputs": [
    {
     "name": "stdout",
     "output_type": "stream",
     "text": [
      "['Bluetooth:Min', 'Bluetooth:Percentile_1', 'Bluetooth:Percentile_5', 'Bluetooth:Percentile_10', 'Bluetooth:Percentile_25', 'Bluetooth:Percentile_40', 'Bluetooth:Mean', 'Bluetooth:Percentile_65', 'Bluetooth:Percentile_80', 'Bluetooth:Percentile_90', 'Bluetooth:Percentile_95', 'Bluetooth:Percentile_99', 'Bluetooth:Max']\n"
     ]
    },
    {
     "data": {
      "text/plain": [
       "{'Bluetooth Min/Mean/Max': 0.619762595765736,\n",
       " 'Bluetooth Percentiles & Min/Mean/Max': 0.4728934256678541}"
      ]
     },
     "execution_count": 178,
     "metadata": {},
     "output_type": "execute_result"
    }
   ],
   "source": [
    "predictors = [ col for col in trainset.columns if \"Bluetooth\" in col ]\n",
    "print(predictors)\n",
    "report, sysout = dual_evaluation(pd.concat([trainset, devset]), testset, predictors=predictors,\n",
    "                   target=\"Distance\", seed=0)\n",
    "ndcf[\"Bluetooth Percentiles & Min/Mean/Max\"] = compute_ndcf(sysout).nDCF.mean()\n",
    "ndcf"
   ]
  },
  {
   "cell_type": "markdown",
   "id": "b3a81a57",
   "metadata": {},
   "source": [
    "### 2.2 +Categorial Features"
   ]
  },
  {
   "cell_type": "code",
   "execution_count": 179,
   "id": "de2d3ea4",
   "metadata": {},
   "outputs": [
    {
     "name": "stdout",
     "output_type": "stream",
     "text": [
      "['Cat:TXDevice_0', 'Cat:TXDevice_1', 'Cat:TXDevice_2', 'Cat:TXDevice_3', 'Cat:TXDevice_4', 'Cat:TXDevice_5', 'Cat:TXDevice_6', 'Cat:TXDevice_7', 'Cat:TXDevice_8', 'Cat:TXDevice_9', 'Cat:TXDevice_10', 'Cat:TXDevice_11', 'Cat:TXDevice_12', 'Cat:TXDevice_13', 'Cat:TXPower_0', 'Cat:TXPower_1', 'Cat:RXDevice_0', 'Cat:RXDevice_1', 'Cat:RXDevice_2', 'Cat:RXDevice_3', 'Cat:RXDevice_4', 'Cat:RXDevice_5', 'Cat:RXDevice_6', 'Cat:RXDevice_7', 'Cat:RXDevice_8', 'Cat:TXCarry_0', 'Cat:RXCarry_0', 'Cat:RXPose_0', 'Cat:TXPose_0', 'Bluetooth:Min', 'Bluetooth:Percentile_1', 'Bluetooth:Percentile_5', 'Bluetooth:Percentile_10', 'Bluetooth:Percentile_25', 'Bluetooth:Percentile_40', 'Bluetooth:Mean', 'Bluetooth:Percentile_65', 'Bluetooth:Percentile_80', 'Bluetooth:Percentile_90', 'Bluetooth:Percentile_95', 'Bluetooth:Percentile_99', 'Bluetooth:Max']\n"
     ]
    },
    {
     "data": {
      "text/plain": [
       "{'Bluetooth Min/Mean/Max': 0.619762595765736,\n",
       " 'Bluetooth Percentiles & Min/Mean/Max': 0.4728934256678541,\n",
       " '+Categorical Features': 0.22036800220371328}"
      ]
     },
     "execution_count": 179,
     "metadata": {},
     "output_type": "execute_result"
    }
   ],
   "source": [
    "predictors = [ col for col in trainset.columns if \"Bluetooth\" in col or (\"Cat:\" in col and \"_\" in col) ]\n",
    "print(predictors)\n",
    "report, sysout = dual_evaluation(pd.concat([trainset, devset]), testset, predictors=predictors,\n",
    "                   target=\"Distance\", seed=0)\n",
    "\n",
    "ndcf[\"+Categorical Features\"] = compute_ndcf(sysout).nDCF.mean()\n",
    "ndcf"
   ]
  },
  {
   "cell_type": "markdown",
   "id": "4716aef8",
   "metadata": {},
   "source": [
    "### 2.3 +IMU Sensor Summaries"
   ]
  },
  {
   "cell_type": "code",
   "execution_count": 180,
   "id": "38d4a45e",
   "metadata": {},
   "outputs": [
    {
     "name": "stdout",
     "output_type": "stream",
     "text": [
      "['Cat:TXDevice_0', 'Cat:TXDevice_1', 'Cat:TXDevice_2', 'Cat:TXDevice_3', 'Cat:TXDevice_4', 'Cat:TXDevice_5', 'Cat:TXDevice_6', 'Cat:TXDevice_7', 'Cat:TXDevice_8', 'Cat:TXDevice_9', 'Cat:TXDevice_10', 'Cat:TXDevice_11', 'Cat:TXDevice_12', 'Cat:TXDevice_13', 'Cat:TXPower_0', 'Cat:TXPower_1', 'Cat:RXDevice_0', 'Cat:RXDevice_1', 'Cat:RXDevice_2', 'Cat:RXDevice_3', 'Cat:RXDevice_4', 'Cat:RXDevice_5', 'Cat:RXDevice_6', 'Cat:RXDevice_7', 'Cat:RXDevice_8', 'Cat:TXCarry_0', 'Cat:RXCarry_0', 'Cat:RXPose_0', 'Cat:TXPose_0', 'Bluetooth:Percentile_1', 'Bluetooth:Percentile_5', 'Bluetooth:Percentile_10', 'Bluetooth:Percentile_25', 'Bluetooth:Percentile_40', 'Bluetooth:Percentile_65', 'Bluetooth:Percentile_80', 'Bluetooth:Percentile_90', 'Bluetooth:Percentile_95', 'Bluetooth:Percentile_99', 'Accelerometer_x:Min', 'Accelerometer_x:Mean', 'Accelerometer_x:Max', 'Accelerometer_y:Min', 'Accelerometer_y:Mean', 'Accelerometer_y:Max', 'Accelerometer_z:Min', 'Accelerometer_z:Mean', 'Accelerometer_z:Max', 'Gyroscope_x:Min', 'Gyroscope_x:Mean', 'Gyroscope_x:Max', 'Gyroscope_y:Min', 'Gyroscope_y:Mean', 'Gyroscope_y:Max', 'Gyroscope_z:Min', 'Gyroscope_z:Mean', 'Gyroscope_z:Max', 'Attitude_x:Min', 'Attitude_x:Mean', 'Attitude_x:Max', 'Attitude_y:Min', 'Attitude_y:Mean', 'Attitude_y:Max', 'Attitude_z:Min', 'Attitude_z:Mean', 'Attitude_z:Max', 'Gravity_x:Min', 'Gravity_x:Mean', 'Gravity_x:Max', 'Gravity_y:Min', 'Gravity_y:Mean', 'Gravity_y:Max', 'Gravity_z:Min', 'Gravity_z:Mean', 'Gravity_z:Max', 'Magnetic-field_x:Min', 'Magnetic-field_x:Mean', 'Magnetic-field_x:Max', 'Magnetic-field_y:Min', 'Magnetic-field_y:Mean', 'Magnetic-field_y:Max', 'Magnetic-field_z:Min', 'Magnetic-field_z:Mean', 'Magnetic-field_z:Max', 'Altitude_x:Min', 'Altitude_x:Mean', 'Altitude_x:Max', 'Altitude_y:Min', 'Altitude_y:Mean', 'Altitude_y:Max', 'Heading_x1:Min', 'Heading_x1:Mean', 'Heading_x1:Max', 'Heading_y1:Min', 'Heading_y1:Mean', 'Heading_y1:Max', 'Heading_z1:Min', 'Heading_z1:Mean', 'Heading_z1:Max', 'Heading_x2:Min', 'Heading_x2:Mean', 'Heading_x2:Max', 'Heading_y2:Min', 'Heading_y2:Mean', 'Heading_y2:Max', 'Heading_z2:Min', 'Heading_z2:Mean', 'Heading_z2:Max']\n"
     ]
    },
    {
     "data": {
      "text/plain": [
       "{'Bluetooth Min/Mean/Max': 0.619762595765736,\n",
       " 'Bluetooth Percentiles & Min/Mean/Max': 0.4728934256678541,\n",
       " '+Categorical Features': 0.22036800220371328,\n",
       " '+IMU Sensor Summaries': 0.08822264981663216}"
      ]
     },
     "execution_count": 180,
     "metadata": {},
     "output_type": "execute_result"
    }
   ],
   "source": [
    "predictors = [ col for col in trainset.columns if \"_\" in col ]\n",
    "print(predictors)\n",
    "report, sysout = dual_evaluation(pd.concat([trainset, devset]), testset, predictors=predictors,\n",
    "                   target=\"Distance\", seed=0)\n",
    "\n",
    "ndcf[\"+IMU Sensor Summaries\"] = compute_ndcf(sysout).nDCF.mean()\n",
    "ndcf"
   ]
  },
  {
   "cell_type": "markdown",
   "id": "4ffe87cd",
   "metadata": {},
   "source": [
    "### 2.4 Extra Trees Classifier"
   ]
  },
  {
   "cell_type": "code",
   "execution_count": 181,
   "id": "3728004c",
   "metadata": {},
   "outputs": [
    {
     "name": "stdout",
     "output_type": "stream",
     "text": [
      "['Cat:TXDevice_0', 'Cat:TXDevice_1', 'Cat:TXDevice_2', 'Cat:TXDevice_3', 'Cat:TXDevice_4', 'Cat:TXDevice_5', 'Cat:TXDevice_6', 'Cat:TXDevice_7', 'Cat:TXDevice_8', 'Cat:TXDevice_9', 'Cat:TXDevice_10', 'Cat:TXDevice_11', 'Cat:TXDevice_12', 'Cat:TXDevice_13', 'Cat:TXPower_0', 'Cat:TXPower_1', 'Cat:RXDevice_0', 'Cat:RXDevice_1', 'Cat:RXDevice_2', 'Cat:RXDevice_3', 'Cat:RXDevice_4', 'Cat:RXDevice_5', 'Cat:RXDevice_6', 'Cat:RXDevice_7', 'Cat:RXDevice_8', 'Cat:TXCarry_0', 'Cat:RXCarry_0', 'Cat:RXPose_0', 'Cat:TXPose_0', 'Bluetooth:Percentile_1', 'Bluetooth:Percentile_5', 'Bluetooth:Percentile_10', 'Bluetooth:Percentile_25', 'Bluetooth:Percentile_40', 'Bluetooth:Percentile_65', 'Bluetooth:Percentile_80', 'Bluetooth:Percentile_90', 'Bluetooth:Percentile_95', 'Bluetooth:Percentile_99', 'Accelerometer_x:Min', 'Accelerometer_x:Mean', 'Accelerometer_x:Max', 'Accelerometer_y:Min', 'Accelerometer_y:Mean', 'Accelerometer_y:Max', 'Accelerometer_z:Min', 'Accelerometer_z:Mean', 'Accelerometer_z:Max', 'Gyroscope_x:Min', 'Gyroscope_x:Mean', 'Gyroscope_x:Max', 'Gyroscope_y:Min', 'Gyroscope_y:Mean', 'Gyroscope_y:Max', 'Gyroscope_z:Min', 'Gyroscope_z:Mean', 'Gyroscope_z:Max', 'Attitude_x:Min', 'Attitude_x:Mean', 'Attitude_x:Max', 'Attitude_y:Min', 'Attitude_y:Mean', 'Attitude_y:Max', 'Attitude_z:Min', 'Attitude_z:Mean', 'Attitude_z:Max', 'Gravity_x:Min', 'Gravity_x:Mean', 'Gravity_x:Max', 'Gravity_y:Min', 'Gravity_y:Mean', 'Gravity_y:Max', 'Gravity_z:Min', 'Gravity_z:Mean', 'Gravity_z:Max', 'Magnetic-field_x:Min', 'Magnetic-field_x:Mean', 'Magnetic-field_x:Max', 'Magnetic-field_y:Min', 'Magnetic-field_y:Mean', 'Magnetic-field_y:Max', 'Magnetic-field_z:Min', 'Magnetic-field_z:Mean', 'Magnetic-field_z:Max', 'Altitude_x:Min', 'Altitude_x:Mean', 'Altitude_x:Max', 'Altitude_y:Min', 'Altitude_y:Mean', 'Altitude_y:Max', 'Heading_x1:Min', 'Heading_x1:Mean', 'Heading_x1:Max', 'Heading_y1:Min', 'Heading_y1:Mean', 'Heading_y1:Max', 'Heading_z1:Min', 'Heading_z1:Mean', 'Heading_z1:Max', 'Heading_x2:Min', 'Heading_x2:Mean', 'Heading_x2:Max', 'Heading_y2:Min', 'Heading_y2:Mean', 'Heading_y2:Max', 'Heading_z2:Min', 'Heading_z2:Mean', 'Heading_z2:Max']\n"
     ]
    },
    {
     "data": {
      "text/plain": [
       "{'Bluetooth Min/Mean/Max': 0.619762595765736,\n",
       " 'Bluetooth Percentiles & Min/Mean/Max': 0.4728934256678541,\n",
       " '+Categorical Features': 0.22036800220371328,\n",
       " '+IMU Sensor Summaries': 0.08822264981663216,\n",
       " 'Extra Trees Regressor': 0.0741548757880778}"
      ]
     },
     "execution_count": 181,
     "metadata": {},
     "output_type": "execute_result"
    }
   ],
   "source": [
    "from sklearn.ensemble import ExtraTreesClassifier\n",
    "\n",
    "predictors = [ col for col in trainset.columns if \"_\" in col ]\n",
    "print(predictors)\n",
    "et = ExtraTreesClassifier(random_state=15)\n",
    "report, sysout = dual_evaluation(pd.concat([trainset, devset]), testset, predictors=predictors,\n",
    "                   target=\"Distance\", model=et)\n",
    "\n",
    "ndcf[\"Extra Trees Regressor\"] = compute_ndcf(sysout).nDCF.mean()\n",
    "ndcf"
   ]
  },
  {
   "cell_type": "markdown",
   "id": "1bb2f662",
   "metadata": {},
   "source": [
    "### 2.5 wo Bluetooth"
   ]
  },
  {
   "cell_type": "code",
   "execution_count": 185,
   "id": "430f5664",
   "metadata": {},
   "outputs": [
    {
     "name": "stdout",
     "output_type": "stream",
     "text": [
      "['Cat:TXDevice_0', 'Cat:TXDevice_1', 'Cat:TXDevice_2', 'Cat:TXDevice_3', 'Cat:TXDevice_4', 'Cat:TXDevice_5', 'Cat:TXDevice_6', 'Cat:TXDevice_7', 'Cat:TXDevice_8', 'Cat:TXDevice_9', 'Cat:TXDevice_10', 'Cat:TXDevice_11', 'Cat:TXDevice_12', 'Cat:TXDevice_13', 'Cat:TXPower_0', 'Cat:TXPower_1', 'Cat:RXDevice_0', 'Cat:RXDevice_1', 'Cat:RXDevice_2', 'Cat:RXDevice_3', 'Cat:RXDevice_4', 'Cat:RXDevice_5', 'Cat:RXDevice_6', 'Cat:RXDevice_7', 'Cat:RXDevice_8', 'Cat:TXCarry_0', 'Cat:RXCarry_0', 'Cat:RXPose_0', 'Cat:TXPose_0', 'Accelerometer_x:Min', 'Accelerometer_x:Mean', 'Accelerometer_x:Max', 'Accelerometer_y:Min', 'Accelerometer_y:Mean', 'Accelerometer_y:Max', 'Accelerometer_z:Min', 'Accelerometer_z:Mean', 'Accelerometer_z:Max', 'Gyroscope_x:Min', 'Gyroscope_x:Mean', 'Gyroscope_x:Max', 'Gyroscope_y:Min', 'Gyroscope_y:Mean', 'Gyroscope_y:Max', 'Gyroscope_z:Min', 'Gyroscope_z:Mean', 'Gyroscope_z:Max', 'Attitude_x:Min', 'Attitude_x:Mean', 'Attitude_x:Max', 'Attitude_y:Min', 'Attitude_y:Mean', 'Attitude_y:Max', 'Attitude_z:Min', 'Attitude_z:Mean', 'Attitude_z:Max', 'Gravity_x:Min', 'Gravity_x:Mean', 'Gravity_x:Max', 'Gravity_y:Min', 'Gravity_y:Mean', 'Gravity_y:Max', 'Gravity_z:Min', 'Gravity_z:Mean', 'Gravity_z:Max', 'Magnetic-field_x:Min', 'Magnetic-field_x:Mean', 'Magnetic-field_x:Max', 'Magnetic-field_y:Min', 'Magnetic-field_y:Mean', 'Magnetic-field_y:Max', 'Magnetic-field_z:Min', 'Magnetic-field_z:Mean', 'Magnetic-field_z:Max', 'Altitude_x:Min', 'Altitude_x:Mean', 'Altitude_x:Max', 'Altitude_y:Min', 'Altitude_y:Mean', 'Altitude_y:Max', 'Heading_x1:Min', 'Heading_x1:Mean', 'Heading_x1:Max', 'Heading_y1:Min', 'Heading_y1:Mean', 'Heading_y1:Max', 'Heading_z1:Min', 'Heading_z1:Mean', 'Heading_z1:Max', 'Heading_x2:Min', 'Heading_x2:Mean', 'Heading_x2:Max', 'Heading_y2:Min', 'Heading_y2:Mean', 'Heading_y2:Max', 'Heading_z2:Min', 'Heading_z2:Mean', 'Heading_z2:Max']\n"
     ]
    },
    {
     "data": {
      "text/plain": [
       "{'Bluetooth Min/Mean/Max': 0.619762595765736,\n",
       " 'Bluetooth Percentiles & Min/Mean/Max': 0.4728934256678541,\n",
       " '+Categorical Features': 0.22036800220371328,\n",
       " '+IMU Sensor Summaries': 0.08822264981663216,\n",
       " 'Extra Trees Regressor': 0.0741548757880778,\n",
       " '-Bluetooth': 0.0726848513919191}"
      ]
     },
     "execution_count": 185,
     "metadata": {},
     "output_type": "execute_result"
    }
   ],
   "source": [
    "from sklearn.ensemble import ExtraTreesClassifier\n",
    "\n",
    "predictors_wo = [ col for col in trainset.columns if \"_\" in col and \"Bluetooth\" not in col ]\n",
    "print(predictors_wo)\n",
    "et = ExtraTreesClassifier(random_state=15)\n",
    "report, sysout = dual_evaluation(pd.concat([trainset, devset]), testset, predictors=predictors_wo,\n",
    "                   target=\"Distance\", model=et)\n",
    "\n",
    "ndcf[\"-Bluetooth\"] = compute_ndcf(sysout).nDCF.mean()\n",
    "ndcf"
   ]
  },
  {
   "cell_type": "markdown",
   "id": "70d4e164",
   "metadata": {},
   "source": [
    "### 2.6 wo Accelerometer"
   ]
  },
  {
   "cell_type": "code",
   "execution_count": 186,
   "id": "9479ec48",
   "metadata": {},
   "outputs": [
    {
     "name": "stdout",
     "output_type": "stream",
     "text": [
      "['Cat:TXDevice_0', 'Cat:TXDevice_1', 'Cat:TXDevice_2', 'Cat:TXDevice_3', 'Cat:TXDevice_4', 'Cat:TXDevice_5', 'Cat:TXDevice_6', 'Cat:TXDevice_7', 'Cat:TXDevice_8', 'Cat:TXDevice_9', 'Cat:TXDevice_10', 'Cat:TXDevice_11', 'Cat:TXDevice_12', 'Cat:TXDevice_13', 'Cat:TXPower_0', 'Cat:TXPower_1', 'Cat:RXDevice_0', 'Cat:RXDevice_1', 'Cat:RXDevice_2', 'Cat:RXDevice_3', 'Cat:RXDevice_4', 'Cat:RXDevice_5', 'Cat:RXDevice_6', 'Cat:RXDevice_7', 'Cat:RXDevice_8', 'Cat:TXCarry_0', 'Cat:RXCarry_0', 'Cat:RXPose_0', 'Cat:TXPose_0', 'Bluetooth:Percentile_1', 'Bluetooth:Percentile_5', 'Bluetooth:Percentile_10', 'Bluetooth:Percentile_25', 'Bluetooth:Percentile_40', 'Bluetooth:Percentile_65', 'Bluetooth:Percentile_80', 'Bluetooth:Percentile_90', 'Bluetooth:Percentile_95', 'Bluetooth:Percentile_99', 'Gyroscope_x:Min', 'Gyroscope_x:Mean', 'Gyroscope_x:Max', 'Gyroscope_y:Min', 'Gyroscope_y:Mean', 'Gyroscope_y:Max', 'Gyroscope_z:Min', 'Gyroscope_z:Mean', 'Gyroscope_z:Max', 'Attitude_x:Min', 'Attitude_x:Mean', 'Attitude_x:Max', 'Attitude_y:Min', 'Attitude_y:Mean', 'Attitude_y:Max', 'Attitude_z:Min', 'Attitude_z:Mean', 'Attitude_z:Max', 'Gravity_x:Min', 'Gravity_x:Mean', 'Gravity_x:Max', 'Gravity_y:Min', 'Gravity_y:Mean', 'Gravity_y:Max', 'Gravity_z:Min', 'Gravity_z:Mean', 'Gravity_z:Max', 'Magnetic-field_x:Min', 'Magnetic-field_x:Mean', 'Magnetic-field_x:Max', 'Magnetic-field_y:Min', 'Magnetic-field_y:Mean', 'Magnetic-field_y:Max', 'Magnetic-field_z:Min', 'Magnetic-field_z:Mean', 'Magnetic-field_z:Max', 'Altitude_x:Min', 'Altitude_x:Mean', 'Altitude_x:Max', 'Altitude_y:Min', 'Altitude_y:Mean', 'Altitude_y:Max', 'Heading_x1:Min', 'Heading_x1:Mean', 'Heading_x1:Max', 'Heading_y1:Min', 'Heading_y1:Mean', 'Heading_y1:Max', 'Heading_z1:Min', 'Heading_z1:Mean', 'Heading_z1:Max', 'Heading_x2:Min', 'Heading_x2:Mean', 'Heading_x2:Max', 'Heading_y2:Min', 'Heading_y2:Mean', 'Heading_y2:Max', 'Heading_z2:Min', 'Heading_z2:Mean', 'Heading_z2:Max']\n"
     ]
    },
    {
     "data": {
      "text/plain": [
       "{'Bluetooth Min/Mean/Max': 0.619762595765736,\n",
       " 'Bluetooth Percentiles & Min/Mean/Max': 0.4728934256678541,\n",
       " '+Categorical Features': 0.22036800220371328,\n",
       " '+IMU Sensor Summaries': 0.08822264981663216,\n",
       " 'Extra Trees Regressor': 0.0741548757880778,\n",
       " '-Bluetooth': 0.0726848513919191,\n",
       " '-Accelerometer': 0.07598071849208757}"
      ]
     },
     "execution_count": 186,
     "metadata": {},
     "output_type": "execute_result"
    }
   ],
   "source": [
    "from sklearn.ensemble import ExtraTreesClassifier\n",
    "\n",
    "predictors_wo = [ col for col in trainset.columns if \"_\" in col and \"Accelerometer\" not in col ]\n",
    "print(predictors_wo)\n",
    "et = ExtraTreesClassifier(random_state=15)\n",
    "report, sysout = dual_evaluation(pd.concat([trainset, devset]), testset, predictors=predictors_wo,\n",
    "                   target=\"Distance\", model=et)\n",
    "\n",
    "ndcf[\"-Accelerometer\"] = compute_ndcf(sysout).nDCF.mean()\n",
    "ndcf"
   ]
  },
  {
   "cell_type": "markdown",
   "id": "70c183b3",
   "metadata": {},
   "source": [
    "### 2.7 wo Gyroscope"
   ]
  },
  {
   "cell_type": "code",
   "execution_count": 187,
   "id": "de49f19e",
   "metadata": {},
   "outputs": [
    {
     "name": "stdout",
     "output_type": "stream",
     "text": [
      "['Cat:TXDevice_0', 'Cat:TXDevice_1', 'Cat:TXDevice_2', 'Cat:TXDevice_3', 'Cat:TXDevice_4', 'Cat:TXDevice_5', 'Cat:TXDevice_6', 'Cat:TXDevice_7', 'Cat:TXDevice_8', 'Cat:TXDevice_9', 'Cat:TXDevice_10', 'Cat:TXDevice_11', 'Cat:TXDevice_12', 'Cat:TXDevice_13', 'Cat:TXPower_0', 'Cat:TXPower_1', 'Cat:RXDevice_0', 'Cat:RXDevice_1', 'Cat:RXDevice_2', 'Cat:RXDevice_3', 'Cat:RXDevice_4', 'Cat:RXDevice_5', 'Cat:RXDevice_6', 'Cat:RXDevice_7', 'Cat:RXDevice_8', 'Cat:TXCarry_0', 'Cat:RXCarry_0', 'Cat:RXPose_0', 'Cat:TXPose_0', 'Bluetooth:Percentile_1', 'Bluetooth:Percentile_5', 'Bluetooth:Percentile_10', 'Bluetooth:Percentile_25', 'Bluetooth:Percentile_40', 'Bluetooth:Percentile_65', 'Bluetooth:Percentile_80', 'Bluetooth:Percentile_90', 'Bluetooth:Percentile_95', 'Bluetooth:Percentile_99', 'Accelerometer_x:Min', 'Accelerometer_x:Mean', 'Accelerometer_x:Max', 'Accelerometer_y:Min', 'Accelerometer_y:Mean', 'Accelerometer_y:Max', 'Accelerometer_z:Min', 'Accelerometer_z:Mean', 'Accelerometer_z:Max', 'Attitude_x:Min', 'Attitude_x:Mean', 'Attitude_x:Max', 'Attitude_y:Min', 'Attitude_y:Mean', 'Attitude_y:Max', 'Attitude_z:Min', 'Attitude_z:Mean', 'Attitude_z:Max', 'Gravity_x:Min', 'Gravity_x:Mean', 'Gravity_x:Max', 'Gravity_y:Min', 'Gravity_y:Mean', 'Gravity_y:Max', 'Gravity_z:Min', 'Gravity_z:Mean', 'Gravity_z:Max', 'Magnetic-field_x:Min', 'Magnetic-field_x:Mean', 'Magnetic-field_x:Max', 'Magnetic-field_y:Min', 'Magnetic-field_y:Mean', 'Magnetic-field_y:Max', 'Magnetic-field_z:Min', 'Magnetic-field_z:Mean', 'Magnetic-field_z:Max', 'Altitude_x:Min', 'Altitude_x:Mean', 'Altitude_x:Max', 'Altitude_y:Min', 'Altitude_y:Mean', 'Altitude_y:Max', 'Heading_x1:Min', 'Heading_x1:Mean', 'Heading_x1:Max', 'Heading_y1:Min', 'Heading_y1:Mean', 'Heading_y1:Max', 'Heading_z1:Min', 'Heading_z1:Mean', 'Heading_z1:Max', 'Heading_x2:Min', 'Heading_x2:Mean', 'Heading_x2:Max', 'Heading_y2:Min', 'Heading_y2:Mean', 'Heading_y2:Max', 'Heading_z2:Min', 'Heading_z2:Mean', 'Heading_z2:Max']\n"
     ]
    },
    {
     "data": {
      "text/plain": [
       "{'Bluetooth Min/Mean/Max': 0.619762595765736,\n",
       " 'Bluetooth Percentiles & Min/Mean/Max': 0.4728934256678541,\n",
       " '+Categorical Features': 0.22036800220371328,\n",
       " '+IMU Sensor Summaries': 0.08822264981663216,\n",
       " 'Extra Trees Regressor': 0.0741548757880778,\n",
       " '-Bluetooth': 0.0726848513919191,\n",
       " '-Accelerometer': 0.07598071849208757,\n",
       " '-Gyroscope': 0.07349310099794051}"
      ]
     },
     "execution_count": 187,
     "metadata": {},
     "output_type": "execute_result"
    }
   ],
   "source": [
    "from sklearn.ensemble import ExtraTreesClassifier\n",
    "\n",
    "predictors_wo = [ col for col in trainset.columns if \"_\" in col and \"Gyroscope\" not in col ]\n",
    "print(predictors_wo)\n",
    "et = ExtraTreesClassifier(random_state=15)\n",
    "report, sysout = dual_evaluation(pd.concat([trainset, devset]), testset, predictors=predictors_wo,\n",
    "                   target=\"Distance\", model=et)\n",
    "\n",
    "ndcf[\"-Gyroscope\"] = compute_ndcf(sysout).nDCF.mean()\n",
    "ndcf"
   ]
  },
  {
   "cell_type": "markdown",
   "id": "972f4fbe",
   "metadata": {},
   "source": [
    "### 2.8 wo Gravity"
   ]
  },
  {
   "cell_type": "code",
   "execution_count": 188,
   "id": "a4c91c61",
   "metadata": {},
   "outputs": [
    {
     "name": "stdout",
     "output_type": "stream",
     "text": [
      "['Cat:TXDevice_0', 'Cat:TXDevice_1', 'Cat:TXDevice_2', 'Cat:TXDevice_3', 'Cat:TXDevice_4', 'Cat:TXDevice_5', 'Cat:TXDevice_6', 'Cat:TXDevice_7', 'Cat:TXDevice_8', 'Cat:TXDevice_9', 'Cat:TXDevice_10', 'Cat:TXDevice_11', 'Cat:TXDevice_12', 'Cat:TXDevice_13', 'Cat:TXPower_0', 'Cat:TXPower_1', 'Cat:RXDevice_0', 'Cat:RXDevice_1', 'Cat:RXDevice_2', 'Cat:RXDevice_3', 'Cat:RXDevice_4', 'Cat:RXDevice_5', 'Cat:RXDevice_6', 'Cat:RXDevice_7', 'Cat:RXDevice_8', 'Cat:TXCarry_0', 'Cat:RXCarry_0', 'Cat:RXPose_0', 'Cat:TXPose_0', 'Bluetooth:Percentile_1', 'Bluetooth:Percentile_5', 'Bluetooth:Percentile_10', 'Bluetooth:Percentile_25', 'Bluetooth:Percentile_40', 'Bluetooth:Percentile_65', 'Bluetooth:Percentile_80', 'Bluetooth:Percentile_90', 'Bluetooth:Percentile_95', 'Bluetooth:Percentile_99', 'Accelerometer_x:Min', 'Accelerometer_x:Mean', 'Accelerometer_x:Max', 'Accelerometer_y:Min', 'Accelerometer_y:Mean', 'Accelerometer_y:Max', 'Accelerometer_z:Min', 'Accelerometer_z:Mean', 'Accelerometer_z:Max', 'Gyroscope_x:Min', 'Gyroscope_x:Mean', 'Gyroscope_x:Max', 'Gyroscope_y:Min', 'Gyroscope_y:Mean', 'Gyroscope_y:Max', 'Gyroscope_z:Min', 'Gyroscope_z:Mean', 'Gyroscope_z:Max', 'Attitude_x:Min', 'Attitude_x:Mean', 'Attitude_x:Max', 'Attitude_y:Min', 'Attitude_y:Mean', 'Attitude_y:Max', 'Attitude_z:Min', 'Attitude_z:Mean', 'Attitude_z:Max', 'Magnetic-field_x:Min', 'Magnetic-field_x:Mean', 'Magnetic-field_x:Max', 'Magnetic-field_y:Min', 'Magnetic-field_y:Mean', 'Magnetic-field_y:Max', 'Magnetic-field_z:Min', 'Magnetic-field_z:Mean', 'Magnetic-field_z:Max', 'Altitude_x:Min', 'Altitude_x:Mean', 'Altitude_x:Max', 'Altitude_y:Min', 'Altitude_y:Mean', 'Altitude_y:Max', 'Heading_x1:Min', 'Heading_x1:Mean', 'Heading_x1:Max', 'Heading_y1:Min', 'Heading_y1:Mean', 'Heading_y1:Max', 'Heading_z1:Min', 'Heading_z1:Mean', 'Heading_z1:Max', 'Heading_x2:Min', 'Heading_x2:Mean', 'Heading_x2:Max', 'Heading_y2:Min', 'Heading_y2:Mean', 'Heading_y2:Max', 'Heading_z2:Min', 'Heading_z2:Mean', 'Heading_z2:Max']\n"
     ]
    },
    {
     "data": {
      "text/plain": [
       "{'Bluetooth Min/Mean/Max': 0.619762595765736,\n",
       " 'Bluetooth Percentiles & Min/Mean/Max': 0.4728934256678541,\n",
       " '+Categorical Features': 0.22036800220371328,\n",
       " '+IMU Sensor Summaries': 0.08822264981663216,\n",
       " 'Extra Trees Regressor': 0.0741548757880778,\n",
       " '-Bluetooth': 0.0726848513919191,\n",
       " '-Accelerometer': 0.07598071849208757,\n",
       " '-Gyroscope': 0.07349310099794051,\n",
       " '-Gravity': 0.07544177827175808}"
      ]
     },
     "execution_count": 188,
     "metadata": {},
     "output_type": "execute_result"
    }
   ],
   "source": [
    "predictors_wo = [ col for col in trainset.columns if \"_\" in col and \"Gravity\" not in col ]\n",
    "print(predictors_wo)\n",
    "et = ExtraTreesClassifier(random_state=15)\n",
    "report, sysout = dual_evaluation(pd.concat([trainset, devset]), testset, predictors=predictors_wo,\n",
    "                   target=\"Distance\", model=et)\n",
    "\n",
    "ndcf[\"-Gravity\"] = compute_ndcf(sysout).nDCF.mean()\n",
    "ndcf"
   ]
  },
  {
   "cell_type": "markdown",
   "id": "3bfaf7d1",
   "metadata": {},
   "source": [
    "### 2.9 wo Attitude"
   ]
  },
  {
   "cell_type": "code",
   "execution_count": 189,
   "id": "473c16af",
   "metadata": {},
   "outputs": [
    {
     "name": "stdout",
     "output_type": "stream",
     "text": [
      "['Cat:TXDevice_0', 'Cat:TXDevice_1', 'Cat:TXDevice_2', 'Cat:TXDevice_3', 'Cat:TXDevice_4', 'Cat:TXDevice_5', 'Cat:TXDevice_6', 'Cat:TXDevice_7', 'Cat:TXDevice_8', 'Cat:TXDevice_9', 'Cat:TXDevice_10', 'Cat:TXDevice_11', 'Cat:TXDevice_12', 'Cat:TXDevice_13', 'Cat:TXPower_0', 'Cat:TXPower_1', 'Cat:RXDevice_0', 'Cat:RXDevice_1', 'Cat:RXDevice_2', 'Cat:RXDevice_3', 'Cat:RXDevice_4', 'Cat:RXDevice_5', 'Cat:RXDevice_6', 'Cat:RXDevice_7', 'Cat:RXDevice_8', 'Cat:TXCarry_0', 'Cat:RXCarry_0', 'Cat:RXPose_0', 'Cat:TXPose_0', 'Bluetooth:Percentile_1', 'Bluetooth:Percentile_5', 'Bluetooth:Percentile_10', 'Bluetooth:Percentile_25', 'Bluetooth:Percentile_40', 'Bluetooth:Percentile_65', 'Bluetooth:Percentile_80', 'Bluetooth:Percentile_90', 'Bluetooth:Percentile_95', 'Bluetooth:Percentile_99', 'Accelerometer_x:Min', 'Accelerometer_x:Mean', 'Accelerometer_x:Max', 'Accelerometer_y:Min', 'Accelerometer_y:Mean', 'Accelerometer_y:Max', 'Accelerometer_z:Min', 'Accelerometer_z:Mean', 'Accelerometer_z:Max', 'Gyroscope_x:Min', 'Gyroscope_x:Mean', 'Gyroscope_x:Max', 'Gyroscope_y:Min', 'Gyroscope_y:Mean', 'Gyroscope_y:Max', 'Gyroscope_z:Min', 'Gyroscope_z:Mean', 'Gyroscope_z:Max', 'Gravity_x:Min', 'Gravity_x:Mean', 'Gravity_x:Max', 'Gravity_y:Min', 'Gravity_y:Mean', 'Gravity_y:Max', 'Gravity_z:Min', 'Gravity_z:Mean', 'Gravity_z:Max', 'Magnetic-field_x:Min', 'Magnetic-field_x:Mean', 'Magnetic-field_x:Max', 'Magnetic-field_y:Min', 'Magnetic-field_y:Mean', 'Magnetic-field_y:Max', 'Magnetic-field_z:Min', 'Magnetic-field_z:Mean', 'Magnetic-field_z:Max', 'Altitude_x:Min', 'Altitude_x:Mean', 'Altitude_x:Max', 'Altitude_y:Min', 'Altitude_y:Mean', 'Altitude_y:Max', 'Heading_x1:Min', 'Heading_x1:Mean', 'Heading_x1:Max', 'Heading_y1:Min', 'Heading_y1:Mean', 'Heading_y1:Max', 'Heading_z1:Min', 'Heading_z1:Mean', 'Heading_z1:Max', 'Heading_x2:Min', 'Heading_x2:Mean', 'Heading_x2:Max', 'Heading_y2:Min', 'Heading_y2:Mean', 'Heading_y2:Max', 'Heading_z2:Min', 'Heading_z2:Mean', 'Heading_z2:Max']\n"
     ]
    },
    {
     "data": {
      "text/plain": [
       "{'Bluetooth Min/Mean/Max': 0.619762595765736,\n",
       " 'Bluetooth Percentiles & Min/Mean/Max': 0.4728934256678541,\n",
       " '+Categorical Features': 0.22036800220371328,\n",
       " '+IMU Sensor Summaries': 0.08822264981663216,\n",
       " 'Extra Trees Regressor': 0.0741548757880778,\n",
       " '-Bluetooth': 0.0726848513919191,\n",
       " '-Accelerometer': 0.07598071849208757,\n",
       " '-Gyroscope': 0.07349310099794051,\n",
       " '-Gravity': 0.07544177827175808,\n",
       " '-Attitude': 0.07907816897918306}"
      ]
     },
     "execution_count": 189,
     "metadata": {},
     "output_type": "execute_result"
    }
   ],
   "source": [
    "predictors_wo = [ col for col in trainset.columns if \"_\" in col and \"Attitude\" not in col ]\n",
    "print(predictors_wo)\n",
    "et = ExtraTreesClassifier(random_state=15)\n",
    "report, sysout = dual_evaluation(pd.concat([trainset, devset]), testset, predictors=predictors_wo,\n",
    "                   target=\"Distance\", model=et)\n",
    "\n",
    "ndcf[\"-Attitude\"] = compute_ndcf(sysout).nDCF.mean()\n",
    "ndcf"
   ]
  },
  {
   "cell_type": "markdown",
   "id": "6c460e0e",
   "metadata": {},
   "source": [
    "### 2.10 wo Altitude"
   ]
  },
  {
   "cell_type": "code",
   "execution_count": 190,
   "id": "d4700a30",
   "metadata": {},
   "outputs": [
    {
     "name": "stdout",
     "output_type": "stream",
     "text": [
      "['Cat:TXDevice_0', 'Cat:TXDevice_1', 'Cat:TXDevice_2', 'Cat:TXDevice_3', 'Cat:TXDevice_4', 'Cat:TXDevice_5', 'Cat:TXDevice_6', 'Cat:TXDevice_7', 'Cat:TXDevice_8', 'Cat:TXDevice_9', 'Cat:TXDevice_10', 'Cat:TXDevice_11', 'Cat:TXDevice_12', 'Cat:TXDevice_13', 'Cat:TXPower_0', 'Cat:TXPower_1', 'Cat:RXDevice_0', 'Cat:RXDevice_1', 'Cat:RXDevice_2', 'Cat:RXDevice_3', 'Cat:RXDevice_4', 'Cat:RXDevice_5', 'Cat:RXDevice_6', 'Cat:RXDevice_7', 'Cat:RXDevice_8', 'Cat:TXCarry_0', 'Cat:RXCarry_0', 'Cat:RXPose_0', 'Cat:TXPose_0', 'Bluetooth:Percentile_1', 'Bluetooth:Percentile_5', 'Bluetooth:Percentile_10', 'Bluetooth:Percentile_25', 'Bluetooth:Percentile_40', 'Bluetooth:Percentile_65', 'Bluetooth:Percentile_80', 'Bluetooth:Percentile_90', 'Bluetooth:Percentile_95', 'Bluetooth:Percentile_99', 'Accelerometer_x:Min', 'Accelerometer_x:Mean', 'Accelerometer_x:Max', 'Accelerometer_y:Min', 'Accelerometer_y:Mean', 'Accelerometer_y:Max', 'Accelerometer_z:Min', 'Accelerometer_z:Mean', 'Accelerometer_z:Max', 'Gyroscope_x:Min', 'Gyroscope_x:Mean', 'Gyroscope_x:Max', 'Gyroscope_y:Min', 'Gyroscope_y:Mean', 'Gyroscope_y:Max', 'Gyroscope_z:Min', 'Gyroscope_z:Mean', 'Gyroscope_z:Max', 'Attitude_x:Min', 'Attitude_x:Mean', 'Attitude_x:Max', 'Attitude_y:Min', 'Attitude_y:Mean', 'Attitude_y:Max', 'Attitude_z:Min', 'Attitude_z:Mean', 'Attitude_z:Max', 'Gravity_x:Min', 'Gravity_x:Mean', 'Gravity_x:Max', 'Gravity_y:Min', 'Gravity_y:Mean', 'Gravity_y:Max', 'Gravity_z:Min', 'Gravity_z:Mean', 'Gravity_z:Max', 'Magnetic-field_x:Min', 'Magnetic-field_x:Mean', 'Magnetic-field_x:Max', 'Magnetic-field_y:Min', 'Magnetic-field_y:Mean', 'Magnetic-field_y:Max', 'Magnetic-field_z:Min', 'Magnetic-field_z:Mean', 'Magnetic-field_z:Max', 'Heading_x1:Min', 'Heading_x1:Mean', 'Heading_x1:Max', 'Heading_y1:Min', 'Heading_y1:Mean', 'Heading_y1:Max', 'Heading_z1:Min', 'Heading_z1:Mean', 'Heading_z1:Max', 'Heading_x2:Min', 'Heading_x2:Mean', 'Heading_x2:Max', 'Heading_y2:Min', 'Heading_y2:Mean', 'Heading_y2:Max', 'Heading_z2:Min', 'Heading_z2:Mean', 'Heading_z2:Max']\n"
     ]
    },
    {
     "data": {
      "text/plain": [
       "{'Bluetooth Min/Mean/Max': 0.619762595765736,\n",
       " 'Bluetooth Percentiles & Min/Mean/Max': 0.4728934256678541,\n",
       " '+Categorical Features': 0.22036800220371328,\n",
       " '+IMU Sensor Summaries': 0.08822264981663216,\n",
       " 'Extra Trees Regressor': 0.0741548757880778,\n",
       " '-Bluetooth': 0.0726848513919191,\n",
       " '-Accelerometer': 0.07598071849208757,\n",
       " '-Gyroscope': 0.07349310099794051,\n",
       " '-Gravity': 0.07544177827175808,\n",
       " '-Attitude': 0.07907816897918306,\n",
       " '-Altitude': 0.08142893993384989}"
      ]
     },
     "execution_count": 190,
     "metadata": {},
     "output_type": "execute_result"
    }
   ],
   "source": [
    "predictors_wo = [ col for col in trainset.columns if \"_\" in col and \"Altitude\" not in col ]\n",
    "print(predictors_wo)\n",
    "et = ExtraTreesClassifier(random_state=15)\n",
    "report, sysout = dual_evaluation(pd.concat([trainset, devset]), testset, predictors=predictors_wo,\n",
    "                   target=\"Distance\", model=et)\n",
    "\n",
    "ndcf[\"-Altitude\"] = compute_ndcf(sysout).nDCF.mean()\n",
    "ndcf"
   ]
  },
  {
   "cell_type": "markdown",
   "id": "fe61a9e9",
   "metadata": {},
   "source": [
    "### 2.11 wo Magnetic-field"
   ]
  },
  {
   "cell_type": "code",
   "execution_count": 191,
   "id": "44e1f066",
   "metadata": {},
   "outputs": [
    {
     "name": "stdout",
     "output_type": "stream",
     "text": [
      "['Cat:TXDevice_0', 'Cat:TXDevice_1', 'Cat:TXDevice_2', 'Cat:TXDevice_3', 'Cat:TXDevice_4', 'Cat:TXDevice_5', 'Cat:TXDevice_6', 'Cat:TXDevice_7', 'Cat:TXDevice_8', 'Cat:TXDevice_9', 'Cat:TXDevice_10', 'Cat:TXDevice_11', 'Cat:TXDevice_12', 'Cat:TXDevice_13', 'Cat:TXPower_0', 'Cat:TXPower_1', 'Cat:RXDevice_0', 'Cat:RXDevice_1', 'Cat:RXDevice_2', 'Cat:RXDevice_3', 'Cat:RXDevice_4', 'Cat:RXDevice_5', 'Cat:RXDevice_6', 'Cat:RXDevice_7', 'Cat:RXDevice_8', 'Cat:TXCarry_0', 'Cat:RXCarry_0', 'Cat:RXPose_0', 'Cat:TXPose_0', 'Bluetooth:Percentile_1', 'Bluetooth:Percentile_5', 'Bluetooth:Percentile_10', 'Bluetooth:Percentile_25', 'Bluetooth:Percentile_40', 'Bluetooth:Percentile_65', 'Bluetooth:Percentile_80', 'Bluetooth:Percentile_90', 'Bluetooth:Percentile_95', 'Bluetooth:Percentile_99', 'Accelerometer_x:Min', 'Accelerometer_x:Mean', 'Accelerometer_x:Max', 'Accelerometer_y:Min', 'Accelerometer_y:Mean', 'Accelerometer_y:Max', 'Accelerometer_z:Min', 'Accelerometer_z:Mean', 'Accelerometer_z:Max', 'Gyroscope_x:Min', 'Gyroscope_x:Mean', 'Gyroscope_x:Max', 'Gyroscope_y:Min', 'Gyroscope_y:Mean', 'Gyroscope_y:Max', 'Gyroscope_z:Min', 'Gyroscope_z:Mean', 'Gyroscope_z:Max', 'Attitude_x:Min', 'Attitude_x:Mean', 'Attitude_x:Max', 'Attitude_y:Min', 'Attitude_y:Mean', 'Attitude_y:Max', 'Attitude_z:Min', 'Attitude_z:Mean', 'Attitude_z:Max', 'Gravity_x:Min', 'Gravity_x:Mean', 'Gravity_x:Max', 'Gravity_y:Min', 'Gravity_y:Mean', 'Gravity_y:Max', 'Gravity_z:Min', 'Gravity_z:Mean', 'Gravity_z:Max', 'Altitude_x:Min', 'Altitude_x:Mean', 'Altitude_x:Max', 'Altitude_y:Min', 'Altitude_y:Mean', 'Altitude_y:Max', 'Heading_x1:Min', 'Heading_x1:Mean', 'Heading_x1:Max', 'Heading_y1:Min', 'Heading_y1:Mean', 'Heading_y1:Max', 'Heading_z1:Min', 'Heading_z1:Mean', 'Heading_z1:Max', 'Heading_x2:Min', 'Heading_x2:Mean', 'Heading_x2:Max', 'Heading_y2:Min', 'Heading_y2:Mean', 'Heading_y2:Max', 'Heading_z2:Min', 'Heading_z2:Mean', 'Heading_z2:Max']\n"
     ]
    },
    {
     "data": {
      "text/plain": [
       "{'Bluetooth Min/Mean/Max': 0.619762595765736,\n",
       " 'Bluetooth Percentiles & Min/Mean/Max': 0.4728934256678541,\n",
       " '+Categorical Features': 0.22036800220371328,\n",
       " '+IMU Sensor Summaries': 0.08822264981663216,\n",
       " 'Extra Trees Regressor': 0.0741548757880778,\n",
       " '-Bluetooth': 0.0726848513919191,\n",
       " '-Accelerometer': 0.07598071849208757,\n",
       " '-Gyroscope': 0.07349310099794051,\n",
       " '-Gravity': 0.07544177827175808,\n",
       " '-Attitude': 0.07907816897918306,\n",
       " '-Altitude': 0.08142893993384989,\n",
       " '-Magnetic-field': 0.07478436489097895}"
      ]
     },
     "execution_count": 191,
     "metadata": {},
     "output_type": "execute_result"
    }
   ],
   "source": [
    "predictors_wo = [ col for col in trainset.columns if \"_\" in col and \"Magnetic-field\" not in col ]\n",
    "print(predictors_wo)\n",
    "et = ExtraTreesClassifier(random_state=15)\n",
    "report, sysout = dual_evaluation(pd.concat([trainset, devset]), testset, predictors=predictors_wo,\n",
    "                   target=\"Distance\", model=et)\n",
    "\n",
    "ndcf[\"-Magnetic-field\"] = compute_ndcf(sysout).nDCF.mean()\n",
    "ndcf"
   ]
  },
  {
   "cell_type": "markdown",
   "id": "e96e5675",
   "metadata": {},
   "source": [
    "### 2.12 wo Heading"
   ]
  },
  {
   "cell_type": "code",
   "execution_count": 195,
   "id": "5cd061cd",
   "metadata": {},
   "outputs": [
    {
     "name": "stdout",
     "output_type": "stream",
     "text": [
      "['Cat:TXDevice_0', 'Cat:TXDevice_1', 'Cat:TXDevice_2', 'Cat:TXDevice_3', 'Cat:TXDevice_4', 'Cat:TXDevice_5', 'Cat:TXDevice_6', 'Cat:TXDevice_7', 'Cat:TXDevice_8', 'Cat:TXDevice_9', 'Cat:TXDevice_10', 'Cat:TXDevice_11', 'Cat:TXDevice_12', 'Cat:TXDevice_13', 'Cat:TXPower_0', 'Cat:TXPower_1', 'Cat:RXDevice_0', 'Cat:RXDevice_1', 'Cat:RXDevice_2', 'Cat:RXDevice_3', 'Cat:RXDevice_4', 'Cat:RXDevice_5', 'Cat:RXDevice_6', 'Cat:RXDevice_7', 'Cat:RXDevice_8', 'Cat:TXCarry_0', 'Cat:RXCarry_0', 'Cat:RXPose_0', 'Cat:TXPose_0', 'Bluetooth:Percentile_1', 'Bluetooth:Percentile_5', 'Bluetooth:Percentile_10', 'Bluetooth:Percentile_25', 'Bluetooth:Percentile_40', 'Bluetooth:Percentile_65', 'Bluetooth:Percentile_80', 'Bluetooth:Percentile_90', 'Bluetooth:Percentile_95', 'Bluetooth:Percentile_99', 'Accelerometer_x:Min', 'Accelerometer_x:Mean', 'Accelerometer_x:Max', 'Accelerometer_y:Min', 'Accelerometer_y:Mean', 'Accelerometer_y:Max', 'Accelerometer_z:Min', 'Accelerometer_z:Mean', 'Accelerometer_z:Max', 'Gyroscope_x:Min', 'Gyroscope_x:Mean', 'Gyroscope_x:Max', 'Gyroscope_y:Min', 'Gyroscope_y:Mean', 'Gyroscope_y:Max', 'Gyroscope_z:Min', 'Gyroscope_z:Mean', 'Gyroscope_z:Max', 'Attitude_x:Min', 'Attitude_x:Mean', 'Attitude_x:Max', 'Attitude_y:Min', 'Attitude_y:Mean', 'Attitude_y:Max', 'Attitude_z:Min', 'Attitude_z:Mean', 'Attitude_z:Max', 'Gravity_x:Min', 'Gravity_x:Mean', 'Gravity_x:Max', 'Gravity_y:Min', 'Gravity_y:Mean', 'Gravity_y:Max', 'Gravity_z:Min', 'Gravity_z:Mean', 'Gravity_z:Max', 'Magnetic-field_x:Min', 'Magnetic-field_x:Mean', 'Magnetic-field_x:Max', 'Magnetic-field_y:Min', 'Magnetic-field_y:Mean', 'Magnetic-field_y:Max', 'Magnetic-field_z:Min', 'Magnetic-field_z:Mean', 'Magnetic-field_z:Max', 'Altitude_x:Min', 'Altitude_x:Mean', 'Altitude_x:Max', 'Altitude_y:Min', 'Altitude_y:Mean', 'Altitude_y:Max']\n"
     ]
    },
    {
     "data": {
      "text/plain": [
       "{'Bluetooth Min/Mean/Max': 0.619762595765736,\n",
       " 'Bluetooth Percentiles & Min/Mean/Max': 0.4728934256678541,\n",
       " '+Categorical Features': 0.22036800220371328,\n",
       " '+IMU Sensor Summaries': 0.08822264981663216,\n",
       " 'Extra Trees Regressor': 0.0741548757880778,\n",
       " '-Bluetooth': 0.0726848513919191,\n",
       " '-Accelerometer': 0.07598071849208757,\n",
       " '-Gyroscope': 0.07349310099794051,\n",
       " '-Gravity': 0.07544177827175808,\n",
       " '-Attitude': 0.07907816897918306,\n",
       " '-Altitude': 0.08142893993384989,\n",
       " '-Magnetic-field': 0.07478436489097895,\n",
       " '-Heading': 0.0715882224305514}"
      ]
     },
     "execution_count": 195,
     "metadata": {},
     "output_type": "execute_result"
    }
   ],
   "source": [
    "predictors_wo = [ col for col in trainset.columns if \"_\" in col and \"Heading\" not in col ]\n",
    "print(predictors_wo)\n",
    "et = ExtraTreesClassifier(random_state=15)\n",
    "report, sysout = dual_evaluation(pd.concat([trainset, devset]), testset, predictors=predictors_wo,\n",
    "                   target=\"Distance\", model=et)\n",
    "\n",
    "ndcf[\"-Heading\"] = compute_ndcf(sysout).nDCF.mean()\n",
    "ndcf"
   ]
  },
  {
   "cell_type": "code",
   "execution_count": 219,
   "id": "77201850",
   "metadata": {},
   "outputs": [
    {
     "data": {
      "image/png": "[encoded data removed]",
      "text/plain": [
       "<Figure size 576x360 with 1 Axes>"
      ]
     },
     "metadata": {},
     "output_type": "display_data"
    }
   ],
   "source": [
    "feature_scores = OrderedDict({\n",
    "    'Bluetooth Min/Mean/Max': 0.619762595765736,\n",
    "    'Bluetooth Percentiles & Min/Mean/Max': 0.4728934256678541,\n",
    "    '+Categorical Features': 0.22036800220371328,\n",
    "    '+IMU Sensor Summaries': 0.08822264981663216,\n",
    "    'Extra Trees Classifier': 0.0741548757880778,\n",
    "})\n",
    "\n",
    "plt.figure(figsize=(8, 5))\n",
    "for name, value in feature_scores.items():\n",
    "    plt.barh(name, value)\n",
    "plt.gca().invert_yaxis()\n",
    "plt.title(\"Feature Importance Study\", fontsize=10)\n",
    "plt.xlabel(\"nDCF\", fontsize=10)\n",
    "plt.xticks(np.arange(0., 0.7, 0.05));\n",
    "# plt.axvline(x=feature_scores[\"Extra Trees Classifier\"], alpha=0.6, c=\"black\")"
   ]
  },
  {
   "cell_type": "code",
   "execution_count": 225,
   "id": "8075dab3",
   "metadata": {},
   "outputs": [
    {
     "data": {
      "image/png": "[encoded data removed]",
      "text/plain": [
       "<Figure size 720x432 with 1 Axes>"
      ]
     },
     "metadata": {},
     "output_type": "display_data"
    }
   ],
   "source": [
    "abl_feature_scores = OrderedDict({\n",
    "     'All': 0.0741548757880778,\n",
    "     '-Bluetooth': 0.0726848513919191,\n",
    "     '-Accelerometer': 0.07598071849208757,\n",
    "     '-Gyroscope': 0.07349310099794051,\n",
    "     '-Gravity': 0.07544177827175808,\n",
    "     '-Attitude': 0.07907816897918306,\n",
    "     '-Altitude': 0.08142893993384989,\n",
    "     '-Magnetic-field': 0.07478436489097895,\n",
    "     '-Heading': 0.0715882224305514\n",
    "})\n",
    "\n",
    "plt.figure(figsize=(10, 6))\n",
    "for name, value in abl_feature_scores.items():\n",
    "    if name != \"All\":\n",
    "        plt.barh(name, abl_feature_scores[\"All\"] - value)\n",
    "plt.gca().invert_yaxis()\n",
    "plt.title(\"Feature Ablation Study\", fontsize=10)\n",
    "plt.xlabel(\"nDCF difference from full-feature model\", fontsize=10)\n",
    "plt.xticks(np.arange(-0.008, 0.003, 0.001));"
   ]
  }
 ],
 "metadata": {
  "kernelspec": {
   "display_name": "gp3.9",
   "language": "python",
   "name": "gp3.9"
  },
  "language_info": {
   "codemirror_mode": {
    "name": "ipython",
    "version": 3
   },
   "file_extension": ".py",
   "mimetype": "text/x-python",
   "name": "python",
   "nbconvert_exporter": "python",
   "pygments_lexer": "ipython3",
   "version": "3.9.7"
  }
 },
 "nbformat": 4,
 "nbformat_minor": 5
}
