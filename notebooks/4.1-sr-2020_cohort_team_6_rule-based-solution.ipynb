{
 "cells": [
  {
   "cell_type": "markdown",
   "metadata": {},
   "source": [
    "# $$10^{\\frac{TX-RSSI}{10 * N}}$$"
   ]
  },
  {
   "cell_type": "code",
   "execution_count": 1,
   "metadata": {},
   "outputs": [],
   "source": [
    "%load_ext autoreload\n",
    "%autoreload 2"
   ]
  },
  {
   "cell_type": "code",
   "execution_count": 2,
   "metadata": {},
   "outputs": [
    {
     "name": "stdout",
     "output_type": "stream",
     "text": [
      "/home/suriya/dcu/Group-Project\n"
     ]
    }
   ],
   "source": [
    "cd .."
   ]
  },
  {
   "cell_type": "code",
   "execution_count": 3,
   "metadata": {},
   "outputs": [],
   "source": [
    "import pandas as pd\n",
    "import numpy as np"
   ]
  },
  {
   "cell_type": "markdown",
   "metadata": {},
   "source": [
    "## Create Trainset and Devset"
   ]
  },
  {
   "cell_type": "code",
   "execution_count": 4,
   "metadata": {},
   "outputs": [],
   "source": [
    "train_data_dir = 'data/tc4tl_training_data_v1/tc4tl/data/train/'\n",
    "train_key = pd.read_csv('data/tc4tl_training_data_v1/tc4tl/docs/tc4tl_train_key.tsv', sep='\\t')\n",
    "dev_data_dir = 'data/tc4tl_data_v5/tc4tl/data/dev/'\n",
    "dev_key = pd.read_csv('data/tc4tl_data_v5/tc4tl/docs/tc4tl_dev_key.tsv', sep='\\t')"
   ]
  },
  {
   "cell_type": "code",
   "execution_count": 9,
   "metadata": {},
   "outputs": [],
   "source": [
    "from src.features.rssi_distance import extract_feature2, extract_feature, postproc_feature_dicts\n",
    "from src.featutils import aggregate_features_from_folder"
   ]
  },
  {
   "cell_type": "code",
   "execution_count": null,
   "metadata": {},
   "outputs": [],
   "source": [
    "trainset, _ = aggregate_features_from_folder(train_data_dir, train_key, extract_feature, postproc_feature_dicts)"
   ]
  },
  {
   "cell_type": "code",
   "execution_count": null,
   "metadata": {},
   "outputs": [],
   "source": [
    "devset, _ = aggregate_features_from_folder(dev_data_dir, dev_key, extract_feature, postproc_feature_dicts)"
   ]
  },
  {
   "cell_type": "markdown",
   "metadata": {},
   "source": [
    "## Prediction"
   ]
  },
  {
   "cell_type": "code",
   "execution_count": null,
   "metadata": {},
   "outputs": [],
   "source": [
    "trainset.Distance.unique()"
   ]
  },
  {
   "cell_type": "code",
   "execution_count": null,
   "metadata": {},
   "outputs": [],
   "source": [
    "trainset.sample(10)"
   ]
  },
  {
   "cell_type": "code",
   "execution_count": null,
   "metadata": {},
   "outputs": [],
   "source": [
    "predictions = devset.apply(\n",
    "    lambda x : ['1.8', '3.0', '1.2', '4.5'][np.argmin(abs(x.PredictedDistance - np.array([1.8, 3.0, 1.2, 4.5])))], axis=1)"
   ]
  },
  {
   "cell_type": "code",
   "execution_count": null,
   "metadata": {},
   "outputs": [],
   "source": [
    "from src.models.base import evaluate_prediction\n",
    "\n",
    "report, sysout = evaluate_prediction(devset, predictions.values, save_system_output=True)"
   ]
  },
  {
   "cell_type": "code",
   "execution_count": null,
   "metadata": {},
   "outputs": [],
   "source": [
    "print(report)"
   ]
  },
  {
   "cell_type": "code",
   "execution_count": 10,
   "metadata": {},
   "outputs": [
    {
     "name": "stderr",
     "output_type": "stream",
     "text": [
      "100%|██████████| 935/935 [00:00<00:00, 1281.97it/s]"
     ]
    },
    {
     "name": "stdout",
     "output_type": "stream",
     "text": [
      "              precision    recall  f1-score   support\n",
      "\n",
      "         1.2       0.20      0.77      0.32       153\n",
      "         1.8       0.19      0.12      0.15       289\n",
      "         3.0       0.17      0.07      0.10       175\n",
      "         4.5       0.75      0.20      0.32       318\n",
      "\n",
      "    accuracy                           0.25       935\n",
      "   macro avg       0.33      0.29      0.22       935\n",
      "weighted avg       0.38      0.25      0.23       935\n",
      "\n"
     ]
    },
    {
     "name": "stderr",
     "output_type": "stream",
     "text": [
      "\n"
     ]
    }
   ],
   "source": [
    "from src.models.base import evaluate_prediction\n",
    "\n",
    "devset, _ = aggregate_features_from_folder(dev_data_dir, dev_key, extract_feature2, postproc_feature_dicts)\n",
    "predictions = devset.apply(\n",
    "    lambda x : ['1.8', '3.0', '1.2', '4.5'][np.argmin(abs(x.PredictedDistance - np.array([1.8, 3.0, 1.2, 4.5])))], axis=1)\n",
    "report, sysout = evaluate_prediction(devset, predictions.values, save_system_output=True)\n",
    "print(report)"
   ]
  },
  {
   "cell_type": "code",
   "execution_count": 11,
   "metadata": {},
   "outputs": [
    {
     "name": "stdout",
     "output_type": "stream",
     "text": [
      "Subset\t\tD\tP_miss\tP_fa\tnDCF\r\n",
      "fine_grain\t1.20\t0.23\t0.55\t0.78\r\n",
      "fine_grain\t1.80\t0.08\t0.73\t0.81\r\n",
      "fine_grain\t3.00\t0.04\t0.74\t0.78\r\n",
      "coarse_grain\t1.80\t0.10\t0.77\t0.88\r\n"
     ]
    }
   ],
   "source": [
    "!bash evaluation/evaluate_dev.sh"
   ]
  },
  {
   "cell_type": "markdown",
   "metadata": {},
   "source": [
    "## Evaluation with different values of $TX$ and $N$"
   ]
  },
  {
   "cell_type": "code",
   "execution_count": 7,
   "metadata": {},
   "outputs": [
    {
     "name": "stderr",
     "output_type": "stream",
     "text": [
      "100%|██████████| 935/935 [00:00<00:00, 1249.29it/s]"
     ]
    },
    {
     "name": "stdout",
     "output_type": "stream",
     "text": [
      "              precision    recall  f1-score   support\n",
      "\n",
      "         1.2       0.41      0.47      0.44       153\n",
      "         1.8       0.39      0.32      0.35       289\n",
      "         3.0       0.21      0.30      0.25       175\n",
      "         4.5       0.54      0.48      0.51       318\n",
      "\n",
      "    accuracy                           0.40       935\n",
      "   macro avg       0.39      0.39      0.39       935\n",
      "weighted avg       0.41      0.40      0.40       935\n",
      "\n"
     ]
    },
    {
     "name": "stderr",
     "output_type": "stream",
     "text": [
      "\n"
     ]
    }
   ],
   "source": [
    "from src.models.base import evaluate_prediction\n",
    "\n",
    "devset, _ = aggregate_features_from_folder(dev_data_dir, dev_key, extract_feature, postproc_feature_dicts)\n",
    "predictions = devset.apply(\n",
    "    lambda x : ['1.8', '3.0', '1.2', '4.5'][np.argmin(abs(x.PredictedDistance - np.array([1.8, 3.0, 1.2, 4.5])))], axis=1)\n",
    "report, sysout = evaluate_prediction(devset, predictions.values, save_system_output=True)\n",
    "print(report)"
   ]
  },
  {
   "cell_type": "code",
   "execution_count": 8,
   "metadata": {},
   "outputs": [
    {
     "name": "stdout",
     "output_type": "stream",
     "text": [
      "Subset\t\tD\tP_miss\tP_fa\tnDCF\r\n",
      "fine_grain\t1.20\t0.53\t0.12\t0.65\r\n",
      "fine_grain\t1.80\t0.36\t0.27\t0.63\r\n",
      "fine_grain\t3.00\t0.23\t0.42\t0.65\r\n",
      "coarse_grain\t1.80\t0.38\t0.25\t0.62\r\n"
     ]
    }
   ],
   "source": [
    "!bash evaluation/evaluate_dev.sh"
   ]
  }
 ],
 "metadata": {
  "kernelspec": {
   "display_name": "Python 3",
   "language": "python",
   "name": "python3"
  },
  "language_info": {
   "codemirror_mode": {
    "name": "ipython",
    "version": 3
   },
   "file_extension": ".py",
   "mimetype": "text/x-python",
   "name": "python",
   "nbconvert_exporter": "python",
   "pygments_lexer": "ipython3",
   "version": "3.6.9"
  }
 },
 "nbformat": 4,
 "nbformat_minor": 4
}
