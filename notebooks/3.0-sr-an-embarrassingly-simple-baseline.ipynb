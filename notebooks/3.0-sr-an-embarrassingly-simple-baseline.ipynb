{
 "cells": [
  {
   "cell_type": "code",
   "execution_count": 1,
   "metadata": {},
   "outputs": [],
   "source": [
    "%load_ext autoreload\n",
    "%autoreload 2"
   ]
  },
  {
   "cell_type": "code",
   "execution_count": 2,
   "metadata": {},
   "outputs": [
    {
     "name": "stdout",
     "output_type": "stream",
     "text": [
      "/home/suriya/dcu/Group-Project\n"
     ]
    }
   ],
   "source": [
    "cd .."
   ]
  },
  {
   "cell_type": "code",
   "execution_count": 54,
   "metadata": {},
   "outputs": [],
   "source": [
    "import pandas as pd\n",
    "import numpy as np\n",
    "import os\n",
    "\n",
    "from tqdm import tqdm\n",
    "from matplotlib import pyplot as plt\n",
    "plt.style.use('ggplot')"
   ]
  },
  {
   "cell_type": "code",
   "execution_count": 4,
   "metadata": {},
   "outputs": [],
   "source": [
    "train_data_dir = 'data/tc4tl_training_data_v1/tc4tl/data/train/'\n",
    "train_key = pd.read_csv('data/tc4tl_training_data_v1/tc4tl/docs/tc4tl_train_key.tsv', sep='\\t')"
   ]
  },
  {
   "cell_type": "markdown",
   "metadata": {},
   "source": [
    "## Helper functions"
   ]
  },
  {
   "cell_type": "code",
   "execution_count": 5,
   "metadata": {},
   "outputs": [],
   "source": [
    "def read_bluetooth_from_file(filepath):\n",
    "    \"\"\"Read bluetooth RSSI readings from file\"\"\"\n",
    "    return pd.DataFrame([ { 'Time' : float(line.split(',')[0]), 'Rssi' : float(line.split(',')[-1]) }\n",
    "              for line in open(filepath).read().split('\\n')\n",
    "              if 'Bluetooth' in line ])"
   ]
  },
  {
   "cell_type": "code",
   "execution_count": 46,
   "metadata": {},
   "outputs": [],
   "source": [
    "def chirp_sequence(df):\n",
    "    \"\"\"Return a sequence of values containing average RSSI reading of each chirp\"\"\"\n",
    "    chirps, rssi = [], []\n",
    "    for idx, t in df.iterrows():\n",
    "        if idx > 0 and t.Time - df.Time.loc[idx - 1] > 1:\n",
    "            chirps.append(np.array(rssi).mean())\n",
    "            rssi = []\n",
    "        else:\n",
    "            rssi.append(-t.Rssi)\n",
    "    return chirps + [np.array(rssi).mean(), ]"
   ]
  },
  {
   "cell_type": "code",
   "execution_count": 7,
   "metadata": {},
   "outputs": [
    {
     "data": {
      "text/html": [
       "<div>\n",
       "<style scoped>\n",
       "    .dataframe tbody tr th:only-of-type {\n",
       "        vertical-align: middle;\n",
       "    }\n",
       "\n",
       "    .dataframe tbody tr th {\n",
       "        vertical-align: top;\n",
       "    }\n",
       "\n",
       "    .dataframe thead th {\n",
       "        text-align: right;\n",
       "    }\n",
       "</style>\n",
       "<table border=\"1\" class=\"dataframe\">\n",
       "  <thead>\n",
       "    <tr style=\"text-align: right;\">\n",
       "      <th></th>\n",
       "      <th>fileid</th>\n",
       "      <th>phone_carriage_state</th>\n",
       "      <th>distance_in_meters</th>\n",
       "      <th>step_size_in_sec</th>\n",
       "      <th>coarse_grain</th>\n",
       "    </tr>\n",
       "  </thead>\n",
       "  <tbody>\n",
       "    <tr>\n",
       "      <th>0</th>\n",
       "      <td>aaadbuvp_tc4tl20.csv</td>\n",
       "      <td>pocket_hand</td>\n",
       "      <td>1.8</td>\n",
       "      <td>50</td>\n",
       "      <td>Y</td>\n",
       "    </tr>\n",
       "    <tr>\n",
       "      <th>1</th>\n",
       "      <td>aaamkcii_tc4tl20.csv</td>\n",
       "      <td>pocket_pocket</td>\n",
       "      <td>3.0</td>\n",
       "      <td>80</td>\n",
       "      <td>N</td>\n",
       "    </tr>\n",
       "    <tr>\n",
       "      <th>2</th>\n",
       "      <td>aabqtowt_tc4tl20.csv</td>\n",
       "      <td>hand_hand</td>\n",
       "      <td>1.2</td>\n",
       "      <td>60</td>\n",
       "      <td>N</td>\n",
       "    </tr>\n",
       "    <tr>\n",
       "      <th>3</th>\n",
       "      <td>aadkjwss_tc4tl20.csv</td>\n",
       "      <td>pocket_pocket</td>\n",
       "      <td>1.8</td>\n",
       "      <td>20</td>\n",
       "      <td>N</td>\n",
       "    </tr>\n",
       "    <tr>\n",
       "      <th>4</th>\n",
       "      <td>aafzrgzt_tc4tl20.csv</td>\n",
       "      <td>hand_hand</td>\n",
       "      <td>1.8</td>\n",
       "      <td>60</td>\n",
       "      <td>Y</td>\n",
       "    </tr>\n",
       "    <tr>\n",
       "      <th>...</th>\n",
       "      <td>...</td>\n",
       "      <td>...</td>\n",
       "      <td>...</td>\n",
       "      <td>...</td>\n",
       "      <td>...</td>\n",
       "    </tr>\n",
       "    <tr>\n",
       "      <th>15547</th>\n",
       "      <td>zzwcoemu_tc4tl20.csv</td>\n",
       "      <td>pocket_hand</td>\n",
       "      <td>1.2</td>\n",
       "      <td>80</td>\n",
       "      <td>N</td>\n",
       "    </tr>\n",
       "    <tr>\n",
       "      <th>15548</th>\n",
       "      <td>zzwoqxuc_tc4tl20.csv</td>\n",
       "      <td>hand_hand</td>\n",
       "      <td>4.5</td>\n",
       "      <td>70</td>\n",
       "      <td>N</td>\n",
       "    </tr>\n",
       "    <tr>\n",
       "      <th>15549</th>\n",
       "      <td>zzymwbbb_tc4tl20.csv</td>\n",
       "      <td>pocket_pocket</td>\n",
       "      <td>1.2</td>\n",
       "      <td>10</td>\n",
       "      <td>N</td>\n",
       "    </tr>\n",
       "    <tr>\n",
       "      <th>15550</th>\n",
       "      <td>zzzflikz_tc4tl20.csv</td>\n",
       "      <td>hand_hand</td>\n",
       "      <td>1.8</td>\n",
       "      <td>100</td>\n",
       "      <td>Y</td>\n",
       "    </tr>\n",
       "    <tr>\n",
       "      <th>15551</th>\n",
       "      <td>zzzjbxhg_tc4tl20.csv</td>\n",
       "      <td>hand_hand</td>\n",
       "      <td>1.2</td>\n",
       "      <td>120</td>\n",
       "      <td>N</td>\n",
       "    </tr>\n",
       "  </tbody>\n",
       "</table>\n",
       "<p>15552 rows × 5 columns</p>\n",
       "</div>"
      ],
      "text/plain": [
       "                     fileid phone_carriage_state  distance_in_meters  \\\n",
       "0      aaadbuvp_tc4tl20.csv          pocket_hand                 1.8   \n",
       "1      aaamkcii_tc4tl20.csv        pocket_pocket                 3.0   \n",
       "2      aabqtowt_tc4tl20.csv            hand_hand                 1.2   \n",
       "3      aadkjwss_tc4tl20.csv        pocket_pocket                 1.8   \n",
       "4      aafzrgzt_tc4tl20.csv            hand_hand                 1.8   \n",
       "...                     ...                  ...                 ...   \n",
       "15547  zzwcoemu_tc4tl20.csv          pocket_hand                 1.2   \n",
       "15548  zzwoqxuc_tc4tl20.csv            hand_hand                 4.5   \n",
       "15549  zzymwbbb_tc4tl20.csv        pocket_pocket                 1.2   \n",
       "15550  zzzflikz_tc4tl20.csv            hand_hand                 1.8   \n",
       "15551  zzzjbxhg_tc4tl20.csv            hand_hand                 1.2   \n",
       "\n",
       "       step_size_in_sec coarse_grain  \n",
       "0                    50            Y  \n",
       "1                    80            N  \n",
       "2                    60            N  \n",
       "3                    20            N  \n",
       "4                    60            Y  \n",
       "...                 ...          ...  \n",
       "15547                80            N  \n",
       "15548                70            N  \n",
       "15549                10            N  \n",
       "15550               100            Y  \n",
       "15551               120            N  \n",
       "\n",
       "[15552 rows x 5 columns]"
      ]
     },
     "execution_count": 7,
     "metadata": {},
     "output_type": "execute_result"
    }
   ],
   "source": [
    "train_key"
   ]
  },
  {
   "cell_type": "markdown",
   "metadata": {},
   "source": [
    "## Calculate Mean Chirp Sequences across training set"
   ]
  },
  {
   "cell_type": "code",
   "execution_count": 8,
   "metadata": {},
   "outputs": [
    {
     "name": "stderr",
     "output_type": "stream",
     "text": [
      "231it [00:35,  6.86it/s]/usr/local/lib/python3.6/dist-packages/ipykernel_launcher.py:5: RuntimeWarning: Mean of empty slice.\n",
      "  \"\"\"\n",
      "/usr/local/lib/python3.6/dist-packages/numpy/core/_methods.py:161: RuntimeWarning: invalid value encountered in double_scalars\n",
      "  ret = ret.dtype.type(ret / rcount)\n",
      "529it [01:22,  7.87it/s]/usr/local/lib/python3.6/dist-packages/ipykernel_launcher.py:9: RuntimeWarning: Mean of empty slice.\n",
      "  if __name__ == '__main__':\n",
      "5184it [12:33,  6.88it/s]\n"
     ]
    }
   ],
   "source": [
    "chirps = {}\n",
    "for idx, row in tqdm(train_key[train_key.coarse_grain == 'Y'].iterrows()):\n",
    "    df = read_bluetooth_from_file(os.path.join(train_data_dir, row.fileid))\n",
    "    chirps[row.fileid] = chirp_sequence(df)"
   ]
  },
  {
   "cell_type": "markdown",
   "metadata": {},
   "source": [
    "## Pad Chirp Sequence"
   ]
  },
  {
   "cell_type": "code",
   "execution_count": 13,
   "metadata": {},
   "outputs": [],
   "source": [
    "maxlen = max([len(v) for v in chirps.values()])"
   ]
  },
  {
   "cell_type": "code",
   "execution_count": 40,
   "metadata": {},
   "outputs": [
    {
     "name": "stderr",
     "output_type": "stream",
     "text": [
      "100%|██████████| 5184/5184 [00:06<00:00, 813.76it/s]\n"
     ]
    }
   ],
   "source": [
    "X, y = [], []\n",
    "for fileid, seq in tqdm(chirps.items()):\n",
    "    if np.isnan(seq).sum() == 0:\n",
    "        _y = train_key[train_key.fileid == fileid].distance_in_meters.item()\n",
    "        y.append(str(_y))\n",
    "        X.append(seq + [0]*(maxlen - len(seq)))"
   ]
  },
  {
   "cell_type": "code",
   "execution_count": 55,
   "metadata": {},
   "outputs": [
    {
     "data": {
      "text/plain": [
       "[<matplotlib.lines.Line2D at 0x7f5ef5b3cb38>]"
      ]
     },
     "execution_count": 55,
     "metadata": {},
     "output_type": "execute_result"
    },
    {
     "data": {
      "image/png": "[encoded data removed]",
      "text/plain": [
       "<Figure size 432x288 with 1 Axes>"
      ]
     },
     "metadata": {},
     "output_type": "display_data"
    }
   ],
   "source": [
    "plt.plot(X[0])"
   ]
  },
  {
   "cell_type": "code",
   "execution_count": 50,
   "metadata": {},
   "outputs": [
    {
     "data": {
      "text/plain": [
       "'1.8'"
      ]
     },
     "execution_count": 50,
     "metadata": {},
     "output_type": "execute_result"
    }
   ],
   "source": [
    "y[0]"
   ]
  },
  {
   "cell_type": "markdown",
   "metadata": {},
   "source": [
    "## Fit a Random Forest Classifier"
   ]
  },
  {
   "cell_type": "code",
   "execution_count": 41,
   "metadata": {},
   "outputs": [
    {
     "data": {
      "text/plain": [
       "RandomForestClassifier()"
      ]
     },
     "execution_count": 41,
     "metadata": {},
     "output_type": "execute_result"
    }
   ],
   "source": [
    "from sklearn.ensemble import RandomForestClassifier\n",
    "from sklearn.model_selection import train_test_split\n",
    "\n",
    "X_train, X_test, y_train, y_test = train_test_split(X, y, test_size=0.3, random_state=69)\n",
    "rf = RandomForestClassifier()\n",
    "rf.fit(X_train, y_train)"
   ]
  },
  {
   "cell_type": "code",
   "execution_count": 43,
   "metadata": {},
   "outputs": [],
   "source": [
    "ypred = rf.predict(X_test)"
   ]
  },
  {
   "cell_type": "code",
   "execution_count": 45,
   "metadata": {},
   "outputs": [
    {
     "name": "stdout",
     "output_type": "stream",
     "text": [
      "              precision    recall  f1-score   support\n",
      "\n",
      "         1.8       0.93      0.97      0.95       779\n",
      "         4.5       0.97      0.92      0.94       759\n",
      "\n",
      "    accuracy                           0.95      1538\n",
      "   macro avg       0.95      0.95      0.95      1538\n",
      "weighted avg       0.95      0.95      0.95      1538\n",
      "\n"
     ]
    }
   ],
   "source": [
    "from sklearn.metrics import classification_report\n",
    "\n",
    "\n",
    "print(classification_report(y_test, ypred))"
   ]
  },
  {
   "cell_type": "markdown",
   "metadata": {},
   "source": [
    "# Fine-Grained "
   ]
  },
  {
   "cell_type": "code",
   "execution_count": 58,
   "metadata": {},
   "outputs": [
    {
     "name": "stderr",
     "output_type": "stream",
     "text": [
      "545it [00:41, 15.12it/s]/usr/local/lib/python3.6/dist-packages/ipykernel_launcher.py:6: RuntimeWarning: Mean of empty slice.\n",
      "  \n",
      "/usr/local/lib/python3.6/dist-packages/numpy/core/_methods.py:161: RuntimeWarning: invalid value encountered in double_scalars\n",
      "  ret = ret.dtype.type(ret / rcount)\n",
      "/usr/local/lib/python3.6/dist-packages/ipykernel_launcher.py:10: RuntimeWarning: Mean of empty slice.\n",
      "  # Remove the CWD from sys.path while we load stuff.\n",
      "10368it [12:58, 13.32it/s]\n"
     ]
    }
   ],
   "source": [
    "chirps_fg = {}\n",
    "for idx, row in tqdm(train_key[train_key.coarse_grain == 'N'].iterrows()):\n",
    "    df = read_bluetooth_from_file(os.path.join(train_data_dir, row.fileid))\n",
    "    chirps_fg[row.fileid] = chirp_sequence(df)"
   ]
  },
  {
   "cell_type": "markdown",
   "metadata": {},
   "source": [
    "## Pad Chirp Sequence (FG)"
   ]
  },
  {
   "cell_type": "code",
   "execution_count": 59,
   "metadata": {},
   "outputs": [
    {
     "data": {
      "text/plain": [
       "25"
      ]
     },
     "execution_count": 59,
     "metadata": {},
     "output_type": "execute_result"
    }
   ],
   "source": [
    "maxlen = max([len(v) for v in chirps_fg.values()])\n",
    "maxlen"
   ]
  },
  {
   "cell_type": "code",
   "execution_count": 60,
   "metadata": {},
   "outputs": [
    {
     "name": "stderr",
     "output_type": "stream",
     "text": [
      "100%|██████████| 10368/10368 [00:12<00:00, 808.19it/s]\n"
     ]
    }
   ],
   "source": [
    "X_fg, y_fg = [], []\n",
    "for fileid, seq in tqdm(chirps_fg.items()):\n",
    "    if np.isnan(seq).sum() == 0:\n",
    "        _y = train_key[train_key.fileid == fileid].distance_in_meters.item()\n",
    "        y_fg.append(str(_y))\n",
    "        X_fg.append(seq + [0]*(maxlen - len(seq)))"
   ]
  },
  {
   "cell_type": "code",
   "execution_count": 70,
   "metadata": {},
   "outputs": [
    {
     "data": {
      "text/plain": [
       "[<matplotlib.lines.Line2D at 0x7f5eef222320>]"
      ]
     },
     "execution_count": 70,
     "metadata": {},
     "output_type": "execute_result"
    },
    {
     "data": {
      "image/png": "[encoded data removed]",
      "text/plain": [
       "<Figure size 432x288 with 1 Axes>"
      ]
     },
     "metadata": {},
     "output_type": "display_data"
    }
   ],
   "source": [
    "plt.plot(X[-2])"
   ]
  },
  {
   "cell_type": "code",
   "execution_count": 66,
   "metadata": {},
   "outputs": [
    {
     "data": {
      "text/plain": [
       "'4.5'"
      ]
     },
     "execution_count": 66,
     "metadata": {},
     "output_type": "execute_result"
    }
   ],
   "source": [
    "y[-2]"
   ]
  },
  {
   "cell_type": "markdown",
   "metadata": {},
   "source": [
    "## Evaluation"
   ]
  },
  {
   "cell_type": "code",
   "execution_count": 71,
   "metadata": {},
   "outputs": [
    {
     "data": {
      "text/plain": [
       "RandomForestClassifier()"
      ]
     },
     "execution_count": 71,
     "metadata": {},
     "output_type": "execute_result"
    }
   ],
   "source": [
    "X_train_fg, X_test_fg, y_train_fg, y_test_fg = train_test_split(X_fg, y_fg, test_size=0.3, random_state=69)\n",
    "rf_fg = RandomForestClassifier()\n",
    "rf_fg.fit(X_train_fg, y_train_fg)"
   ]
  },
  {
   "cell_type": "code",
   "execution_count": 72,
   "metadata": {},
   "outputs": [],
   "source": [
    "ypred_fg = rf_fg.predict(X_test_fg)"
   ]
  },
  {
   "cell_type": "code",
   "execution_count": 74,
   "metadata": {},
   "outputs": [
    {
     "name": "stdout",
     "output_type": "stream",
     "text": [
      "              precision    recall  f1-score   support\n",
      "\n",
      "         1.2       0.85      0.91      0.88       794\n",
      "         1.8       0.83      0.77      0.80       795\n",
      "         3.0       0.82      0.82      0.82       730\n",
      "         4.5       0.87      0.87      0.87       774\n",
      "\n",
      "    accuracy                           0.84      3093\n",
      "   macro avg       0.84      0.84      0.84      3093\n",
      "weighted avg       0.84      0.84      0.84      3093\n",
      "\n"
     ]
    }
   ],
   "source": [
    "print(classification_report(y_test_fg, ypred_fg))"
   ]
  }
 ],
 "metadata": {
  "kernelspec": {
   "display_name": "Python 3",
   "language": "python",
   "name": "python3"
  },
  "language_info": {
   "codemirror_mode": {
    "name": "ipython",
    "version": 3
   },
   "file_extension": ".py",
   "mimetype": "text/x-python",
   "name": "python",
   "nbconvert_exporter": "python",
   "pygments_lexer": "ipython3",
   "version": "3.6.9"
  }
 },
 "nbformat": 4,
 "nbformat_minor": 4
}
