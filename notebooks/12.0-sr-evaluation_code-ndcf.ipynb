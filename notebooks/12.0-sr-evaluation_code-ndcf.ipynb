{
 "cells": [
  {
   "cell_type": "code",
   "execution_count": 1,
   "metadata": {},
   "outputs": [],
   "source": [
    "%load_ext autoreload\n",
    "%autoreload 2"
   ]
  },
  {
   "cell_type": "code",
   "execution_count": 2,
   "metadata": {},
   "outputs": [
    {
     "name": "stdout",
     "output_type": "stream",
     "text": [
      "/home/suriya/dcu/Group-Project\n"
     ]
    }
   ],
   "source": [
    "cd .."
   ]
  },
  {
   "cell_type": "code",
   "execution_count": 21,
   "metadata": {},
   "outputs": [
    {
     "name": "stderr",
     "output_type": "stream",
     "text": [
      "/usr/lib/python3.6/importlib/_bootstrap.py:219: RuntimeWarning: numpy.ufunc size changed, may indicate binary incompatibility. Expected 192 from C header, got 216 from PyObject\n",
      "  return f(*args, **kwds)\n"
     ]
    }
   ],
   "source": [
    "from src.ndcf import score_me, validate_me\n",
    "import pandas as pd"
   ]
  },
  {
   "cell_type": "markdown",
   "metadata": {},
   "source": [
    "## Make a prediction"
   ]
  },
  {
   "cell_type": "code",
   "execution_count": 34,
   "metadata": {},
   "outputs": [],
   "source": [
    "from src.featutils import aggregate_features_from_folder\n",
    "from src.features.rssi_distance import extract_feature2, postproc_feature_dicts"
   ]
  },
  {
   "cell_type": "code",
   "execution_count": 73,
   "metadata": {},
   "outputs": [],
   "source": [
    "dev_dir = \"data/tc4tl_data_v5/tc4tl/data/dev/\"\n",
    "test_dir = \"data/tc4tl_data_v5/tc4tl/data/test/\"\n",
    "dev_key = pd.read_csv(\"data/tc4tl_data_v5/tc4tl/docs/tc4tl_dev_key.tsv\", sep=\"\\t\")\n",
    "test_key = pd.read_csv(\"data/tc4tl_test_key/tc4tl/docs/tc4tl_test_key.tsv\", sep=\"\\t\")"
   ]
  },
  {
   "cell_type": "code",
   "execution_count": 82,
   "metadata": {},
   "outputs": [
    {
     "name": "stderr",
     "output_type": "stream",
     "text": [
      "100%|██████████| 935/935 [00:00<00:00, 1248.27it/s]\n",
      "100%|██████████| 8423/8423 [00:06<00:00, 1299.99it/s]\n"
     ]
    }
   ],
   "source": [
    "devset, _ = aggregate_features_from_folder(dev_dir, dev_key, extract_feature2, postproc_feature_dicts, verbose=True,\n",
    "                                          tunables={'N' : 0.3315, 'TX' : -63.982}, testing=False)\n",
    "testset, _ = aggregate_features_from_folder(test_dir, test_key, extract_feature2, postproc_feature_dicts, verbose=True,\n",
    "                                          tunables={'N' : 0.3315, 'TX' : -63.982}, testing=False)"
   ]
  },
  {
   "cell_type": "markdown",
   "metadata": {},
   "source": [
    "### Evaluation on Dev Set"
   ]
  },
  {
   "cell_type": "code",
   "execution_count": 83,
   "metadata": {},
   "outputs": [
    {
     "data": {
      "text/plain": [
       "RandomForestClassifier()"
      ]
     },
     "execution_count": 83,
     "metadata": {},
     "output_type": "execute_result"
    }
   ],
   "source": [
    "from sklearn.ensemble import RandomForestClassifier\n",
    "\n",
    "devset['CoarseGrain'] = devset['CoarseGrain'].replace({'Y' : 0, 'N' : 1})\n",
    "X = devset[['PredictedDistance', 'CoarseGrain']]\n",
    "y = devset.Distance\n",
    "rf = RandomForestClassifier()\n",
    "rf.fit(X, y)\n"
   ]
  },
  {
   "cell_type": "code",
   "execution_count": 84,
   "metadata": {},
   "outputs": [],
   "source": [
    "ypred = rf.predict(X)\n",
    "sysout = pd.DataFrame({\n",
    "        'fileid': devset['fileid'],\n",
    "        'distance': ypred\n",
    "    })"
   ]
  },
  {
   "cell_type": "code",
   "execution_count": 85,
   "metadata": {},
   "outputs": [
    {
     "data": {
      "text/html": [
       "<div>\n",
       "<style scoped>\n",
       "    .dataframe tbody tr th:only-of-type {\n",
       "        vertical-align: middle;\n",
       "    }\n",
       "\n",
       "    .dataframe tbody tr th {\n",
       "        vertical-align: top;\n",
       "    }\n",
       "\n",
       "    .dataframe thead th {\n",
       "        text-align: right;\n",
       "    }\n",
       "</style>\n",
       "<table border=\"1\" class=\"dataframe\">\n",
       "  <thead>\n",
       "    <tr style=\"text-align: right;\">\n",
       "      <th></th>\n",
       "      <th>Subset</th>\n",
       "      <th>Distance</th>\n",
       "      <th>P_miss</th>\n",
       "      <th>P_fa</th>\n",
       "      <th>nDCF</th>\n",
       "    </tr>\n",
       "  </thead>\n",
       "  <tbody>\n",
       "    <tr>\n",
       "      <th>0</th>\n",
       "      <td>fine_grain</td>\n",
       "      <td>1.2</td>\n",
       "      <td>0.006536</td>\n",
       "      <td>0.0</td>\n",
       "      <td>0.006536</td>\n",
       "    </tr>\n",
       "    <tr>\n",
       "      <th>1</th>\n",
       "      <td>fine_grain</td>\n",
       "      <td>1.8</td>\n",
       "      <td>0.000000</td>\n",
       "      <td>0.0</td>\n",
       "      <td>0.000000</td>\n",
       "    </tr>\n",
       "    <tr>\n",
       "      <th>2</th>\n",
       "      <td>fine_grain</td>\n",
       "      <td>3.0</td>\n",
       "      <td>0.000000</td>\n",
       "      <td>0.0</td>\n",
       "      <td>0.000000</td>\n",
       "    </tr>\n",
       "    <tr>\n",
       "      <th>3</th>\n",
       "      <td>coarse_grain</td>\n",
       "      <td>1.8</td>\n",
       "      <td>0.000000</td>\n",
       "      <td>0.0</td>\n",
       "      <td>0.000000</td>\n",
       "    </tr>\n",
       "  </tbody>\n",
       "</table>\n",
       "</div>"
      ],
      "text/plain": [
       "         Subset  Distance    P_miss  P_fa      nDCF\n",
       "0    fine_grain       1.2  0.006536   0.0  0.006536\n",
       "1    fine_grain       1.8  0.000000   0.0  0.000000\n",
       "2    fine_grain       3.0  0.000000   0.0  0.000000\n",
       "3  coarse_grain       1.8  0.000000   0.0  0.000000"
      ]
     },
     "execution_count": 85,
     "metadata": {},
     "output_type": "execute_result"
    }
   ],
   "source": [
    "from src.ndcf import compute_ndcf\n",
    "\n",
    "compute_ndcf(sysout)"
   ]
  },
  {
   "cell_type": "markdown",
   "metadata": {},
   "source": [
    "### Evaluation on test set"
   ]
  },
  {
   "cell_type": "code",
   "execution_count": 86,
   "metadata": {},
   "outputs": [],
   "source": [
    "testset['CoarseGrain'] = testset['CoarseGrain'].replace({'Y' : 0, 'N' : 1})\n",
    "X = testset[['PredictedDistance', 'CoarseGrain']]\n",
    "y = testset.Distance\n",
    "rf = RandomForestClassifier()\n",
    "rf.fit(X, y)\n",
    "ypred = rf.predict(X)\n",
    "sysout = pd.DataFrame({\n",
    "        'fileid': testset['fileid'],\n",
    "        'distance': ypred\n",
    "    })"
   ]
  },
  {
   "cell_type": "code",
   "execution_count": 87,
   "metadata": {},
   "outputs": [
    {
     "data": {
      "text/html": [
       "<div>\n",
       "<style scoped>\n",
       "    .dataframe tbody tr th:only-of-type {\n",
       "        vertical-align: middle;\n",
       "    }\n",
       "\n",
       "    .dataframe tbody tr th {\n",
       "        vertical-align: top;\n",
       "    }\n",
       "\n",
       "    .dataframe thead th {\n",
       "        text-align: right;\n",
       "    }\n",
       "</style>\n",
       "<table border=\"1\" class=\"dataframe\">\n",
       "  <thead>\n",
       "    <tr style=\"text-align: right;\">\n",
       "      <th></th>\n",
       "      <th>Subset</th>\n",
       "      <th>Distance</th>\n",
       "      <th>P_miss</th>\n",
       "      <th>P_fa</th>\n",
       "      <th>nDCF</th>\n",
       "    </tr>\n",
       "  </thead>\n",
       "  <tbody>\n",
       "    <tr>\n",
       "      <th>0</th>\n",
       "      <td>fine_grain</td>\n",
       "      <td>1.2</td>\n",
       "      <td>0.001421</td>\n",
       "      <td>0.001908</td>\n",
       "      <td>0.003330</td>\n",
       "    </tr>\n",
       "    <tr>\n",
       "      <th>1</th>\n",
       "      <td>fine_grain</td>\n",
       "      <td>1.8</td>\n",
       "      <td>0.000355</td>\n",
       "      <td>0.002514</td>\n",
       "      <td>0.002870</td>\n",
       "    </tr>\n",
       "    <tr>\n",
       "      <th>2</th>\n",
       "      <td>fine_grain</td>\n",
       "      <td>3.0</td>\n",
       "      <td>0.000238</td>\n",
       "      <td>0.001430</td>\n",
       "      <td>0.001668</td>\n",
       "    </tr>\n",
       "    <tr>\n",
       "      <th>3</th>\n",
       "      <td>coarse_grain</td>\n",
       "      <td>1.8</td>\n",
       "      <td>0.001405</td>\n",
       "      <td>0.000000</td>\n",
       "      <td>0.001405</td>\n",
       "    </tr>\n",
       "  </tbody>\n",
       "</table>\n",
       "</div>"
      ],
      "text/plain": [
       "         Subset  Distance    P_miss      P_fa      nDCF\n",
       "0    fine_grain       1.2  0.001421  0.001908  0.003330\n",
       "1    fine_grain       1.8  0.000355  0.002514  0.002870\n",
       "2    fine_grain       3.0  0.000238  0.001430  0.001668\n",
       "3  coarse_grain       1.8  0.001405  0.000000  0.001405"
      ]
     },
     "execution_count": 87,
     "metadata": {},
     "output_type": "execute_result"
    }
   ],
   "source": [
    "compute_ndcf(sysout)"
   ]
  }
 ],
 "metadata": {
  "kernelspec": {
   "display_name": "Python 3",
   "language": "python",
   "name": "python3"
  },
  "language_info": {
   "codemirror_mode": {
    "name": "ipython",
    "version": 3
   },
   "file_extension": ".py",
   "mimetype": "text/x-python",
   "name": "python",
   "nbconvert_exporter": "python",
   "pygments_lexer": "ipython3",
   "version": "3.6.9"
  }
 },
 "nbformat": 4,
 "nbformat_minor": 4
}
