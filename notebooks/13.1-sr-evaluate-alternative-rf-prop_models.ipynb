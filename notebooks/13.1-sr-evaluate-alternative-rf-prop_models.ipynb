{
 "cells": [
  {
   "cell_type": "code",
   "execution_count": 1,
   "metadata": {},
   "outputs": [],
   "source": [
    "%load_ext autoreload\n",
    "%autoreload 2"
   ]
  },
  {
   "cell_type": "code",
   "execution_count": 2,
   "metadata": {},
   "outputs": [
    {
     "name": "stdout",
     "output_type": "stream",
     "text": [
      "/home/suriya/dcu/Group-Project\n"
     ]
    }
   ],
   "source": [
    "cd .."
   ]
  },
  {
   "cell_type": "code",
   "execution_count": 3,
   "metadata": {},
   "outputs": [],
   "source": [
    "import numpy as np\n",
    "import pandas as pd\n",
    "import matplotlib.pyplot as plt\n",
    "plt.style.use('ggplot')"
   ]
  },
  {
   "cell_type": "code",
   "execution_count": 4,
   "metadata": {},
   "outputs": [],
   "source": [
    "from src.featutils import aggregate_features_from_folder\n",
    "from src.features import radioprop\n",
    "\n",
    "train_dir = \"data/tc4tl_training_data_v1/tc4tl/data/train/\"\n",
    "train_key = pd.read_csv(\"data/tc4tl_training_data_v1/tc4tl/docs/tc4tl_train_key.tsv\", sep=\"\\t\")\n",
    "test_dir = \"data/tc4tl_data_v5/tc4tl/data/test/\"\n",
    "test_key = pd.read_csv(\"data/tc4tl_test_key/tc4tl/docs/tc4tl_test_key.tsv\", sep=\"\\t\")\n",
    "dev_dir = \"data/tc4tl_data_v5/tc4tl/data/dev/\"\n",
    "dev_key = pd.read_csv(\"data/tc4tl_data_v5/tc4tl/docs/tc4tl_dev_key.tsv\", sep=\"\\t\")"
   ]
  },
  {
   "cell_type": "markdown",
   "metadata": {},
   "source": [
    "### Hyperparameters"
   ]
  },
  {
   "cell_type": "code",
   "execution_count": 277,
   "metadata": {},
   "outputs": [],
   "source": [
    "hyperparams = {\n",
    "    \"LinearApprox\": {\"TX\": -61.02, \"N\": 2.187},\n",
    "    \"Friis\": dict(Pt_dBm=0., Gt_dBi=1., Gr_dBi=1., f=2.4e9, L=1., n=2.),\n",
    "    \"LogNormal\": dict(Pt_dBm=-20., Gt_dBi=1., Gr_dBi=1.,\n",
    "                      f=2.4e9, d0=1., L=1., sigma=2., n=2)\n",
    "}"
   ]
  },
  {
   "cell_type": "code",
   "execution_count": 325,
   "metadata": {},
   "outputs": [
    {
     "name": "stderr",
     "output_type": "stream",
     "text": [
      "100%|██████████| 1000/1000 [00:01<00:00, 882.56it/s]\n",
      "Post-processing: bhimjuav_tc4tl20.csv: 100%|██████████| 1000/1000 [00:01<00:00, 736.40it/s]\n"
     ]
    }
   ],
   "source": [
    "trainset, pipe = aggregate_features_from_folder(train_dir, train_key, feat_fn=radioprop.extract_features,\n",
    "                               postproc_fn=radioprop.postproc_feature_dicts, verbose=True, testing=True,\n",
    "                               tunables=hyperparams)"
   ]
  },
  {
   "cell_type": "code",
   "execution_count": 326,
   "metadata": {},
   "outputs": [
    {
     "data": {
      "text/html": [
       "<div>\n",
       "<style scoped>\n",
       "    .dataframe tbody tr th:only-of-type {\n",
       "        vertical-align: middle;\n",
       "    }\n",
       "\n",
       "    .dataframe tbody tr th {\n",
       "        vertical-align: top;\n",
       "    }\n",
       "\n",
       "    .dataframe thead th {\n",
       "        text-align: right;\n",
       "    }\n",
       "</style>\n",
       "<table border=\"1\" class=\"dataframe\">\n",
       "  <thead>\n",
       "    <tr style=\"text-align: right;\">\n",
       "      <th></th>\n",
       "      <th>LinearApprox:Hist_0.15</th>\n",
       "      <th>LinearApprox:Hist_0.25</th>\n",
       "      <th>LinearApprox:Hist_0.35</th>\n",
       "      <th>LinearApprox:Hist_0.45</th>\n",
       "      <th>LinearApprox:Hist_0.55</th>\n",
       "      <th>LinearApprox:Hist_0.65</th>\n",
       "      <th>LinearApprox:Hist_0.75</th>\n",
       "      <th>LinearApprox:Hist_0.85</th>\n",
       "      <th>LinearApprox:Hist_0.95</th>\n",
       "      <th>LinearApprox:Hist_1.05</th>\n",
       "      <th>...</th>\n",
       "      <th>LogNormal:Hist_4.25</th>\n",
       "      <th>LogNormal:Hist_4.35</th>\n",
       "      <th>LogNormal:Hist_4.45</th>\n",
       "      <th>LogNormal:Hist_4.55</th>\n",
       "      <th>LogNormal:Hist_4.65</th>\n",
       "      <th>LogNormal:Hist_4.75</th>\n",
       "      <th>LogNormal:Hist_4.85</th>\n",
       "      <th>LogNormal:Hist_4.95</th>\n",
       "      <th>CoarseGrain</th>\n",
       "      <th>DistanceFloat</th>\n",
       "    </tr>\n",
       "  </thead>\n",
       "  <tbody>\n",
       "    <tr>\n",
       "      <th>0</th>\n",
       "      <td>0.000000</td>\n",
       "      <td>0.000000</td>\n",
       "      <td>0.008826</td>\n",
       "      <td>0.009943</td>\n",
       "      <td>0.056430</td>\n",
       "      <td>0.079710</td>\n",
       "      <td>0.232493</td>\n",
       "      <td>0.110692</td>\n",
       "      <td>0.099792</td>\n",
       "      <td>0.0</td>\n",
       "      <td>...</td>\n",
       "      <td>0.0</td>\n",
       "      <td>0.0</td>\n",
       "      <td>0.225989</td>\n",
       "      <td>0.0</td>\n",
       "      <td>0.0</td>\n",
       "      <td>0.0</td>\n",
       "      <td>0.0</td>\n",
       "      <td>0.173913</td>\n",
       "      <td>1.0</td>\n",
       "      <td>3.0</td>\n",
       "    </tr>\n",
       "    <tr>\n",
       "      <th>1</th>\n",
       "      <td>0.000000</td>\n",
       "      <td>0.000000</td>\n",
       "      <td>0.092674</td>\n",
       "      <td>0.281250</td>\n",
       "      <td>0.309711</td>\n",
       "      <td>0.222222</td>\n",
       "      <td>0.322129</td>\n",
       "      <td>0.425157</td>\n",
       "      <td>0.162162</td>\n",
       "      <td>0.0</td>\n",
       "      <td>...</td>\n",
       "      <td>0.0</td>\n",
       "      <td>0.0</td>\n",
       "      <td>0.127119</td>\n",
       "      <td>0.0</td>\n",
       "      <td>0.0</td>\n",
       "      <td>0.0</td>\n",
       "      <td>0.0</td>\n",
       "      <td>0.096273</td>\n",
       "      <td>1.0</td>\n",
       "      <td>1.8</td>\n",
       "    </tr>\n",
       "    <tr>\n",
       "      <th>2</th>\n",
       "      <td>0.036072</td>\n",
       "      <td>0.324037</td>\n",
       "      <td>0.142983</td>\n",
       "      <td>0.140625</td>\n",
       "      <td>0.144357</td>\n",
       "      <td>0.096618</td>\n",
       "      <td>0.089636</td>\n",
       "      <td>0.064151</td>\n",
       "      <td>0.089397</td>\n",
       "      <td>0.0</td>\n",
       "      <td>...</td>\n",
       "      <td>0.0</td>\n",
       "      <td>0.0</td>\n",
       "      <td>0.039548</td>\n",
       "      <td>0.0</td>\n",
       "      <td>0.0</td>\n",
       "      <td>0.0</td>\n",
       "      <td>0.0</td>\n",
       "      <td>0.018634</td>\n",
       "      <td>0.0</td>\n",
       "      <td>1.8</td>\n",
       "    </tr>\n",
       "    <tr>\n",
       "      <th>3</th>\n",
       "      <td>0.000000</td>\n",
       "      <td>0.000000</td>\n",
       "      <td>0.000000</td>\n",
       "      <td>0.000000</td>\n",
       "      <td>0.082677</td>\n",
       "      <td>0.147343</td>\n",
       "      <td>0.221289</td>\n",
       "      <td>0.100629</td>\n",
       "      <td>0.072765</td>\n",
       "      <td>0.0</td>\n",
       "      <td>...</td>\n",
       "      <td>0.0</td>\n",
       "      <td>0.0</td>\n",
       "      <td>0.014124</td>\n",
       "      <td>0.0</td>\n",
       "      <td>0.0</td>\n",
       "      <td>0.0</td>\n",
       "      <td>0.0</td>\n",
       "      <td>0.003106</td>\n",
       "      <td>1.0</td>\n",
       "      <td>3.0</td>\n",
       "    </tr>\n",
       "    <tr>\n",
       "      <th>4</th>\n",
       "      <td>0.000000</td>\n",
       "      <td>0.189907</td>\n",
       "      <td>0.310680</td>\n",
       "      <td>0.223011</td>\n",
       "      <td>0.165354</td>\n",
       "      <td>0.096618</td>\n",
       "      <td>0.210084</td>\n",
       "      <td>0.118239</td>\n",
       "      <td>0.045738</td>\n",
       "      <td>0.0</td>\n",
       "      <td>...</td>\n",
       "      <td>0.0</td>\n",
       "      <td>0.0</td>\n",
       "      <td>0.000000</td>\n",
       "      <td>0.0</td>\n",
       "      <td>0.0</td>\n",
       "      <td>0.0</td>\n",
       "      <td>0.0</td>\n",
       "      <td>0.000000</td>\n",
       "      <td>1.0</td>\n",
       "      <td>1.2</td>\n",
       "    </tr>\n",
       "    <tr>\n",
       "      <th>...</th>\n",
       "      <td>...</td>\n",
       "      <td>...</td>\n",
       "      <td>...</td>\n",
       "      <td>...</td>\n",
       "      <td>...</td>\n",
       "      <td>...</td>\n",
       "      <td>...</td>\n",
       "      <td>...</td>\n",
       "      <td>...</td>\n",
       "      <td>...</td>\n",
       "      <td>...</td>\n",
       "      <td>...</td>\n",
       "      <td>...</td>\n",
       "      <td>...</td>\n",
       "      <td>...</td>\n",
       "      <td>...</td>\n",
       "      <td>...</td>\n",
       "      <td>...</td>\n",
       "      <td>...</td>\n",
       "      <td>...</td>\n",
       "      <td>...</td>\n",
       "    </tr>\n",
       "    <tr>\n",
       "      <th>995</th>\n",
       "      <td>0.977956</td>\n",
       "      <td>0.515272</td>\n",
       "      <td>0.257723</td>\n",
       "      <td>0.711648</td>\n",
       "      <td>0.429134</td>\n",
       "      <td>0.652174</td>\n",
       "      <td>1.000000</td>\n",
       "      <td>0.538365</td>\n",
       "      <td>0.347193</td>\n",
       "      <td>0.0</td>\n",
       "      <td>...</td>\n",
       "      <td>0.0</td>\n",
       "      <td>0.0</td>\n",
       "      <td>0.155367</td>\n",
       "      <td>0.0</td>\n",
       "      <td>0.0</td>\n",
       "      <td>0.0</td>\n",
       "      <td>0.0</td>\n",
       "      <td>0.136646</td>\n",
       "      <td>0.0</td>\n",
       "      <td>1.8</td>\n",
       "    </tr>\n",
       "    <tr>\n",
       "      <th>996</th>\n",
       "      <td>0.000000</td>\n",
       "      <td>0.000000</td>\n",
       "      <td>0.000000</td>\n",
       "      <td>0.000000</td>\n",
       "      <td>0.059055</td>\n",
       "      <td>0.019324</td>\n",
       "      <td>0.131653</td>\n",
       "      <td>0.035220</td>\n",
       "      <td>0.014553</td>\n",
       "      <td>0.0</td>\n",
       "      <td>...</td>\n",
       "      <td>0.0</td>\n",
       "      <td>0.0</td>\n",
       "      <td>0.121469</td>\n",
       "      <td>0.0</td>\n",
       "      <td>0.0</td>\n",
       "      <td>0.0</td>\n",
       "      <td>0.0</td>\n",
       "      <td>0.108696</td>\n",
       "      <td>1.0</td>\n",
       "      <td>4.5</td>\n",
       "    </tr>\n",
       "    <tr>\n",
       "      <th>997</th>\n",
       "      <td>0.000000</td>\n",
       "      <td>0.000000</td>\n",
       "      <td>0.023831</td>\n",
       "      <td>0.116477</td>\n",
       "      <td>0.082677</td>\n",
       "      <td>0.043478</td>\n",
       "      <td>0.145658</td>\n",
       "      <td>0.296855</td>\n",
       "      <td>0.234927</td>\n",
       "      <td>0.0</td>\n",
       "      <td>...</td>\n",
       "      <td>0.0</td>\n",
       "      <td>0.0</td>\n",
       "      <td>0.016949</td>\n",
       "      <td>0.0</td>\n",
       "      <td>0.0</td>\n",
       "      <td>0.0</td>\n",
       "      <td>0.0</td>\n",
       "      <td>0.018634</td>\n",
       "      <td>0.0</td>\n",
       "      <td>1.8</td>\n",
       "    </tr>\n",
       "    <tr>\n",
       "      <th>998</th>\n",
       "      <td>0.004008</td>\n",
       "      <td>0.333333</td>\n",
       "      <td>0.179170</td>\n",
       "      <td>0.096591</td>\n",
       "      <td>0.132546</td>\n",
       "      <td>0.115942</td>\n",
       "      <td>0.148459</td>\n",
       "      <td>0.177358</td>\n",
       "      <td>0.189189</td>\n",
       "      <td>0.0</td>\n",
       "      <td>...</td>\n",
       "      <td>0.0</td>\n",
       "      <td>0.0</td>\n",
       "      <td>0.045198</td>\n",
       "      <td>0.0</td>\n",
       "      <td>0.0</td>\n",
       "      <td>0.0</td>\n",
       "      <td>0.0</td>\n",
       "      <td>0.018634</td>\n",
       "      <td>1.0</td>\n",
       "      <td>1.2</td>\n",
       "    </tr>\n",
       "    <tr>\n",
       "      <th>999</th>\n",
       "      <td>0.000000</td>\n",
       "      <td>0.000000</td>\n",
       "      <td>0.000000</td>\n",
       "      <td>0.039773</td>\n",
       "      <td>0.045932</td>\n",
       "      <td>0.033816</td>\n",
       "      <td>0.109244</td>\n",
       "      <td>0.072956</td>\n",
       "      <td>0.018711</td>\n",
       "      <td>0.0</td>\n",
       "      <td>...</td>\n",
       "      <td>0.0</td>\n",
       "      <td>0.0</td>\n",
       "      <td>0.104520</td>\n",
       "      <td>0.0</td>\n",
       "      <td>0.0</td>\n",
       "      <td>0.0</td>\n",
       "      <td>0.0</td>\n",
       "      <td>0.177019</td>\n",
       "      <td>0.0</td>\n",
       "      <td>4.5</td>\n",
       "    </tr>\n",
       "  </tbody>\n",
       "</table>\n",
       "<p>1000 rows × 149 columns</p>\n",
       "</div>"
      ],
      "text/plain": [
       "     LinearApprox:Hist_0.15  LinearApprox:Hist_0.25  LinearApprox:Hist_0.35  \\\n",
       "0                  0.000000                0.000000                0.008826   \n",
       "1                  0.000000                0.000000                0.092674   \n",
       "2                  0.036072                0.324037                0.142983   \n",
       "3                  0.000000                0.000000                0.000000   \n",
       "4                  0.000000                0.189907                0.310680   \n",
       "..                      ...                     ...                     ...   \n",
       "995                0.977956                0.515272                0.257723   \n",
       "996                0.000000                0.000000                0.000000   \n",
       "997                0.000000                0.000000                0.023831   \n",
       "998                0.004008                0.333333                0.179170   \n",
       "999                0.000000                0.000000                0.000000   \n",
       "\n",
       "     LinearApprox:Hist_0.45  LinearApprox:Hist_0.55  LinearApprox:Hist_0.65  \\\n",
       "0                  0.009943                0.056430                0.079710   \n",
       "1                  0.281250                0.309711                0.222222   \n",
       "2                  0.140625                0.144357                0.096618   \n",
       "3                  0.000000                0.082677                0.147343   \n",
       "4                  0.223011                0.165354                0.096618   \n",
       "..                      ...                     ...                     ...   \n",
       "995                0.711648                0.429134                0.652174   \n",
       "996                0.000000                0.059055                0.019324   \n",
       "997                0.116477                0.082677                0.043478   \n",
       "998                0.096591                0.132546                0.115942   \n",
       "999                0.039773                0.045932                0.033816   \n",
       "\n",
       "     LinearApprox:Hist_0.75  LinearApprox:Hist_0.85  LinearApprox:Hist_0.95  \\\n",
       "0                  0.232493                0.110692                0.099792   \n",
       "1                  0.322129                0.425157                0.162162   \n",
       "2                  0.089636                0.064151                0.089397   \n",
       "3                  0.221289                0.100629                0.072765   \n",
       "4                  0.210084                0.118239                0.045738   \n",
       "..                      ...                     ...                     ...   \n",
       "995                1.000000                0.538365                0.347193   \n",
       "996                0.131653                0.035220                0.014553   \n",
       "997                0.145658                0.296855                0.234927   \n",
       "998                0.148459                0.177358                0.189189   \n",
       "999                0.109244                0.072956                0.018711   \n",
       "\n",
       "     LinearApprox:Hist_1.05  ...  LogNormal:Hist_4.25  LogNormal:Hist_4.35  \\\n",
       "0                       0.0  ...                  0.0                  0.0   \n",
       "1                       0.0  ...                  0.0                  0.0   \n",
       "2                       0.0  ...                  0.0                  0.0   \n",
       "3                       0.0  ...                  0.0                  0.0   \n",
       "4                       0.0  ...                  0.0                  0.0   \n",
       "..                      ...  ...                  ...                  ...   \n",
       "995                     0.0  ...                  0.0                  0.0   \n",
       "996                     0.0  ...                  0.0                  0.0   \n",
       "997                     0.0  ...                  0.0                  0.0   \n",
       "998                     0.0  ...                  0.0                  0.0   \n",
       "999                     0.0  ...                  0.0                  0.0   \n",
       "\n",
       "     LogNormal:Hist_4.45  LogNormal:Hist_4.55  LogNormal:Hist_4.65  \\\n",
       "0               0.225989                  0.0                  0.0   \n",
       "1               0.127119                  0.0                  0.0   \n",
       "2               0.039548                  0.0                  0.0   \n",
       "3               0.014124                  0.0                  0.0   \n",
       "4               0.000000                  0.0                  0.0   \n",
       "..                   ...                  ...                  ...   \n",
       "995             0.155367                  0.0                  0.0   \n",
       "996             0.121469                  0.0                  0.0   \n",
       "997             0.016949                  0.0                  0.0   \n",
       "998             0.045198                  0.0                  0.0   \n",
       "999             0.104520                  0.0                  0.0   \n",
       "\n",
       "     LogNormal:Hist_4.75  LogNormal:Hist_4.85  LogNormal:Hist_4.95  \\\n",
       "0                    0.0                  0.0             0.173913   \n",
       "1                    0.0                  0.0             0.096273   \n",
       "2                    0.0                  0.0             0.018634   \n",
       "3                    0.0                  0.0             0.003106   \n",
       "4                    0.0                  0.0             0.000000   \n",
       "..                   ...                  ...                  ...   \n",
       "995                  0.0                  0.0             0.136646   \n",
       "996                  0.0                  0.0             0.108696   \n",
       "997                  0.0                  0.0             0.018634   \n",
       "998                  0.0                  0.0             0.018634   \n",
       "999                  0.0                  0.0             0.177019   \n",
       "\n",
       "     CoarseGrain  DistanceFloat  \n",
       "0            1.0            3.0  \n",
       "1            1.0            1.8  \n",
       "2            0.0            1.8  \n",
       "3            1.0            3.0  \n",
       "4            1.0            1.2  \n",
       "..           ...            ...  \n",
       "995          0.0            1.8  \n",
       "996          1.0            4.5  \n",
       "997          0.0            1.8  \n",
       "998          1.0            1.2  \n",
       "999          0.0            4.5  \n",
       "\n",
       "[1000 rows x 149 columns]"
      ]
     },
     "execution_count": 326,
     "metadata": {},
     "output_type": "execute_result"
    }
   ],
   "source": [
    "trainset"
   ]
  },
  {
   "cell_type": "code",
   "execution_count": 327,
   "metadata": {},
   "outputs": [
    {
     "data": {
      "text/plain": [
       "array([[ 0.00000000e+00,  0.00000000e+00,  1.00000000e+01, ...,\n",
       "         5.60000000e+01,  1.00000000e+00,  1.11000000e+01],\n",
       "       [ 0.00000000e+00,  0.00000000e+00,  1.05000000e+02, ...,\n",
       "         3.10000000e+01,  1.00000000e+00,  7.14000000e+00],\n",
       "       [ 1.80000000e+01,  2.44000000e+02,  1.62000000e+02, ...,\n",
       "         6.00000000e+00,  0.00000000e+00,  7.14000000e+00],\n",
       "       ...,\n",
       "       [ 0.00000000e+00,  0.00000000e+00,  2.70000000e+01, ...,\n",
       "         6.00000000e+00,  0.00000000e+00,  7.14000000e+00],\n",
       "       [ 2.00000000e+00,  2.51000000e+02,  2.03000000e+02, ...,\n",
       "         6.00000000e+00,  1.00000000e+00,  5.16000000e+00],\n",
       "       [ 0.00000000e+00,  0.00000000e+00, -1.77635684e-15, ...,\n",
       "         5.70000000e+01,  0.00000000e+00,  1.60500000e+01]])"
      ]
     },
     "execution_count": 327,
     "metadata": {},
     "output_type": "execute_result"
    }
   ],
   "source": [
    "pipe.inverse_transform(trainset)"
   ]
  },
  {
   "cell_type": "code",
   "execution_count": 328,
   "metadata": {},
   "outputs": [
    {
     "data": {
      "text/plain": [
       "0.8490055909090908"
      ]
     },
     "execution_count": 328,
     "metadata": {},
     "output_type": "execute_result"
    }
   ],
   "source": [
    "from sklearn.model_selection import train_test_split\n",
    "from sklearn.ensemble import RandomForestRegressor\n",
    "from sklearn.metrics import mean_squared_error\n",
    "\n",
    "feat_cols = [col for col in trainset.columns if col != 'DistanceFloat' ]\n",
    "X, y = trainset[feat_cols], trainset['DistanceFloat']\n",
    "X_train, X_test, y_train, y_test = train_test_split(X, y, test_size=0.33)\n",
    "regr = RandomForestRegressor()\n",
    "\n",
    "regr.fit(X_train, y_train.values)\n",
    "ypred = regr.predict(X_test)\n",
    "mean_squared_error(y_test, ypred)"
   ]
  },
  {
   "cell_type": "code",
   "execution_count": 329,
   "metadata": {},
   "outputs": [
    {
     "name": "stderr",
     "output_type": "stream",
     "text": [
      "100%|██████████| 935/935 [00:01<00:00, 888.69it/s]\n",
      "Post-processing: zzxttrqc_tc4tl20.csv: 100%|██████████| 935/935 [00:01<00:00, 727.11it/s]\n"
     ]
    }
   ],
   "source": [
    "devset, _ = aggregate_features_from_folder(dev_dir, dev_key, feat_fn=radioprop.extract_features, pipe=pipe,\n",
    "                               postproc_fn=radioprop.postproc_feature_dicts, verbose=True, testing=False,\n",
    "                               tunables=hyperparams)"
   ]
  },
  {
   "cell_type": "code",
   "execution_count": 334,
   "metadata": {},
   "outputs": [
    {
     "data": {
      "text/plain": [
       "1.5751297540106943"
      ]
     },
     "execution_count": 334,
     "metadata": {},
     "output_type": "execute_result"
    }
   ],
   "source": [
    "dpred = regr.predict(devset[feat_cols])\n",
    "mean_squared_error(devset[\"DistanceFloat\"], dpred)"
   ]
  },
  {
   "cell_type": "code",
   "execution_count": 335,
   "metadata": {},
   "outputs": [
    {
     "data": {
      "text/plain": [
       "(array([226., 133., 133., 117.,  77.,  88.,  71.,  53.,  33.,   4.]),\n",
       " array([1.55431223e-15, 3.09300000e-01, 6.18600000e-01, 9.27900000e-01,\n",
       "        1.23720000e+00, 1.54650000e+00, 1.85580000e+00, 2.16510000e+00,\n",
       "        2.47440000e+00, 2.78370000e+00, 3.09300000e+00]),\n",
       " <BarContainer object of 10 artists>)"
      ]
     },
     "execution_count": 335,
     "metadata": {},
     "output_type": "execute_result"
    },
    {
     "data": {
      "image/png": "[encoded data removed]",
      "text/plain": [
       "<Figure size 432x288 with 1 Axes>"
      ]
     },
     "metadata": {},
     "output_type": "display_data"
    }
   ],
   "source": [
    "plt.hist(abs(dpred - devset[\"DistanceFloat\"].values))"
   ]
  },
  {
   "cell_type": "code",
   "execution_count": 336,
   "metadata": {},
   "outputs": [
    {
     "name": "stderr",
     "output_type": "stream",
     "text": [
      "100%|██████████| 8423/8423 [00:09<00:00, 931.49it/s] \n",
      "Post-processing: zzzgwsci_tc4tl20.csv: 100%|██████████| 8423/8423 [00:11<00:00, 743.08it/s]\n"
     ]
    },
    {
     "data": {
      "text/plain": [
       "(array([2247., 1303., 1184.,  969.,  771.,  764.,  498.,  507.,  117.,\n",
       "          63.]),\n",
       " array([0.    , 0.3228, 0.6456, 0.9684, 1.2912, 1.614 , 1.9368, 2.2596,\n",
       "        2.5824, 2.9052, 3.228 ]),\n",
       " <BarContainer object of 10 artists>)"
      ]
     },
     "execution_count": 336,
     "metadata": {},
     "output_type": "execute_result"
    },
    {
     "data": {
      "image/png": "[encoded data removed]",
      "text/plain": [
       "<Figure size 432x288 with 1 Axes>"
      ]
     },
     "metadata": {},
     "output_type": "display_data"
    }
   ],
   "source": [
    "testset, _ = aggregate_features_from_folder(test_dir, test_key, feat_fn=radioprop.extract_features, pipe=pipe,\n",
    "                               postproc_fn=radioprop.postproc_feature_dicts, verbose=True, testing=False,\n",
    "                               tunables=hyperparams)\n",
    "tpred = regr.predict(testset[feat_cols])\n",
    "mse = mean_squared_error(testset['DistanceFloat'], tpred)\n",
    "plt.hist(abs(tpred - testset[\"DistanceFloat\"].values))"
   ]
  },
  {
   "cell_type": "code",
   "execution_count": 337,
   "metadata": {},
   "outputs": [
    {
     "data": {
      "text/plain": [
       "1.5441032446871654"
      ]
     },
     "execution_count": 337,
     "metadata": {},
     "output_type": "execute_result"
    }
   ],
   "source": [
    "mse"
   ]
  },
  {
   "cell_type": "markdown",
   "metadata": {},
   "source": [
    "## Hyperparameter Search"
   ]
  },
  {
   "cell_type": "code",
   "execution_count": 352,
   "metadata": {},
   "outputs": [],
   "source": [
    "from hyperopt import hp, tpe, fmin\n",
    "\n",
    "hyperparams = {\n",
    "    \"LinearApprox\": {\"TX\": -61.02, \"N\": 2.187},\n",
    "    \"Friis\": dict(Pt_dBm=0., Gt_dBi=1., Gr_dBi=1., f=2.4e9, L=1., n=2.),\n",
    "    \"LogNormal\": dict(Pt_dBm=-20., Gt_dBi=1., Gr_dBi=1.,\n",
    "                      f=2.4e9, d0=1., L=1., n=2)\n",
    "}\n",
    "\n",
    "hparam_space = {\n",
    "    \"LinearApprox\" : {\n",
    "        \"TX\" : hp.uniform(\"LinearApprox.TX\", -20, 20),\n",
    "        \"N\"  : hp.uniform(\"LinearApprox.N\", 0.5, 7.5)\n",
    "    },\n",
    "    \"Friis\" : dict(\n",
    "        Pt_dBm= hp.uniform(\"Friis.Pt_dBm\", -20, 20),\n",
    "        Gt_dBi= hp.uniform(\"Friis.Gt_dBi\", -10, 10),\n",
    "        Gr_dBi= hp.uniform(\"Friis.Gr_dBi\", -10, 10),\n",
    "        f=hp.uniform(\"Friis.f\", 2.402e9, 2.480e9),\n",
    "        L=hp.uniform(\"Friis.L\", 0.5, 2.5),\n",
    "        n=hp.uniform(\"Friis.n\", 0.5, 7.5)\n",
    "    ),\n",
    "    \"LogNormal\" : dict(   \n",
    "        Pt_dBm= hp.uniform(\"LogNormal.Pt_dBm\", -20, 20),\n",
    "        Gt_dBi= hp.uniform(\"LogNormal.Gt_dBi\", -10, 10),\n",
    "        Gr_dBi= hp.uniform(\"LogNormal.Gr_dBi\", -10, 10),\n",
    "        f=hp.uniform(\"LogNormal.f\", 2.402e9, 2.480e9),\n",
    "        L=hp.uniform(\"LogNormal.L\", 0.5, 2.5),\n",
    "        n=hp.uniform(\"LogNormal.n\", 0.5, 7.5)\n",
    "    )\n",
    "}"
   ]
  },
  {
   "cell_type": "code",
   "execution_count": 370,
   "metadata": {},
   "outputs": [],
   "source": [
    "def evaluate_hparams(params, testing=3000, verbose=False):\n",
    "    trainset, pipe = aggregate_features_from_folder(train_dir, train_key, feat_fn=radioprop.extract_features,\n",
    "                               postproc_fn=radioprop.postproc_feature_dicts, verbose=verbose, testing=testing,\n",
    "                               tunables=params)\n",
    "    feat_cols = [col for col in trainset.columns if col != 'DistanceFloat' ]\n",
    "    X, y = trainset[feat_cols], trainset['DistanceFloat']\n",
    "    X_train, X_test, y_train, y_test = train_test_split(X, y, test_size=0.33)\n",
    "    regr = RandomForestRegressor()\n",
    "    regr.fit(X_train, y_train.values)\n",
    "    ypred = regr.predict(X_test)\n",
    "    return mean_squared_error(y_test, ypred)\n",
    "\n",
    "\n",
    "def make_trainset(params, testing, verbose):\n",
    "    trainset, pipe = aggregate_features_from_folder(train_dir, train_key, feat_fn=radioprop.extract_features,\n",
    "                           postproc_fn=radioprop.postproc_feature_dicts, verbose=verbose, testing=testing,\n",
    "                           tunables=params)\n",
    "    return trainset, pipe"
   ]
  },
  {
   "cell_type": "code",
   "execution_count": 364,
   "metadata": {},
   "outputs": [
    {
     "name": "stdout",
     "output_type": "stream",
     "text": [
      "100%|██████████| 50/50 [05:51<00:00,  7.02s/trial, best loss: 0.5471113727272728]\n"
     ]
    }
   ],
   "source": [
    "best_params = fmin(evaluate_hparams, space=hparam_space, algo=tpe.suggest, max_evals=50)"
   ]
  },
  {
   "cell_type": "code",
   "execution_count": 365,
   "metadata": {},
   "outputs": [
    {
     "data": {
      "text/plain": [
       "{'Friis.Gr_dBi': -3.464561870341017,\n",
       " 'Friis.Gt_dBi': 0.20597726357898227,\n",
       " 'Friis.L': 2.1516474937337478,\n",
       " 'Friis.Pt_dBm': 17.87357752441881,\n",
       " 'Friis.f': 2403652319.6880946,\n",
       " 'Friis.n': 2.930021915116384,\n",
       " 'LinearApprox.N': 2.915682422144732,\n",
       " 'LinearApprox.TX': 11.682119667187617,\n",
       " 'LogNormal.Gr_dBi': -5.125678676280162,\n",
       " 'LogNormal.Gt_dBi': -4.108101510558816,\n",
       " 'LogNormal.L': 0.7656207801852686,\n",
       " 'LogNormal.Pt_dBm': -1.8532796868212498,\n",
       " 'LogNormal.f': 2463516474.7305307,\n",
       " 'LogNormal.n': 3.7519240746066163}"
      ]
     },
     "execution_count": 365,
     "metadata": {},
     "output_type": "execute_result"
    }
   ],
   "source": [
    "best_params"
   ]
  },
  {
   "cell_type": "code",
   "execution_count": 366,
   "metadata": {},
   "outputs": [
    {
     "data": {
      "text/plain": [
       "{'Friis': {'Gr_dBi': -3.464561870341017,\n",
       "  'Gt_dBi': 0.20597726357898227,\n",
       "  'L': 2.1516474937337478,\n",
       "  'Pt_dBm': 17.87357752441881,\n",
       "  'f': 2403652319.6880946,\n",
       "  'n': 2.930021915116384},\n",
       " 'LinearApprox': {'N': 2.915682422144732, 'TX': 11.682119667187617},\n",
       " 'LogNormal': {'Gr_dBi': -5.125678676280162,\n",
       "  'Gt_dBi': -4.108101510558816,\n",
       "  'L': 0.7656207801852686,\n",
       "  'Pt_dBm': -1.8532796868212498,\n",
       "  'f': 2463516474.7305307,\n",
       "  'n': 3.7519240746066163}}"
      ]
     },
     "execution_count": 366,
     "metadata": {},
     "output_type": "execute_result"
    }
   ],
   "source": [
    "from src.features.radioprop import compress_hyperparams\n",
    "\n",
    "tunables = compress_hyperparams(best_params)\n",
    "tunables"
   ]
  },
  {
   "cell_type": "code",
   "execution_count": 369,
   "metadata": {},
   "outputs": [
    {
     "data": {
      "text/plain": [
       "0.648850509090909"
      ]
     },
     "execution_count": 369,
     "metadata": {},
     "output_type": "execute_result"
    }
   ],
   "source": [
    "evaluate_hparams(tunables, testing=0)"
   ]
  },
  {
   "cell_type": "markdown",
   "metadata": {},
   "source": [
    "## Evaluate on Dev/Test sets after Tuning"
   ]
  },
  {
   "cell_type": "code",
   "execution_count": 372,
   "metadata": {},
   "outputs": [
    {
     "name": "stderr",
     "output_type": "stream",
     "text": [
      "100%|██████████| 15552/15552 [00:18<00:00, 861.84it/s]\n",
      "Post-processing: zzzjbxhg_tc4tl20.csv: 100%|██████████| 15552/15552 [00:20<00:00, 746.16it/s]\n"
     ]
    },
    {
     "data": {
      "text/plain": [
       "RandomForestRegressor()"
      ]
     },
     "execution_count": 372,
     "metadata": {},
     "output_type": "execute_result"
    }
   ],
   "source": [
    "trainset, pipe = aggregate_features_from_folder(train_dir, train_key, feat_fn=radioprop.extract_features,\n",
    "                               postproc_fn=radioprop.postproc_feature_dicts, verbose=True, testing=0,\n",
    "                               tunables=tunables)\n",
    "feat_cols = [col for col in trainset.columns if col != 'DistanceFloat' ]\n",
    "X, y = trainset[feat_cols], trainset['DistanceFloat']\n",
    "#X_train, X_test, y_train, y_test = train_test_split(X, y, test_size=0.33)"
   ]
  },
  {
   "cell_type": "code",
   "execution_count": 374,
   "metadata": {},
   "outputs": [
    {
     "data": {
      "text/plain": [
       "RandomForestRegressor()"
      ]
     },
     "execution_count": 374,
     "metadata": {},
     "output_type": "execute_result"
    }
   ],
   "source": [
    "regr = RandomForestRegressor()\n",
    "regr.fit(X, y)"
   ]
  },
  {
   "cell_type": "code",
   "execution_count": 380,
   "metadata": {},
   "outputs": [
    {
     "data": {
      "text/plain": [
       "0.04696227777777795"
      ]
     },
     "execution_count": 380,
     "metadata": {},
     "output_type": "execute_result"
    }
   ],
   "source": [
    "trpred = regr.predict(trainset[feat_cols])\n",
    "mean_squared_error(trainset[\"DistanceFloat\"], trpred)"
   ]
  },
  {
   "cell_type": "code",
   "execution_count": 382,
   "metadata": {},
   "outputs": [
    {
     "name": "stderr",
     "output_type": "stream",
     "text": [
      "100%|██████████| 935/935 [00:01<00:00, 851.46it/s]\n",
      "Post-processing: zzxttrqc_tc4tl20.csv: 100%|██████████| 935/935 [00:01<00:00, 604.08it/s]\n"
     ]
    },
    {
     "data": {
      "text/plain": [
       "1.4419072684491976"
      ]
     },
     "execution_count": 382,
     "metadata": {},
     "output_type": "execute_result"
    }
   ],
   "source": [
    "devset, _ = aggregate_features_from_folder(dev_dir, dev_key, feat_fn=radioprop.extract_features,\n",
    "                               postproc_fn=radioprop.postproc_feature_dicts, verbose=True, testing=0,\n",
    "                               tunables=tunables, pipe=pipe)\n",
    "dpred = regr.predict(devset[feat_cols])\n",
    "mean_squared_error(devset[\"DistanceFloat\"], dpred)"
   ]
  },
  {
   "cell_type": "code",
   "execution_count": 383,
   "metadata": {},
   "outputs": [
    {
     "name": "stderr",
     "output_type": "stream",
     "text": [
      "100%|██████████| 8423/8423 [00:09<00:00, 925.16it/s]\n",
      "Post-processing: zzzgwsci_tc4tl20.csv: 100%|██████████| 8423/8423 [00:11<00:00, 754.14it/s]\n"
     ]
    },
    {
     "data": {
      "text/plain": [
       "1.515745620918912"
      ]
     },
     "execution_count": 383,
     "metadata": {},
     "output_type": "execute_result"
    }
   ],
   "source": [
    "testset, _ = aggregate_features_from_folder(test_dir, test_key, feat_fn=radioprop.extract_features,\n",
    "                               postproc_fn=radioprop.postproc_feature_dicts, verbose=True, testing=0,\n",
    "                               tunables=tunables, pipe=pipe)\n",
    "\n",
    "tpred = regr.predict(testset[feat_cols])\n",
    "mean_squared_error(testset[\"DistanceFloat\"], tpred)"
   ]
  },
  {
   "cell_type": "markdown",
   "metadata": {},
   "source": [
    "## Evaluate on Dev/Test sets before Tuning"
   ]
  },
  {
   "cell_type": "code",
   "execution_count": 384,
   "metadata": {},
   "outputs": [
    {
     "data": {
      "text/plain": [
       "{'LinearApprox': {'TX': -61.02, 'N': 2.187},\n",
       " 'Friis': {'Pt_dBm': 0.0,\n",
       "  'Gt_dBi': 1.0,\n",
       "  'Gr_dBi': 1.0,\n",
       "  'f': 2400000000.0,\n",
       "  'L': 1.0,\n",
       "  'n': 2.0},\n",
       " 'LogNormal': {'Pt_dBm': -20.0,\n",
       "  'Gt_dBi': 1.0,\n",
       "  'Gr_dBi': 1.0,\n",
       "  'f': 2400000000.0,\n",
       "  'd0': 1.0,\n",
       "  'L': 1.0,\n",
       "  'n': 2}}"
      ]
     },
     "execution_count": 384,
     "metadata": {},
     "output_type": "execute_result"
    }
   ],
   "source": [
    "hyperparams"
   ]
  },
  {
   "cell_type": "code",
   "execution_count": 385,
   "metadata": {},
   "outputs": [
    {
     "name": "stderr",
     "output_type": "stream",
     "text": [
      "100%|██████████| 15552/15552 [00:18<00:00, 848.93it/s]\n",
      "Post-processing: zzzjbxhg_tc4tl20.csv: 100%|██████████| 15552/15552 [00:21<00:00, 724.19it/s]\n"
     ]
    }
   ],
   "source": [
    "trainset, pipe = aggregate_features_from_folder(train_dir, train_key, feat_fn=radioprop.extract_features,\n",
    "                               postproc_fn=radioprop.postproc_feature_dicts, verbose=True, testing=0,\n",
    "                               tunables=hyperparams)\n",
    "feat_cols = [col for col in trainset.columns if col != 'DistanceFloat' ]\n",
    "X, y = trainset[feat_cols], trainset['DistanceFloat']"
   ]
  },
  {
   "cell_type": "code",
   "execution_count": 386,
   "metadata": {},
   "outputs": [
    {
     "data": {
      "text/plain": [
       "0.04596780381944461"
      ]
     },
     "execution_count": 386,
     "metadata": {},
     "output_type": "execute_result"
    }
   ],
   "source": [
    "regr = RandomForestRegressor()\n",
    "regr.fit(X, y)\n",
    "trpred = regr.predict(trainset[feat_cols])\n",
    "mean_squared_error(trainset[\"DistanceFloat\"], trpred)"
   ]
  },
  {
   "cell_type": "code",
   "execution_count": 387,
   "metadata": {},
   "outputs": [
    {
     "name": "stderr",
     "output_type": "stream",
     "text": [
      "100%|██████████| 935/935 [00:01<00:00, 892.18it/s]\n",
      "Post-processing: zzxttrqc_tc4tl20.csv: 100%|██████████| 935/935 [00:01<00:00, 642.51it/s]\n"
     ]
    },
    {
     "data": {
      "text/plain": [
       "1.4723581475935825"
      ]
     },
     "execution_count": 387,
     "metadata": {},
     "output_type": "execute_result"
    }
   ],
   "source": [
    "devset, _ = aggregate_features_from_folder(dev_dir, dev_key, feat_fn=radioprop.extract_features,\n",
    "                               postproc_fn=radioprop.postproc_feature_dicts, verbose=True, testing=0,\n",
    "                               tunables=hyperparams, pipe=pipe)\n",
    "dpred = regr.predict(devset[feat_cols])\n",
    "mean_squared_error(devset[\"DistanceFloat\"], dpred)"
   ]
  },
  {
   "cell_type": "code",
   "execution_count": 388,
   "metadata": {},
   "outputs": [
    {
     "name": "stderr",
     "output_type": "stream",
     "text": [
      "100%|██████████| 8423/8423 [00:09<00:00, 919.44it/s] \n",
      "Post-processing: zzzgwsci_tc4tl20.csv: 100%|██████████| 8423/8423 [00:11<00:00, 741.31it/s]\n"
     ]
    },
    {
     "data": {
      "text/plain": [
       "1.5488662096640147"
      ]
     },
     "execution_count": 388,
     "metadata": {},
     "output_type": "execute_result"
    }
   ],
   "source": [
    "testset, _ = aggregate_features_from_folder(test_dir, test_key, feat_fn=radioprop.extract_features,\n",
    "                               postproc_fn=radioprop.postproc_feature_dicts, verbose=True, testing=0,\n",
    "                               tunables=hyperparams, pipe=pipe)\n",
    "\n",
    "tpred = regr.predict(testset[feat_cols])\n",
    "mean_squared_error(testset[\"DistanceFloat\"], tpred)"
   ]
  }
 ],
 "metadata": {
  "kernelspec": {
   "display_name": "Python 3",
   "language": "python",
   "name": "python3"
  },
  "language_info": {
   "codemirror_mode": {
    "name": "ipython",
    "version": 3
   },
   "file_extension": ".py",
   "mimetype": "text/x-python",
   "name": "python",
   "nbconvert_exporter": "python",
   "pygments_lexer": "ipython3",
   "version": "3.6.9"
  }
 },
 "nbformat": 4,
 "nbformat_minor": 4
}
